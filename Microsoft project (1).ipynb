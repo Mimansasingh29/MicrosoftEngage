{
 "cells": [
  {
   "cell_type": "code",
   "execution_count": 1,
   "id": "11d11df5",
   "metadata": {},
   "outputs": [],
   "source": [
    "import pandas as pd\n",
    "import numpy as np\n",
    "import matplotlib.pyplot as plt\n",
    "import seaborn as sns\n",
    "import plotly.express as px\n",
    "import plotly.graph_objects as go\n",
    "from mpl_toolkits import mplot3d"
   ]
  },
  {
   "cell_type": "code",
   "execution_count": 2,
   "id": "b694d6e2",
   "metadata": {},
   "outputs": [],
   "source": [
    "df = pd.read_csv(r\"C:\\Users\\HP\\Downloads\\cars_engage_2022.csv\")"
   ]
  },
  {
   "cell_type": "code",
   "execution_count": 3,
   "id": "6e14cd36",
   "metadata": {},
   "outputs": [
    {
     "data": {
      "text/html": [
       "<div>\n",
       "<style scoped>\n",
       "    .dataframe tbody tr th:only-of-type {\n",
       "        vertical-align: middle;\n",
       "    }\n",
       "\n",
       "    .dataframe tbody tr th {\n",
       "        vertical-align: top;\n",
       "    }\n",
       "\n",
       "    .dataframe thead th {\n",
       "        text-align: right;\n",
       "    }\n",
       "</style>\n",
       "<table border=\"1\" class=\"dataframe\">\n",
       "  <thead>\n",
       "    <tr style=\"text-align: right;\">\n",
       "      <th></th>\n",
       "      <th>Unnamed: 0</th>\n",
       "      <th>Make</th>\n",
       "      <th>Model</th>\n",
       "      <th>Variant</th>\n",
       "      <th>Ex-Showroom_Price</th>\n",
       "      <th>Displacement</th>\n",
       "      <th>Cylinders</th>\n",
       "      <th>Valves_Per_Cylinder</th>\n",
       "      <th>Drivetrain</th>\n",
       "      <th>Cylinder_Configuration</th>\n",
       "      <th>...</th>\n",
       "      <th>Leather_Wrapped_Steering</th>\n",
       "      <th>Automatic_Headlamps</th>\n",
       "      <th>Engine_Type</th>\n",
       "      <th>ASR_/_Traction_Control</th>\n",
       "      <th>Cruise_Control</th>\n",
       "      <th>USB_Ports</th>\n",
       "      <th>Heads-Up_Display</th>\n",
       "      <th>Welcome_Lights</th>\n",
       "      <th>Battery</th>\n",
       "      <th>Electric_Range</th>\n",
       "    </tr>\n",
       "  </thead>\n",
       "  <tbody>\n",
       "    <tr>\n",
       "      <th>0</th>\n",
       "      <td>0</td>\n",
       "      <td>Tata</td>\n",
       "      <td>Nano Genx</td>\n",
       "      <td>Xt</td>\n",
       "      <td>Rs. 2,92,667</td>\n",
       "      <td>624 cc</td>\n",
       "      <td>2.0</td>\n",
       "      <td>2.0</td>\n",
       "      <td>RWD (Rear Wheel Drive)</td>\n",
       "      <td>In-line</td>\n",
       "      <td>...</td>\n",
       "      <td>NaN</td>\n",
       "      <td>NaN</td>\n",
       "      <td>NaN</td>\n",
       "      <td>NaN</td>\n",
       "      <td>NaN</td>\n",
       "      <td>NaN</td>\n",
       "      <td>NaN</td>\n",
       "      <td>NaN</td>\n",
       "      <td>NaN</td>\n",
       "      <td>NaN</td>\n",
       "    </tr>\n",
       "    <tr>\n",
       "      <th>1</th>\n",
       "      <td>1</td>\n",
       "      <td>Tata</td>\n",
       "      <td>Nano Genx</td>\n",
       "      <td>Xe</td>\n",
       "      <td>Rs. 2,36,447</td>\n",
       "      <td>624 cc</td>\n",
       "      <td>2.0</td>\n",
       "      <td>2.0</td>\n",
       "      <td>RWD (Rear Wheel Drive)</td>\n",
       "      <td>In-line</td>\n",
       "      <td>...</td>\n",
       "      <td>NaN</td>\n",
       "      <td>NaN</td>\n",
       "      <td>NaN</td>\n",
       "      <td>NaN</td>\n",
       "      <td>NaN</td>\n",
       "      <td>NaN</td>\n",
       "      <td>NaN</td>\n",
       "      <td>NaN</td>\n",
       "      <td>NaN</td>\n",
       "      <td>NaN</td>\n",
       "    </tr>\n",
       "    <tr>\n",
       "      <th>2</th>\n",
       "      <td>2</td>\n",
       "      <td>Tata</td>\n",
       "      <td>Nano Genx</td>\n",
       "      <td>Emax Xm</td>\n",
       "      <td>Rs. 2,96,661</td>\n",
       "      <td>624 cc</td>\n",
       "      <td>2.0</td>\n",
       "      <td>2.0</td>\n",
       "      <td>RWD (Rear Wheel Drive)</td>\n",
       "      <td>In-line</td>\n",
       "      <td>...</td>\n",
       "      <td>NaN</td>\n",
       "      <td>NaN</td>\n",
       "      <td>NaN</td>\n",
       "      <td>NaN</td>\n",
       "      <td>NaN</td>\n",
       "      <td>NaN</td>\n",
       "      <td>NaN</td>\n",
       "      <td>NaN</td>\n",
       "      <td>NaN</td>\n",
       "      <td>NaN</td>\n",
       "    </tr>\n",
       "    <tr>\n",
       "      <th>3</th>\n",
       "      <td>3</td>\n",
       "      <td>Tata</td>\n",
       "      <td>Nano Genx</td>\n",
       "      <td>Xta</td>\n",
       "      <td>Rs. 3,34,768</td>\n",
       "      <td>624 cc</td>\n",
       "      <td>2.0</td>\n",
       "      <td>2.0</td>\n",
       "      <td>RWD (Rear Wheel Drive)</td>\n",
       "      <td>In-line</td>\n",
       "      <td>...</td>\n",
       "      <td>NaN</td>\n",
       "      <td>NaN</td>\n",
       "      <td>NaN</td>\n",
       "      <td>NaN</td>\n",
       "      <td>NaN</td>\n",
       "      <td>NaN</td>\n",
       "      <td>NaN</td>\n",
       "      <td>NaN</td>\n",
       "      <td>NaN</td>\n",
       "      <td>NaN</td>\n",
       "    </tr>\n",
       "    <tr>\n",
       "      <th>4</th>\n",
       "      <td>4</td>\n",
       "      <td>Tata</td>\n",
       "      <td>Nano Genx</td>\n",
       "      <td>Xm</td>\n",
       "      <td>Rs. 2,72,223</td>\n",
       "      <td>624 cc</td>\n",
       "      <td>2.0</td>\n",
       "      <td>2.0</td>\n",
       "      <td>RWD (Rear Wheel Drive)</td>\n",
       "      <td>In-line</td>\n",
       "      <td>...</td>\n",
       "      <td>NaN</td>\n",
       "      <td>NaN</td>\n",
       "      <td>NaN</td>\n",
       "      <td>NaN</td>\n",
       "      <td>NaN</td>\n",
       "      <td>NaN</td>\n",
       "      <td>NaN</td>\n",
       "      <td>NaN</td>\n",
       "      <td>NaN</td>\n",
       "      <td>NaN</td>\n",
       "    </tr>\n",
       "    <tr>\n",
       "      <th>...</th>\n",
       "      <td>...</td>\n",
       "      <td>...</td>\n",
       "      <td>...</td>\n",
       "      <td>...</td>\n",
       "      <td>...</td>\n",
       "      <td>...</td>\n",
       "      <td>...</td>\n",
       "      <td>...</td>\n",
       "      <td>...</td>\n",
       "      <td>...</td>\n",
       "      <td>...</td>\n",
       "      <td>...</td>\n",
       "      <td>...</td>\n",
       "      <td>...</td>\n",
       "      <td>...</td>\n",
       "      <td>...</td>\n",
       "      <td>...</td>\n",
       "      <td>...</td>\n",
       "      <td>...</td>\n",
       "      <td>...</td>\n",
       "      <td>...</td>\n",
       "    </tr>\n",
       "    <tr>\n",
       "      <th>1271</th>\n",
       "      <td>1271</td>\n",
       "      <td>Honda</td>\n",
       "      <td>City</td>\n",
       "      <td>Vx Mt Diesel</td>\n",
       "      <td>Rs. 13,02,000</td>\n",
       "      <td>1498 cc</td>\n",
       "      <td>4.0</td>\n",
       "      <td>4.0</td>\n",
       "      <td>FWD (Front Wheel Drive)</td>\n",
       "      <td>In-line</td>\n",
       "      <td>...</td>\n",
       "      <td>Yes</td>\n",
       "      <td>NaN</td>\n",
       "      <td>NaN</td>\n",
       "      <td>NaN</td>\n",
       "      <td>Yes</td>\n",
       "      <td>NaN</td>\n",
       "      <td>NaN</td>\n",
       "      <td>NaN</td>\n",
       "      <td>NaN</td>\n",
       "      <td>NaN</td>\n",
       "    </tr>\n",
       "    <tr>\n",
       "      <th>1272</th>\n",
       "      <td>1272</td>\n",
       "      <td>Honda</td>\n",
       "      <td>City</td>\n",
       "      <td>Zx Mt Diesel</td>\n",
       "      <td>Rs. 14,21,000</td>\n",
       "      <td>1498 cc</td>\n",
       "      <td>4.0</td>\n",
       "      <td>4.0</td>\n",
       "      <td>FWD (Front Wheel Drive)</td>\n",
       "      <td>In-line</td>\n",
       "      <td>...</td>\n",
       "      <td>Yes</td>\n",
       "      <td>Yes</td>\n",
       "      <td>NaN</td>\n",
       "      <td>NaN</td>\n",
       "      <td>Yes</td>\n",
       "      <td>NaN</td>\n",
       "      <td>NaN</td>\n",
       "      <td>NaN</td>\n",
       "      <td>NaN</td>\n",
       "      <td>NaN</td>\n",
       "    </tr>\n",
       "    <tr>\n",
       "      <th>1273</th>\n",
       "      <td>1273</td>\n",
       "      <td>Honda</td>\n",
       "      <td>City</td>\n",
       "      <td>Zx Cvt Petrol</td>\n",
       "      <td>Rs. 14,31,000</td>\n",
       "      <td>1497 cc</td>\n",
       "      <td>4.0</td>\n",
       "      <td>4.0</td>\n",
       "      <td>FWD (Front Wheel Drive)</td>\n",
       "      <td>In-line</td>\n",
       "      <td>...</td>\n",
       "      <td>Yes</td>\n",
       "      <td>Yes</td>\n",
       "      <td>NaN</td>\n",
       "      <td>NaN</td>\n",
       "      <td>Yes</td>\n",
       "      <td>NaN</td>\n",
       "      <td>NaN</td>\n",
       "      <td>NaN</td>\n",
       "      <td>NaN</td>\n",
       "      <td>NaN</td>\n",
       "    </tr>\n",
       "    <tr>\n",
       "      <th>1274</th>\n",
       "      <td>1274</td>\n",
       "      <td>Honda</td>\n",
       "      <td>City</td>\n",
       "      <td>V Cvt Petrol</td>\n",
       "      <td>Rs. 12,01,000</td>\n",
       "      <td>1497 cc</td>\n",
       "      <td>4.0</td>\n",
       "      <td>4.0</td>\n",
       "      <td>FWD (Front Wheel Drive)</td>\n",
       "      <td>In-line</td>\n",
       "      <td>...</td>\n",
       "      <td>NaN</td>\n",
       "      <td>NaN</td>\n",
       "      <td>NaN</td>\n",
       "      <td>NaN</td>\n",
       "      <td>Yes</td>\n",
       "      <td>NaN</td>\n",
       "      <td>NaN</td>\n",
       "      <td>NaN</td>\n",
       "      <td>NaN</td>\n",
       "      <td>NaN</td>\n",
       "    </tr>\n",
       "    <tr>\n",
       "      <th>1275</th>\n",
       "      <td>1275</td>\n",
       "      <td>Mitsubishi</td>\n",
       "      <td>Montero</td>\n",
       "      <td>3.2 At</td>\n",
       "      <td>Rs. 68,62,560</td>\n",
       "      <td>3200 cc</td>\n",
       "      <td>4.0</td>\n",
       "      <td>4.0</td>\n",
       "      <td>AWD (All Wheel Drive)</td>\n",
       "      <td>In-line</td>\n",
       "      <td>...</td>\n",
       "      <td>Yes</td>\n",
       "      <td>NaN</td>\n",
       "      <td>NaN</td>\n",
       "      <td>Yes</td>\n",
       "      <td>Yes</td>\n",
       "      <td>NaN</td>\n",
       "      <td>NaN</td>\n",
       "      <td>NaN</td>\n",
       "      <td>NaN</td>\n",
       "      <td>NaN</td>\n",
       "    </tr>\n",
       "  </tbody>\n",
       "</table>\n",
       "<p>1276 rows × 141 columns</p>\n",
       "</div>"
      ],
      "text/plain": [
       "      Unnamed: 0        Make      Model        Variant Ex-Showroom_Price  \\\n",
       "0              0        Tata  Nano Genx             Xt      Rs. 2,92,667   \n",
       "1              1        Tata  Nano Genx             Xe      Rs. 2,36,447   \n",
       "2              2        Tata  Nano Genx        Emax Xm      Rs. 2,96,661   \n",
       "3              3        Tata  Nano Genx            Xta      Rs. 3,34,768   \n",
       "4              4        Tata  Nano Genx             Xm      Rs. 2,72,223   \n",
       "...          ...         ...        ...            ...               ...   \n",
       "1271        1271       Honda       City   Vx Mt Diesel     Rs. 13,02,000   \n",
       "1272        1272       Honda       City   Zx Mt Diesel     Rs. 14,21,000   \n",
       "1273        1273       Honda       City  Zx Cvt Petrol     Rs. 14,31,000   \n",
       "1274        1274       Honda       City   V Cvt Petrol     Rs. 12,01,000   \n",
       "1275        1275  Mitsubishi    Montero         3.2 At     Rs. 68,62,560   \n",
       "\n",
       "     Displacement  Cylinders  Valves_Per_Cylinder               Drivetrain  \\\n",
       "0          624 cc        2.0                  2.0   RWD (Rear Wheel Drive)   \n",
       "1          624 cc        2.0                  2.0   RWD (Rear Wheel Drive)   \n",
       "2          624 cc        2.0                  2.0   RWD (Rear Wheel Drive)   \n",
       "3          624 cc        2.0                  2.0   RWD (Rear Wheel Drive)   \n",
       "4          624 cc        2.0                  2.0   RWD (Rear Wheel Drive)   \n",
       "...           ...        ...                  ...                      ...   \n",
       "1271      1498 cc        4.0                  4.0  FWD (Front Wheel Drive)   \n",
       "1272      1498 cc        4.0                  4.0  FWD (Front Wheel Drive)   \n",
       "1273      1497 cc        4.0                  4.0  FWD (Front Wheel Drive)   \n",
       "1274      1497 cc        4.0                  4.0  FWD (Front Wheel Drive)   \n",
       "1275      3200 cc        4.0                  4.0    AWD (All Wheel Drive)   \n",
       "\n",
       "     Cylinder_Configuration  ... Leather_Wrapped_Steering Automatic_Headlamps  \\\n",
       "0                   In-line  ...                      NaN                 NaN   \n",
       "1                   In-line  ...                      NaN                 NaN   \n",
       "2                   In-line  ...                      NaN                 NaN   \n",
       "3                   In-line  ...                      NaN                 NaN   \n",
       "4                   In-line  ...                      NaN                 NaN   \n",
       "...                     ...  ...                      ...                 ...   \n",
       "1271                In-line  ...                      Yes                 NaN   \n",
       "1272                In-line  ...                      Yes                 Yes   \n",
       "1273                In-line  ...                      Yes                 Yes   \n",
       "1274                In-line  ...                      NaN                 NaN   \n",
       "1275                In-line  ...                      Yes                 NaN   \n",
       "\n",
       "     Engine_Type ASR_/_Traction_Control Cruise_Control USB_Ports  \\\n",
       "0            NaN                    NaN            NaN       NaN   \n",
       "1            NaN                    NaN            NaN       NaN   \n",
       "2            NaN                    NaN            NaN       NaN   \n",
       "3            NaN                    NaN            NaN       NaN   \n",
       "4            NaN                    NaN            NaN       NaN   \n",
       "...          ...                    ...            ...       ...   \n",
       "1271         NaN                    NaN            Yes       NaN   \n",
       "1272         NaN                    NaN            Yes       NaN   \n",
       "1273         NaN                    NaN            Yes       NaN   \n",
       "1274         NaN                    NaN            Yes       NaN   \n",
       "1275         NaN                    Yes            Yes       NaN   \n",
       "\n",
       "     Heads-Up_Display Welcome_Lights Battery  Electric_Range  \n",
       "0                 NaN            NaN     NaN             NaN  \n",
       "1                 NaN            NaN     NaN             NaN  \n",
       "2                 NaN            NaN     NaN             NaN  \n",
       "3                 NaN            NaN     NaN             NaN  \n",
       "4                 NaN            NaN     NaN             NaN  \n",
       "...               ...            ...     ...             ...  \n",
       "1271              NaN            NaN     NaN             NaN  \n",
       "1272              NaN            NaN     NaN             NaN  \n",
       "1273              NaN            NaN     NaN             NaN  \n",
       "1274              NaN            NaN     NaN             NaN  \n",
       "1275              NaN            NaN     NaN             NaN  \n",
       "\n",
       "[1276 rows x 141 columns]"
      ]
     },
     "execution_count": 3,
     "metadata": {},
     "output_type": "execute_result"
    }
   ],
   "source": [
    "df"
   ]
  },
  {
   "cell_type": "code",
   "execution_count": 4,
   "id": "58feeed6",
   "metadata": {},
   "outputs": [
    {
     "name": "stdout",
     "output_type": "stream",
     "text": [
      "<class 'pandas.core.frame.DataFrame'>\n",
      "RangeIndex: 1276 entries, 0 to 1275\n",
      "Columns: 141 entries, Unnamed: 0 to Electric_Range\n",
      "dtypes: float64(6), int64(1), object(134)\n",
      "memory usage: 1.4+ MB\n"
     ]
    }
   ],
   "source": [
    "df.info()"
   ]
  },
  {
   "cell_type": "code",
   "execution_count": 5,
   "id": "96078b31",
   "metadata": {},
   "outputs": [
    {
     "data": {
      "text/html": [
       "<div>\n",
       "<style scoped>\n",
       "    .dataframe tbody tr th:only-of-type {\n",
       "        vertical-align: middle;\n",
       "    }\n",
       "\n",
       "    .dataframe tbody tr th {\n",
       "        vertical-align: top;\n",
       "    }\n",
       "\n",
       "    .dataframe thead th {\n",
       "        text-align: right;\n",
       "    }\n",
       "</style>\n",
       "<table border=\"1\" class=\"dataframe\">\n",
       "  <thead>\n",
       "    <tr style=\"text-align: right;\">\n",
       "      <th></th>\n",
       "      <th>Unnamed: 0</th>\n",
       "      <th>Cylinders</th>\n",
       "      <th>Valves_Per_Cylinder</th>\n",
       "      <th>Doors</th>\n",
       "      <th>Seating_Capacity</th>\n",
       "      <th>Number_of_Airbags</th>\n",
       "      <th>USB_Ports</th>\n",
       "    </tr>\n",
       "  </thead>\n",
       "  <tbody>\n",
       "    <tr>\n",
       "      <th>count</th>\n",
       "      <td>1276.000000</td>\n",
       "      <td>1210.000000</td>\n",
       "      <td>1174.000000</td>\n",
       "      <td>1272.000000</td>\n",
       "      <td>1270.000000</td>\n",
       "      <td>1141.000000</td>\n",
       "      <td>29.000000</td>\n",
       "    </tr>\n",
       "    <tr>\n",
       "      <th>mean</th>\n",
       "      <td>637.500000</td>\n",
       "      <td>4.380992</td>\n",
       "      <td>3.977853</td>\n",
       "      <td>4.550314</td>\n",
       "      <td>5.270079</td>\n",
       "      <td>3.787029</td>\n",
       "      <td>1.793103</td>\n",
       "    </tr>\n",
       "    <tr>\n",
       "      <th>std</th>\n",
       "      <td>368.493781</td>\n",
       "      <td>1.660957</td>\n",
       "      <td>0.833763</td>\n",
       "      <td>0.747816</td>\n",
       "      <td>1.145231</td>\n",
       "      <td>2.522399</td>\n",
       "      <td>0.773642</td>\n",
       "    </tr>\n",
       "    <tr>\n",
       "      <th>min</th>\n",
       "      <td>0.000000</td>\n",
       "      <td>2.000000</td>\n",
       "      <td>1.000000</td>\n",
       "      <td>2.000000</td>\n",
       "      <td>2.000000</td>\n",
       "      <td>1.000000</td>\n",
       "      <td>1.000000</td>\n",
       "    </tr>\n",
       "    <tr>\n",
       "      <th>25%</th>\n",
       "      <td>318.750000</td>\n",
       "      <td>4.000000</td>\n",
       "      <td>4.000000</td>\n",
       "      <td>4.000000</td>\n",
       "      <td>5.000000</td>\n",
       "      <td>2.000000</td>\n",
       "      <td>1.000000</td>\n",
       "    </tr>\n",
       "    <tr>\n",
       "      <th>50%</th>\n",
       "      <td>637.500000</td>\n",
       "      <td>4.000000</td>\n",
       "      <td>4.000000</td>\n",
       "      <td>5.000000</td>\n",
       "      <td>5.000000</td>\n",
       "      <td>2.000000</td>\n",
       "      <td>2.000000</td>\n",
       "    </tr>\n",
       "    <tr>\n",
       "      <th>75%</th>\n",
       "      <td>956.250000</td>\n",
       "      <td>4.000000</td>\n",
       "      <td>4.000000</td>\n",
       "      <td>5.000000</td>\n",
       "      <td>5.000000</td>\n",
       "      <td>6.000000</td>\n",
       "      <td>2.000000</td>\n",
       "    </tr>\n",
       "    <tr>\n",
       "      <th>max</th>\n",
       "      <td>1275.000000</td>\n",
       "      <td>16.000000</td>\n",
       "      <td>16.000000</td>\n",
       "      <td>5.000000</td>\n",
       "      <td>16.000000</td>\n",
       "      <td>14.000000</td>\n",
       "      <td>3.000000</td>\n",
       "    </tr>\n",
       "  </tbody>\n",
       "</table>\n",
       "</div>"
      ],
      "text/plain": [
       "        Unnamed: 0    Cylinders  Valves_Per_Cylinder        Doors  \\\n",
       "count  1276.000000  1210.000000          1174.000000  1272.000000   \n",
       "mean    637.500000     4.380992             3.977853     4.550314   \n",
       "std     368.493781     1.660957             0.833763     0.747816   \n",
       "min       0.000000     2.000000             1.000000     2.000000   \n",
       "25%     318.750000     4.000000             4.000000     4.000000   \n",
       "50%     637.500000     4.000000             4.000000     5.000000   \n",
       "75%     956.250000     4.000000             4.000000     5.000000   \n",
       "max    1275.000000    16.000000            16.000000     5.000000   \n",
       "\n",
       "       Seating_Capacity  Number_of_Airbags  USB_Ports  \n",
       "count       1270.000000        1141.000000  29.000000  \n",
       "mean           5.270079           3.787029   1.793103  \n",
       "std            1.145231           2.522399   0.773642  \n",
       "min            2.000000           1.000000   1.000000  \n",
       "25%            5.000000           2.000000   1.000000  \n",
       "50%            5.000000           2.000000   2.000000  \n",
       "75%            5.000000           6.000000   2.000000  \n",
       "max           16.000000          14.000000   3.000000  "
      ]
     },
     "execution_count": 5,
     "metadata": {},
     "output_type": "execute_result"
    }
   ],
   "source": [
    "df.describe()"
   ]
  },
  {
   "cell_type": "code",
   "execution_count": 6,
   "id": "f6245e2b",
   "metadata": {},
   "outputs": [
    {
     "data": {
      "text/plain": [
       "Unnamed: 0              0\n",
       "Make                   75\n",
       "Model                   0\n",
       "Variant                 0\n",
       "Ex-Showroom_Price       0\n",
       "                     ... \n",
       "USB_Ports            1247\n",
       "Heads-Up_Display     1225\n",
       "Welcome_Lights       1207\n",
       "Battery              1263\n",
       "Electric_Range       1259\n",
       "Length: 141, dtype: int64"
      ]
     },
     "execution_count": 6,
     "metadata": {},
     "output_type": "execute_result"
    }
   ],
   "source": [
    "df.isna().sum()"
   ]
  },
  {
   "cell_type": "code",
   "execution_count": 7,
   "id": "34ac6769",
   "metadata": {},
   "outputs": [],
   "source": [
    "#replacing null value in Make with first name of model from a column named splitted model name\n",
    "df.insert(loc=1,\n",
    "          column='splitted_model',\n",
    "          value= df[\"Model\"].apply(lambda x: x.split()[0]))\n",
    "df[\"Make\"].fillna(df[\"splitted_model\"], inplace = True)"
   ]
  },
  {
   "cell_type": "code",
   "execution_count": 8,
   "id": "4a4f04f4",
   "metadata": {},
   "outputs": [],
   "source": [
    "# deleting the splitted column\n",
    "del df[\"splitted_model\"]"
   ]
  },
  {
   "cell_type": "code",
   "execution_count": 9,
   "id": "28814362",
   "metadata": {
    "scrolled": true
   },
   "outputs": [
    {
     "data": {
      "text/plain": [
       "Unnamed: 0              0\n",
       "Make                    0\n",
       "Model                   0\n",
       "Variant                 0\n",
       "Ex-Showroom_Price       0\n",
       "                     ... \n",
       "USB_Ports            1247\n",
       "Heads-Up_Display     1225\n",
       "Welcome_Lights       1207\n",
       "Battery              1263\n",
       "Electric_Range       1259\n",
       "Length: 141, dtype: int64"
      ]
     },
     "execution_count": 9,
     "metadata": {},
     "output_type": "execute_result"
    }
   ],
   "source": [
    " df.isna().sum()"
   ]
  },
  {
   "cell_type": "code",
   "execution_count": 10,
   "id": "15497b42",
   "metadata": {},
   "outputs": [],
   "source": [
    "#dropping useless columns\n",
    "df =df.drop(['Unnamed: 0','Auto-Dimming_Rear-View_Mirror', 'Hill_Assist', 'Gear_Indicator', '3_Point_Seat-Belt_in_Middle_Rear_Seat', 'Ambient_Lightning', 'Cargo/Boot_Lights', 'Drive_Modes', 'Engine_Immobilizer', 'High_Speed_Alert_System', 'Lane_Watch_Camera/_Side_Mirror_Camera', 'Passenger_Side_Seat-Belt_Reminder', 'Seat_Back_Pockets', 'Voice_Recognition', 'Walk_Away_Auto_Car_Lock', 'ABS_(Anti-lock_Braking_System)', 'Headlight_Reminder', 'Adjustable_Headrests', 'Gross_Vehicle_Weight', 'Airbags', 'Door_Ajar_Warning', 'EBD_(Electronic_Brake-force_Distribution)', 'Fasten_Seat_Belt_Warning', 'Gear_Shift_Reminder', 'Compression_Ratio', 'Adjustable_Steering_Column', 'Other_Specs', 'Other_specs', 'Parking_Assistance', 'Key_Off_Reminder', 'USB_Compatibility', 'Android_Auto', 'Apple_CarPlay', 'Cigarette_Lighter', 'Infotainment_Screen', 'Multifunction_Steering_Wheel', 'Average_Speed', 'EBA_(Electronic_Brake_Assist)', 'Seat_Height_Adjustment', 'Navigation_System', 'Second_Row_AC_Vents', 'Tyre_Pressure_Monitoring_System', 'Rear_Center_Armrest', 'iPod_Compatibility', 'ESP_(Electronic_Stability_Program)', 'Cooled_Glove_Box', 'Recommended_Tyre_Pressure', 'Heated_Seats', 'Turbocharger', 'ISOFIX_(Child-Seat_Mount)', 'Rain_Sensing_Wipers', 'Paddle_Shifters', 'Leather_Wrapped_Steering', 'Automatic_Headlamps', 'Engine_Type', 'ASR_/_Traction_Control', 'Cruise_Control', 'USB_Ports', 'Heads-Up_Display', 'Welcome_Lights', 'Battery', 'Electric_Range', 'Handbrake', 'Instrument_Console', 'Low_Fuel_Warning', 'Minimum_Turning_Radius', 'Multifunction_Display', 'Sun_Visor', 'Third_Row_AC_Vents', 'Ventilation_System', 'Central_Locking', 'Child_Safety_Locks', 'Clock', 'Cup_Holders', 'Distance_to_Empty', 'Door_Pockets', 'Engine_Malfunction_Light', 'Extended_Warranty', 'FM_Radio', 'Fuel-lid_Opener', 'CD_/_MP3_/_DVD_Player', 'Bluetooth', 'Boot-lid_Opener', 'Aux-in_Compatibility', 'Average_Fuel_Consumption', 'Start_/_Stop_Button', '12v_Power_Outlet', 'Power_Steering', 'Power_Windows', 'Power_Seats', 'Keyless_Entry'], axis=1)"
   ]
  },
  {
   "cell_type": "code",
   "execution_count": 11,
   "id": "794b5ca1",
   "metadata": {},
   "outputs": [
    {
     "data": {
      "text/plain": [
       "Make                                 0\n",
       "Model                                0\n",
       "Variant                              0\n",
       "Ex-Showroom_Price                    0\n",
       "Displacement                        12\n",
       "Cylinders                           66\n",
       "Valves_Per_Cylinder                102\n",
       "Drivetrain                           7\n",
       "Cylinder_Configuration              13\n",
       "Emission_Norm                       11\n",
       "Engine_Location                     43\n",
       "Fuel_System                          8\n",
       "Fuel_Tank_Capacity                  69\n",
       "Fuel_Type                            0\n",
       "Height                               1\n",
       "Length                               0\n",
       "Width                               12\n",
       "Body_Type                            6\n",
       "Doors                                4\n",
       "City_Mileage                       555\n",
       "Highway_Mileage                    800\n",
       "ARAI_Certified_Mileage             114\n",
       "ARAI_Certified_Mileage_for_CNG    1249\n",
       "Kerb_Weight                        365\n",
       "Gears                              105\n",
       "Ground_Clearance                   289\n",
       "Front_Brakes                        25\n",
       "Rear_Brakes                         25\n",
       "Front_Suspension                    59\n",
       "Rear_Suspension                     46\n",
       "Front_Track                        667\n",
       "Rear_Track                         676\n",
       "Front_Tyre_&_Rim                    49\n",
       "Rear_Tyre_&_Rim                     48\n",
       "Power                                0\n",
       "Torque                               2\n",
       "Odometer                            43\n",
       "Speedometer                         45\n",
       "Tachometer                          13\n",
       "Tripmeter                           60\n",
       "Seating_Capacity                     6\n",
       "Seats_Material                      12\n",
       "Type                                 1\n",
       "Wheelbase                           20\n",
       "Wheels_Size                         56\n",
       "Audiosystem                         44\n",
       "Basic_Warranty                     440\n",
       "Boot_Space                         249\n",
       "Fuel_Gauge                          39\n",
       "Number_of_Airbags                  135\n",
       "dtype: int64"
      ]
     },
     "execution_count": 11,
     "metadata": {},
     "output_type": "execute_result"
    }
   ],
   "source": [
    "df.isna().sum()"
   ]
  },
  {
   "cell_type": "code",
   "execution_count": 12,
   "id": "35c2fb8f",
   "metadata": {},
   "outputs": [],
   "source": [
    "#dropping null values of useful columns\n",
    "df = df.dropna(subset=['Width', 'Height', 'Wheelbase', 'Fuel_Tank_Capacity', 'Seating_Capacity', 'Torque', 'Drivetrain', 'Doors', 'Seating_Capacity', 'Number_of_Airbags','Cylinders', 'Displacement'])"
   ]
  },
  {
   "cell_type": "code",
   "execution_count": 13,
   "id": "3162cd0c",
   "metadata": {},
   "outputs": [],
   "source": [
    "#cleaning data to extract useful information\n",
    "df['Ex-Showroom_Price'] = df[\"Ex-Showroom_Price\"].apply(lambda x:int( x[4:].replace(',','')))\n",
    "df[\"Height\"] = df[\"Height\"].astype(str).apply(lambda x: x.replace(' mm','')).astype(float)\n",
    "df[\"Length\"] = df[\"Length\"].astype(str).apply(lambda x: x.replace(' mm','')).astype(float)\n",
    "df[\"Width\"] = df[\"Width\"].astype(str).apply(lambda x: x.replace(' mm','')).astype(float)\n",
    "df[\"Wheelbase\"] = df[\"Wheelbase\"].astype(str).apply(lambda x: x.replace(' mm','')).astype(float)\n",
    "df['Fuel_Tank_Capacity'] = df['Fuel_Tank_Capacity'].astype(str).apply(lambda x: x.replace(' litres','')).astype(float)\n",
    "df[\"Displacement\"] = df[\"Displacement\"].astype(str).apply(lambda x: x.replace(' cc','')).astype(float)\n",
    "\n",
    "df['Number_of_Airbags'] = df['Number_of_Airbags'].fillna(0)\n"
   ]
  },
  {
   "cell_type": "code",
   "execution_count": 14,
   "id": "c21524d2",
   "metadata": {},
   "outputs": [],
   "source": [
    "#dropping null values and converting it to integer\n",
    "df['Doors'] = df['Doors'].astype(int)\n",
    "df['Seating_Capacity'] = df['Seating_Capacity'].astype(int)\n",
    "df['Number_of_Airbags'] = df['Number_of_Airbags'].astype(int)\n",
    "df['Cylinders'] = df['Cylinders'].astype(int)\n",
    "df['Displacement'] = df['Displacement'].astype(int)\n"
   ]
  },
  {
   "cell_type": "code",
   "execution_count": 15,
   "id": "eb4a3017",
   "metadata": {
    "scrolled": true
   },
   "outputs": [],
   "source": [
    "df.loc[df.ARAI_Certified_Mileage == '9.8-10.0 km/litre','ARAI_Certified_Mileage'] = '10'\n",
    "df.loc[df.ARAI_Certified_Mileage == '10kmpl km/litre','ARAI_Certified_Mileage'] = '10'\n",
    "df.loc[df.ARAI_Certified_Mileage == '22.4-21.9 km/litre', 'ARAI_Certified_Mileage'] = '22'\n",
    "df['ARAI_Certified_Mileage'] = df['ARAI_Certified_Mileage'].dropna().astype(str).apply(lambda x: x.replace(' km/litre','')) .astype(float) \n",
    "\n",
    "\n",
    "HP = df.Power.str.extract(r'(\\d{1,4}).*').astype(int) * 0.98632\n",
    "HP = HP.apply(lambda x: round(x,2))\n",
    "TQ = df.Torque.dropna().str.extract(r'(\\d{1,4}).*').astype(int)\n",
    "TQ = TQ.apply(lambda x: round(x,2))\n",
    "df.Torque = TQ\n",
    "df.Power = HP"
   ]
  },
  {
   "cell_type": "code",
   "execution_count": 16,
   "id": "c6d97299",
   "metadata": {},
   "outputs": [
    {
     "name": "stdout",
     "output_type": "stream",
     "text": [
      "Renault: 32\n",
      "Maruti Suzuki: 133\n",
      "Datsun: 9\n",
      "Hyundai: 106\n",
      "Tata: 70\n",
      "Toyota: 82\n",
      "Nissan: 29\n",
      "Volkswagen: 28\n",
      "Ford: 43\n",
      "Mahindra: 70\n",
      "Fiat: 9\n",
      "Honda: 59\n",
      "Jeep: 28\n",
      "Isuzu: 2\n",
      "Skoda: 43\n",
      "Audi: 28\n",
      "Mercedes-Benz: 54\n",
      "Volvo: 15\n",
      "Mini: 5\n",
      "Jaguar: 21\n",
      "Bmw: 33\n",
      "Land Rover: 10\n",
      "Porsche: 12\n",
      "Lexus: 7\n",
      "Maserati: 6\n",
      "Lamborghini: 12\n",
      "Bentley: 6\n",
      "Ferrari: 8\n",
      "Aston Martin: 3\n",
      "Rolls-Royce: 7\n",
      "Land Rover Rover: 14\n",
      "Go+: 9\n",
      "Kia: 5\n",
      "Mitsubishi: 7\n",
      "Maruti Suzuki R: 2\n"
     ]
    }
   ],
   "source": [
    "#printing company vs car count list\n",
    "for company in df['Make'].unique():\n",
    "    print(company + \": \" + str(len(df[df['Make']==company])))"
   ]
  },
  {
   "cell_type": "code",
   "execution_count": 17,
   "id": "029ce786",
   "metadata": {},
   "outputs": [
    {
     "data": {
      "text/plain": [
       "[('Maruti Suzuki', 133),\n",
       " ('Hyundai', 106),\n",
       " ('Toyota', 82),\n",
       " ('Tata', 70),\n",
       " ('Mahindra', 70),\n",
       " ('Honda', 59),\n",
       " ('Mercedes-Benz', 54),\n",
       " ('Ford', 43),\n",
       " ('Skoda', 43),\n",
       " ('Bmw', 33),\n",
       " ('Renault', 32),\n",
       " ('Nissan', 29),\n",
       " ('Volkswagen', 28),\n",
       " ('Jeep', 28),\n",
       " ('Audi', 28)]"
      ]
     },
     "execution_count": 17,
     "metadata": {},
     "output_type": "execute_result"
    }
   ],
   "source": [
    "#making dictionary for Make vs Number \n",
    "dic = {}\n",
    "for make in df['Make'].unique():\n",
    "    dic[make] = sum(df['Make']==make)\n",
    "\n",
    "car_statistics = sorted(dic.items(), key=lambda x: x[1], reverse=True)[:15]\n",
    "car_statistics"
   ]
  },
  {
   "cell_type": "code",
   "execution_count": 19,
   "id": "d8cc9bd9",
   "metadata": {
    "scrolled": true
   },
   "outputs": [
    {
     "data": {
      "image/png": "[encoded data removed]",
      "text/plain": [
       "<Figure size 1008x576 with 1 Axes>"
      ]
     },
     "metadata": {
      "needs_background": "light"
     },
     "output_type": "display_data"
    }
   ],
   "source": [
    "#plotting bar graph for number of cars vs company name\n",
    "plt.figure(figsize=(14,8))\n",
    "plt.bar(range(len(car_statistics)), [val[1] for val in car_statistics], align='center')\n",
    "plt.xticks(range(len(car_statistics)), [val[0] for val in car_statistics])\n",
    "plt.xticks(rotation=70)\n",
    "plt.ylabel('Number_of_cars')\n",
    "plt.xlabel('Company_Name')\n",
    "plt.grid()\n",
    "plt.show()"
   ]
  },
  {
   "cell_type": "code",
   "execution_count": 20,
   "id": "ede33f5f",
   "metadata": {},
   "outputs": [
    {
     "data": {
      "image/png": "[encoded data removed]",
      "text/plain": [
       "<Figure size 1008x576 with 1 Axes>"
      ]
     },
     "metadata": {
      "needs_background": "light"
     },
     "output_type": "display_data"
    }
   ],
   "source": [
    "#price vs count\n",
    "plt.figure(figsize=(14,8))\n",
    "sns.histplot(data=df, x='Ex-Showroom_Price',bins=1000,alpha=.5, color='darkblue')\n",
    "plt.title('Histogram of cars price data',fontsize=16)\n",
    "plt.xlim(0, 5000000)\n",
    "plt.grid()\n",
    "plt.show()"
   ]
  },
  {
   "cell_type": "code",
   "execution_count": 21,
   "id": "35058c4d",
   "metadata": {},
   "outputs": [
    {
     "data": {
      "image/png": "[encoded data removed]",
      "text/plain": [
       "<Figure size 1008x576 with 1 Axes>"
      ]
     },
     "metadata": {
      "needs_background": "light"
     },
     "output_type": "display_data"
    }
   ],
   "source": [
    "dic1 = {}\n",
    "for displacement in df['Displacement'].unique():\n",
    "    dic1[displacement] = sum(df['Displacement']==displacement)\n",
    "\n",
    "displacement = sorted(dic1.items(), key=lambda x: x[1], reverse=True)[:15]\n",
    "\n",
    "\n",
    "\n",
    "#plotting bar graph for number of cars vs engine type (displacement)\n",
    "plt.figure(figsize=(14,8))\n",
    "plt.bar(range(len(displacement)),[val[1] for val in displacement], align='center', color= 'green', edgecolor='black')\n",
    "plt.xticks(range(len(displacement)),[val[0] for val in displacement])\n",
    "plt.xticks(rotation=70)\n",
    "plt.ylabel('Number_of_cars')\n",
    "plt.xlabel('Displacement(in cc)')\n",
    "plt.title(\"Engine_type\")\n",
    "plt.show()"
   ]
  },
  {
   "cell_type": "code",
   "execution_count": 24,
   "id": "ad4cb2ed",
   "metadata": {
    "scrolled": true
   },
   "outputs": [
    {
     "data": {
      "image/png": "[encoded data removed]",
      "text/plain": [
       "<Figure size 1008x576 with 1 Axes>"
      ]
     },
     "metadata": {
      "needs_background": "light"
     },
     "output_type": "display_data"
    }
   ],
   "source": [
    "plt.figure(figsize=(14,8))\n",
    "fuel_type = df['Fuel_Type'].unique()\n",
    "car_count = df['Fuel_Type'].value_counts()\n",
    "\n",
    "plt.plot(fuel_type, car_count, marker='o', color='red')\n",
    "plt.ylabel(\"Car_Count\")\n",
    "for xy in zip(fuel_type, car_count):                               \n",
    "    plt.annotate('(%s, %s)' % xy, xy=xy, textcoords='data') \n",
    "\n",
    "plt.grid()\n",
    "plt.show()"
   ]
  },
  {
   "cell_type": "code",
   "execution_count": 26,
   "id": "bb8652ed",
   "metadata": {
    "scrolled": true
   },
   "outputs": [
    {
     "data": {
      "image/png": "[encoded data removed]",
      "text/plain": [
       "<Figure size 1008x576 with 1 Axes>"
      ]
     },
     "metadata": {
      "needs_background": "light"
     },
     "output_type": "display_data"
    }
   ],
   "source": [
    "plt.figure(figsize=(14,8))\n",
    "tank_capacity= df['Fuel_Tank_Capacity']\n",
    "fuel_type = df['Fuel_Type']\n",
    "plt.ylabel('tank_capacity', fontsize=20)\n",
    "plt.xlabel('fuel_type', fontsize=20)\n",
    "plt.xticks(fontsize=14, rotation=300)\n",
    "plt.bar( fuel_type, tank_capacity, color = 'salmon')\n",
    "plt.show()"
   ]
  },
  {
   "cell_type": "code",
   "execution_count": 27,
   "id": "203acf35",
   "metadata": {},
   "outputs": [
    {
     "data": {
      "image/png": "[encoded data removed]",
      "text/plain": [
       "<Figure size 1152x504 with 1 Axes>"
      ]
     },
     "metadata": {
      "needs_background": "light"
     },
     "output_type": "display_data"
    }
   ],
   "source": [
    "plt.figure(figsize=(16,7))\n",
    "car_count = df['ARAI_Certified_Mileage'].value_counts()\n",
    "plt.xlim(0 , 35)\n",
    "plt.ylim(0 , 20)\n",
    "plt.ylabel('Mileage')\n",
    "plt.xlabel('car_count')\n",
    "plt.plot(car_count,  linestyle='none', marker='o')\n",
    "plt.show()"
   ]
  },
  {
   "cell_type": "code",
   "execution_count": 28,
   "id": "96d6010e",
   "metadata": {
    "scrolled": true
   },
   "outputs": [
    {
     "data": {
      "text/plain": [
       "FWD (Front Wheel Drive)    712\n",
       "AWD (All Wheel Drive)      130\n",
       "RWD (Rear Wheel Drive)     123\n",
       "4WD                         42\n",
       "Name: Drivetrain, dtype: int64"
      ]
     },
     "execution_count": 28,
     "metadata": {},
     "output_type": "execute_result"
    }
   ],
   "source": [
    " df['Drivetrain'].value_counts()"
   ]
  },
  {
   "cell_type": "code",
   "execution_count": 29,
   "id": "84d56430",
   "metadata": {},
   "outputs": [
    {
     "data": {
      "application/vnd.plotly.v1+json": {
       "config": {
        "plotlyServerURL": "https://plot.ly"
       },
       "data": [
        {
         "domain": {
          "x": [
           0,
           1
          ],
          "y": [
           0,
           1
          ]
         },
         "hovertemplate": "label=%{label}<br>value=%{value}<extra></extra>",
         "labels": [
          "FWD (Front Wheel Drive)",
          "RWD (Rear Wheel Drive)",
          "AWD (All Wheel Drive)",
          "4WD"
         ],
         "legendgroup": "",
         "name": "",
         "showlegend": true,
         "type": "pie",
         "values": [
          712,
          130,
          123,
          42
         ]
        }
       ],
       "layout": {
        "legend": {
         "tracegroupgap": 0
        },
        "margin": {
         "t": 60
        },
        "template": {
         "data": {
          "bar": [
           {
            "error_x": {
             "color": "#2a3f5f"
            },
            "error_y": {
             "color": "#2a3f5f"
            },
            "marker": {
             "line": {
              "color": "#E5ECF6",
              "width": 0.5
             },
             "pattern": {
              "fillmode": "overlay",
              "size": 10,
              "solidity": 0.2
             }
            },
            "type": "bar"
           }
          ],
          "barpolar": [
           {
            "marker": {
             "line": {
              "color": "#E5ECF6",
              "width": 0.5
             },
             "pattern": {
              "fillmode": "overlay",
              "size": 10,
              "solidity": 0.2
             }
            },
            "type": "barpolar"
           }
          ],
          "carpet": [
           {
            "aaxis": {
             "endlinecolor": "#2a3f5f",
             "gridcolor": "white",
             "linecolor": "white",
             "minorgridcolor": "white",
             "startlinecolor": "#2a3f5f"
            },
            "baxis": {
             "endlinecolor": "#2a3f5f",
             "gridcolor": "white",
             "linecolor": "white",
             "minorgridcolor": "white",
             "startlinecolor": "#2a3f5f"
            },
            "type": "carpet"
           }
          ],
          "choropleth": [
           {
            "colorbar": {
             "outlinewidth": 0,
             "ticks": ""
            },
            "type": "choropleth"
           }
          ],
          "contour": [
           {
            "colorbar": {
             "outlinewidth": 0,
             "ticks": ""
            },
            "colorscale": [
             [
              0,
              "#0d0887"
             ],
             [
              0.1111111111111111,
              "#46039f"
             ],
             [
              0.2222222222222222,
              "#7201a8"
             ],
             [
              0.3333333333333333,
              "#9c179e"
             ],
             [
              0.4444444444444444,
              "#bd3786"
             ],
             [
              0.5555555555555556,
              "#d8576b"
             ],
             [
              0.6666666666666666,
              "#ed7953"
             ],
             [
              0.7777777777777778,
              "#fb9f3a"
             ],
             [
              0.8888888888888888,
              "#fdca26"
             ],
             [
              1,
              "#f0f921"
             ]
            ],
            "type": "contour"
           }
          ],
          "contourcarpet": [
           {
            "colorbar": {
             "outlinewidth": 0,
             "ticks": ""
            },
            "type": "contourcarpet"
           }
          ],
          "heatmap": [
           {
            "colorbar": {
             "outlinewidth": 0,
             "ticks": ""
            },
            "colorscale": [
             [
              0,
              "#0d0887"
             ],
             [
              0.1111111111111111,
              "#46039f"
             ],
             [
              0.2222222222222222,
              "#7201a8"
             ],
             [
              0.3333333333333333,
              "#9c179e"
             ],
             [
              0.4444444444444444,
              "#bd3786"
             ],
             [
              0.5555555555555556,
              "#d8576b"
             ],
             [
              0.6666666666666666,
              "#ed7953"
             ],
             [
              0.7777777777777778,
              "#fb9f3a"
             ],
             [
              0.8888888888888888,
              "#fdca26"
             ],
             [
              1,
              "#f0f921"
             ]
            ],
            "type": "heatmap"
           }
          ],
          "heatmapgl": [
           {
            "colorbar": {
             "outlinewidth": 0,
             "ticks": ""
            },
            "colorscale": [
             [
              0,
              "#0d0887"
             ],
             [
              0.1111111111111111,
              "#46039f"
             ],
             [
              0.2222222222222222,
              "#7201a8"
             ],
             [
              0.3333333333333333,
              "#9c179e"
             ],
             [
              0.4444444444444444,
              "#bd3786"
             ],
             [
              0.5555555555555556,
              "#d8576b"
             ],
             [
              0.6666666666666666,
              "#ed7953"
             ],
             [
              0.7777777777777778,
              "#fb9f3a"
             ],
             [
              0.8888888888888888,
              "#fdca26"
             ],
             [
              1,
              "#f0f921"
             ]
            ],
            "type": "heatmapgl"
           }
          ],
          "histogram": [
           {
            "marker": {
             "pattern": {
              "fillmode": "overlay",
              "size": 10,
              "solidity": 0.2
             }
            },
            "type": "histogram"
           }
          ],
          "histogram2d": [
           {
            "colorbar": {
             "outlinewidth": 0,
             "ticks": ""
            },
            "colorscale": [
             [
              0,
              "#0d0887"
             ],
             [
              0.1111111111111111,
              "#46039f"
             ],
             [
              0.2222222222222222,
              "#7201a8"
             ],
             [
              0.3333333333333333,
              "#9c179e"
             ],
             [
              0.4444444444444444,
              "#bd3786"
             ],
             [
              0.5555555555555556,
              "#d8576b"
             ],
             [
              0.6666666666666666,
              "#ed7953"
             ],
             [
              0.7777777777777778,
              "#fb9f3a"
             ],
             [
              0.8888888888888888,
              "#fdca26"
             ],
             [
              1,
              "#f0f921"
             ]
            ],
            "type": "histogram2d"
           }
          ],
          "histogram2dcontour": [
           {
            "colorbar": {
             "outlinewidth": 0,
             "ticks": ""
            },
            "colorscale": [
             [
              0,
              "#0d0887"
             ],
             [
              0.1111111111111111,
              "#46039f"
             ],
             [
              0.2222222222222222,
              "#7201a8"
             ],
             [
              0.3333333333333333,
              "#9c179e"
             ],
             [
              0.4444444444444444,
              "#bd3786"
             ],
             [
              0.5555555555555556,
              "#d8576b"
             ],
             [
              0.6666666666666666,
              "#ed7953"
             ],
             [
              0.7777777777777778,
              "#fb9f3a"
             ],
             [
              0.8888888888888888,
              "#fdca26"
             ],
             [
              1,
              "#f0f921"
             ]
            ],
            "type": "histogram2dcontour"
           }
          ],
          "mesh3d": [
           {
            "colorbar": {
             "outlinewidth": 0,
             "ticks": ""
            },
            "type": "mesh3d"
           }
          ],
          "parcoords": [
           {
            "line": {
             "colorbar": {
              "outlinewidth": 0,
              "ticks": ""
             }
            },
            "type": "parcoords"
           }
          ],
          "pie": [
           {
            "automargin": true,
            "type": "pie"
           }
          ],
          "scatter": [
           {
            "fillpattern": {
             "fillmode": "overlay",
             "size": 10,
             "solidity": 0.2
            },
            "type": "scatter"
           }
          ],
          "scatter3d": [
           {
            "line": {
             "colorbar": {
              "outlinewidth": 0,
              "ticks": ""
             }
            },
            "marker": {
             "colorbar": {
              "outlinewidth": 0,
              "ticks": ""
             }
            },
            "type": "scatter3d"
           }
          ],
          "scattercarpet": [
           {
            "marker": {
             "colorbar": {
              "outlinewidth": 0,
              "ticks": ""
             }
            },
            "type": "scattercarpet"
           }
          ],
          "scattergeo": [
           {
            "marker": {
             "colorbar": {
              "outlinewidth": 0,
              "ticks": ""
             }
            },
            "type": "scattergeo"
           }
          ],
          "scattergl": [
           {
            "marker": {
             "colorbar": {
              "outlinewidth": 0,
              "ticks": ""
             }
            },
            "type": "scattergl"
           }
          ],
          "scattermapbox": [
           {
            "marker": {
             "colorbar": {
              "outlinewidth": 0,
              "ticks": ""
             }
            },
            "type": "scattermapbox"
           }
          ],
          "scatterpolar": [
           {
            "marker": {
             "colorbar": {
              "outlinewidth": 0,
              "ticks": ""
             }
            },
            "type": "scatterpolar"
           }
          ],
          "scatterpolargl": [
           {
            "marker": {
             "colorbar": {
              "outlinewidth": 0,
              "ticks": ""
             }
            },
            "type": "scatterpolargl"
           }
          ],
          "scatterternary": [
           {
            "marker": {
             "colorbar": {
              "outlinewidth": 0,
              "ticks": ""
             }
            },
            "type": "scatterternary"
           }
          ],
          "surface": [
           {
            "colorbar": {
             "outlinewidth": 0,
             "ticks": ""
            },
            "colorscale": [
             [
              0,
              "#0d0887"
             ],
             [
              0.1111111111111111,
              "#46039f"
             ],
             [
              0.2222222222222222,
              "#7201a8"
             ],
             [
              0.3333333333333333,
              "#9c179e"
             ],
             [
              0.4444444444444444,
              "#bd3786"
             ],
             [
              0.5555555555555556,
              "#d8576b"
             ],
             [
              0.6666666666666666,
              "#ed7953"
             ],
             [
              0.7777777777777778,
              "#fb9f3a"
             ],
             [
              0.8888888888888888,
              "#fdca26"
             ],
             [
              1,
              "#f0f921"
             ]
            ],
            "type": "surface"
           }
          ],
          "table": [
           {
            "cells": {
             "fill": {
              "color": "#EBF0F8"
             },
             "line": {
              "color": "white"
             }
            },
            "header": {
             "fill": {
              "color": "#C8D4E3"
             },
             "line": {
              "color": "white"
             }
            },
            "type": "table"
           }
          ]
         },
         "layout": {
          "annotationdefaults": {
           "arrowcolor": "#2a3f5f",
           "arrowhead": 0,
           "arrowwidth": 1
          },
          "autotypenumbers": "strict",
          "coloraxis": {
           "colorbar": {
            "outlinewidth": 0,
            "ticks": ""
           }
          },
          "colorscale": {
           "diverging": [
            [
             0,
             "#8e0152"
            ],
            [
             0.1,
             "#c51b7d"
            ],
            [
             0.2,
             "#de77ae"
            ],
            [
             0.3,
             "#f1b6da"
            ],
            [
             0.4,
             "#fde0ef"
            ],
            [
             0.5,
             "#f7f7f7"
            ],
            [
             0.6,
             "#e6f5d0"
            ],
            [
             0.7,
             "#b8e186"
            ],
            [
             0.8,
             "#7fbc41"
            ],
            [
             0.9,
             "#4d9221"
            ],
            [
             1,
             "#276419"
            ]
           ],
           "sequential": [
            [
             0,
             "#0d0887"
            ],
            [
             0.1111111111111111,
             "#46039f"
            ],
            [
             0.2222222222222222,
             "#7201a8"
            ],
            [
             0.3333333333333333,
             "#9c179e"
            ],
            [
             0.4444444444444444,
             "#bd3786"
            ],
            [
             0.5555555555555556,
             "#d8576b"
            ],
            [
             0.6666666666666666,
             "#ed7953"
            ],
            [
             0.7777777777777778,
             "#fb9f3a"
            ],
            [
             0.8888888888888888,
             "#fdca26"
            ],
            [
             1,
             "#f0f921"
            ]
           ],
           "sequentialminus": [
            [
             0,
             "#0d0887"
            ],
            [
             0.1111111111111111,
             "#46039f"
            ],
            [
             0.2222222222222222,
             "#7201a8"
            ],
            [
             0.3333333333333333,
             "#9c179e"
            ],
            [
             0.4444444444444444,
             "#bd3786"
            ],
            [
             0.5555555555555556,
             "#d8576b"
            ],
            [
             0.6666666666666666,
             "#ed7953"
            ],
            [
             0.7777777777777778,
             "#fb9f3a"
            ],
            [
             0.8888888888888888,
             "#fdca26"
            ],
            [
             1,
             "#f0f921"
            ]
           ]
          },
          "colorway": [
           "#636efa",
           "#EF553B",
           "#00cc96",
           "#ab63fa",
           "#FFA15A",
           "#19d3f3",
           "#FF6692",
           "#B6E880",
           "#FF97FF",
           "#FECB52"
          ],
          "font": {
           "color": "#2a3f5f"
          },
          "geo": {
           "bgcolor": "white",
           "lakecolor": "white",
           "landcolor": "#E5ECF6",
           "showlakes": true,
           "showland": true,
           "subunitcolor": "white"
          },
          "hoverlabel": {
           "align": "left"
          },
          "hovermode": "closest",
          "mapbox": {
           "style": "light"
          },
          "paper_bgcolor": "white",
          "plot_bgcolor": "#E5ECF6",
          "polar": {
           "angularaxis": {
            "gridcolor": "white",
            "linecolor": "white",
            "ticks": ""
           },
           "bgcolor": "#E5ECF6",
           "radialaxis": {
            "gridcolor": "white",
            "linecolor": "white",
            "ticks": ""
           }
          },
          "scene": {
           "xaxis": {
            "backgroundcolor": "#E5ECF6",
            "gridcolor": "white",
            "gridwidth": 2,
            "linecolor": "white",
            "showbackground": true,
            "ticks": "",
            "zerolinecolor": "white"
           },
           "yaxis": {
            "backgroundcolor": "#E5ECF6",
            "gridcolor": "white",
            "gridwidth": 2,
            "linecolor": "white",
            "showbackground": true,
            "ticks": "",
            "zerolinecolor": "white"
           },
           "zaxis": {
            "backgroundcolor": "#E5ECF6",
            "gridcolor": "white",
            "gridwidth": 2,
            "linecolor": "white",
            "showbackground": true,
            "ticks": "",
            "zerolinecolor": "white"
           }
          },
          "shapedefaults": {
           "line": {
            "color": "#2a3f5f"
           }
          },
          "ternary": {
           "aaxis": {
            "gridcolor": "white",
            "linecolor": "white",
            "ticks": ""
           },
           "baxis": {
            "gridcolor": "white",
            "linecolor": "white",
            "ticks": ""
           },
           "bgcolor": "#E5ECF6",
           "caxis": {
            "gridcolor": "white",
            "linecolor": "white",
            "ticks": ""
           }
          },
          "title": {
           "x": 0.05
          },
          "xaxis": {
           "automargin": true,
           "gridcolor": "white",
           "linecolor": "white",
           "ticks": "",
           "title": {
            "standoff": 15
           },
           "zerolinecolor": "white",
           "zerolinewidth": 2
          },
          "yaxis": {
           "automargin": true,
           "gridcolor": "white",
           "linecolor": "white",
           "ticks": "",
           "title": {
            "standoff": 15
           },
           "zerolinecolor": "white",
           "zerolinewidth": 2
          }
         }
        },
        "title": {
         "text": "<b>Drivetrain relation with car counts</b>"
        }
       }
      },
      "text/html": [
       "<div>                            <div id=\"3274a2b9-2ded-40ac-af35-980aed5ac702\" class=\"plotly-graph-div\" style=\"height:525px; width:100%;\"></div>            <script type=\"text/javascript\">                require([\"plotly\"], function(Plotly) {                    window.PLOTLYENV=window.PLOTLYENV || {};                                    if (document.getElementById(\"3274a2b9-2ded-40ac-af35-980aed5ac702\")) {                    Plotly.newPlot(                        \"3274a2b9-2ded-40ac-af35-980aed5ac702\",                        [{\"domain\":{\"x\":[0.0,1.0],\"y\":[0.0,1.0]},\"hovertemplate\":\"label=%{label}<br>value=%{value}<extra></extra>\",\"labels\":[\"FWD (Front Wheel Drive)\",\"RWD (Rear Wheel Drive)\",\"AWD (All Wheel Drive)\",\"4WD\"],\"legendgroup\":\"\",\"name\":\"\",\"showlegend\":true,\"values\":[712,130,123,42],\"type\":\"pie\"}],                        {\"template\":{\"data\":{\"histogram2dcontour\":[{\"type\":\"histogram2dcontour\",\"colorbar\":{\"outlinewidth\":0,\"ticks\":\"\"},\"colorscale\":[[0.0,\"#0d0887\"],[0.1111111111111111,\"#46039f\"],[0.2222222222222222,\"#7201a8\"],[0.3333333333333333,\"#9c179e\"],[0.4444444444444444,\"#bd3786\"],[0.5555555555555556,\"#d8576b\"],[0.6666666666666666,\"#ed7953\"],[0.7777777777777778,\"#fb9f3a\"],[0.8888888888888888,\"#fdca26\"],[1.0,\"#f0f921\"]]}],\"choropleth\":[{\"type\":\"choropleth\",\"colorbar\":{\"outlinewidth\":0,\"ticks\":\"\"}}],\"histogram2d\":[{\"type\":\"histogram2d\",\"colorbar\":{\"outlinewidth\":0,\"ticks\":\"\"},\"colorscale\":[[0.0,\"#0d0887\"],[0.1111111111111111,\"#46039f\"],[0.2222222222222222,\"#7201a8\"],[0.3333333333333333,\"#9c179e\"],[0.4444444444444444,\"#bd3786\"],[0.5555555555555556,\"#d8576b\"],[0.6666666666666666,\"#ed7953\"],[0.7777777777777778,\"#fb9f3a\"],[0.8888888888888888,\"#fdca26\"],[1.0,\"#f0f921\"]]}],\"heatmap\":[{\"type\":\"heatmap\",\"colorbar\":{\"outlinewidth\":0,\"ticks\":\"\"},\"colorscale\":[[0.0,\"#0d0887\"],[0.1111111111111111,\"#46039f\"],[0.2222222222222222,\"#7201a8\"],[0.3333333333333333,\"#9c179e\"],[0.4444444444444444,\"#bd3786\"],[0.5555555555555556,\"#d8576b\"],[0.6666666666666666,\"#ed7953\"],[0.7777777777777778,\"#fb9f3a\"],[0.8888888888888888,\"#fdca26\"],[1.0,\"#f0f921\"]]}],\"heatmapgl\":[{\"type\":\"heatmapgl\",\"colorbar\":{\"outlinewidth\":0,\"ticks\":\"\"},\"colorscale\":[[0.0,\"#0d0887\"],[0.1111111111111111,\"#46039f\"],[0.2222222222222222,\"#7201a8\"],[0.3333333333333333,\"#9c179e\"],[0.4444444444444444,\"#bd3786\"],[0.5555555555555556,\"#d8576b\"],[0.6666666666666666,\"#ed7953\"],[0.7777777777777778,\"#fb9f3a\"],[0.8888888888888888,\"#fdca26\"],[1.0,\"#f0f921\"]]}],\"contourcarpet\":[{\"type\":\"contourcarpet\",\"colorbar\":{\"outlinewidth\":0,\"ticks\":\"\"}}],\"contour\":[{\"type\":\"contour\",\"colorbar\":{\"outlinewidth\":0,\"ticks\":\"\"},\"colorscale\":[[0.0,\"#0d0887\"],[0.1111111111111111,\"#46039f\"],[0.2222222222222222,\"#7201a8\"],[0.3333333333333333,\"#9c179e\"],[0.4444444444444444,\"#bd3786\"],[0.5555555555555556,\"#d8576b\"],[0.6666666666666666,\"#ed7953\"],[0.7777777777777778,\"#fb9f3a\"],[0.8888888888888888,\"#fdca26\"],[1.0,\"#f0f921\"]]}],\"surface\":[{\"type\":\"surface\",\"colorbar\":{\"outlinewidth\":0,\"ticks\":\"\"},\"colorscale\":[[0.0,\"#0d0887\"],[0.1111111111111111,\"#46039f\"],[0.2222222222222222,\"#7201a8\"],[0.3333333333333333,\"#9c179e\"],[0.4444444444444444,\"#bd3786\"],[0.5555555555555556,\"#d8576b\"],[0.6666666666666666,\"#ed7953\"],[0.7777777777777778,\"#fb9f3a\"],[0.8888888888888888,\"#fdca26\"],[1.0,\"#f0f921\"]]}],\"mesh3d\":[{\"type\":\"mesh3d\",\"colorbar\":{\"outlinewidth\":0,\"ticks\":\"\"}}],\"scatter\":[{\"fillpattern\":{\"fillmode\":\"overlay\",\"size\":10,\"solidity\":0.2},\"type\":\"scatter\"}],\"parcoords\":[{\"type\":\"parcoords\",\"line\":{\"colorbar\":{\"outlinewidth\":0,\"ticks\":\"\"}}}],\"scatterpolargl\":[{\"type\":\"scatterpolargl\",\"marker\":{\"colorbar\":{\"outlinewidth\":0,\"ticks\":\"\"}}}],\"bar\":[{\"error_x\":{\"color\":\"#2a3f5f\"},\"error_y\":{\"color\":\"#2a3f5f\"},\"marker\":{\"line\":{\"color\":\"#E5ECF6\",\"width\":0.5},\"pattern\":{\"fillmode\":\"overlay\",\"size\":10,\"solidity\":0.2}},\"type\":\"bar\"}],\"scattergeo\":[{\"type\":\"scattergeo\",\"marker\":{\"colorbar\":{\"outlinewidth\":0,\"ticks\":\"\"}}}],\"scatterpolar\":[{\"type\":\"scatterpolar\",\"marker\":{\"colorbar\":{\"outlinewidth\":0,\"ticks\":\"\"}}}],\"histogram\":[{\"marker\":{\"pattern\":{\"fillmode\":\"overlay\",\"size\":10,\"solidity\":0.2}},\"type\":\"histogram\"}],\"scattergl\":[{\"type\":\"scattergl\",\"marker\":{\"colorbar\":{\"outlinewidth\":0,\"ticks\":\"\"}}}],\"scatter3d\":[{\"type\":\"scatter3d\",\"line\":{\"colorbar\":{\"outlinewidth\":0,\"ticks\":\"\"}},\"marker\":{\"colorbar\":{\"outlinewidth\":0,\"ticks\":\"\"}}}],\"scattermapbox\":[{\"type\":\"scattermapbox\",\"marker\":{\"colorbar\":{\"outlinewidth\":0,\"ticks\":\"\"}}}],\"scatterternary\":[{\"type\":\"scatterternary\",\"marker\":{\"colorbar\":{\"outlinewidth\":0,\"ticks\":\"\"}}}],\"scattercarpet\":[{\"type\":\"scattercarpet\",\"marker\":{\"colorbar\":{\"outlinewidth\":0,\"ticks\":\"\"}}}],\"carpet\":[{\"aaxis\":{\"endlinecolor\":\"#2a3f5f\",\"gridcolor\":\"white\",\"linecolor\":\"white\",\"minorgridcolor\":\"white\",\"startlinecolor\":\"#2a3f5f\"},\"baxis\":{\"endlinecolor\":\"#2a3f5f\",\"gridcolor\":\"white\",\"linecolor\":\"white\",\"minorgridcolor\":\"white\",\"startlinecolor\":\"#2a3f5f\"},\"type\":\"carpet\"}],\"table\":[{\"cells\":{\"fill\":{\"color\":\"#EBF0F8\"},\"line\":{\"color\":\"white\"}},\"header\":{\"fill\":{\"color\":\"#C8D4E3\"},\"line\":{\"color\":\"white\"}},\"type\":\"table\"}],\"barpolar\":[{\"marker\":{\"line\":{\"color\":\"#E5ECF6\",\"width\":0.5},\"pattern\":{\"fillmode\":\"overlay\",\"size\":10,\"solidity\":0.2}},\"type\":\"barpolar\"}],\"pie\":[{\"automargin\":true,\"type\":\"pie\"}]},\"layout\":{\"autotypenumbers\":\"strict\",\"colorway\":[\"#636efa\",\"#EF553B\",\"#00cc96\",\"#ab63fa\",\"#FFA15A\",\"#19d3f3\",\"#FF6692\",\"#B6E880\",\"#FF97FF\",\"#FECB52\"],\"font\":{\"color\":\"#2a3f5f\"},\"hovermode\":\"closest\",\"hoverlabel\":{\"align\":\"left\"},\"paper_bgcolor\":\"white\",\"plot_bgcolor\":\"#E5ECF6\",\"polar\":{\"bgcolor\":\"#E5ECF6\",\"angularaxis\":{\"gridcolor\":\"white\",\"linecolor\":\"white\",\"ticks\":\"\"},\"radialaxis\":{\"gridcolor\":\"white\",\"linecolor\":\"white\",\"ticks\":\"\"}},\"ternary\":{\"bgcolor\":\"#E5ECF6\",\"aaxis\":{\"gridcolor\":\"white\",\"linecolor\":\"white\",\"ticks\":\"\"},\"baxis\":{\"gridcolor\":\"white\",\"linecolor\":\"white\",\"ticks\":\"\"},\"caxis\":{\"gridcolor\":\"white\",\"linecolor\":\"white\",\"ticks\":\"\"}},\"coloraxis\":{\"colorbar\":{\"outlinewidth\":0,\"ticks\":\"\"}},\"colorscale\":{\"sequential\":[[0.0,\"#0d0887\"],[0.1111111111111111,\"#46039f\"],[0.2222222222222222,\"#7201a8\"],[0.3333333333333333,\"#9c179e\"],[0.4444444444444444,\"#bd3786\"],[0.5555555555555556,\"#d8576b\"],[0.6666666666666666,\"#ed7953\"],[0.7777777777777778,\"#fb9f3a\"],[0.8888888888888888,\"#fdca26\"],[1.0,\"#f0f921\"]],\"sequentialminus\":[[0.0,\"#0d0887\"],[0.1111111111111111,\"#46039f\"],[0.2222222222222222,\"#7201a8\"],[0.3333333333333333,\"#9c179e\"],[0.4444444444444444,\"#bd3786\"],[0.5555555555555556,\"#d8576b\"],[0.6666666666666666,\"#ed7953\"],[0.7777777777777778,\"#fb9f3a\"],[0.8888888888888888,\"#fdca26\"],[1.0,\"#f0f921\"]],\"diverging\":[[0,\"#8e0152\"],[0.1,\"#c51b7d\"],[0.2,\"#de77ae\"],[0.3,\"#f1b6da\"],[0.4,\"#fde0ef\"],[0.5,\"#f7f7f7\"],[0.6,\"#e6f5d0\"],[0.7,\"#b8e186\"],[0.8,\"#7fbc41\"],[0.9,\"#4d9221\"],[1,\"#276419\"]]},\"xaxis\":{\"gridcolor\":\"white\",\"linecolor\":\"white\",\"ticks\":\"\",\"title\":{\"standoff\":15},\"zerolinecolor\":\"white\",\"automargin\":true,\"zerolinewidth\":2},\"yaxis\":{\"gridcolor\":\"white\",\"linecolor\":\"white\",\"ticks\":\"\",\"title\":{\"standoff\":15},\"zerolinecolor\":\"white\",\"automargin\":true,\"zerolinewidth\":2},\"scene\":{\"xaxis\":{\"backgroundcolor\":\"#E5ECF6\",\"gridcolor\":\"white\",\"linecolor\":\"white\",\"showbackground\":true,\"ticks\":\"\",\"zerolinecolor\":\"white\",\"gridwidth\":2},\"yaxis\":{\"backgroundcolor\":\"#E5ECF6\",\"gridcolor\":\"white\",\"linecolor\":\"white\",\"showbackground\":true,\"ticks\":\"\",\"zerolinecolor\":\"white\",\"gridwidth\":2},\"zaxis\":{\"backgroundcolor\":\"#E5ECF6\",\"gridcolor\":\"white\",\"linecolor\":\"white\",\"showbackground\":true,\"ticks\":\"\",\"zerolinecolor\":\"white\",\"gridwidth\":2}},\"shapedefaults\":{\"line\":{\"color\":\"#2a3f5f\"}},\"annotationdefaults\":{\"arrowcolor\":\"#2a3f5f\",\"arrowhead\":0,\"arrowwidth\":1},\"geo\":{\"bgcolor\":\"white\",\"landcolor\":\"#E5ECF6\",\"subunitcolor\":\"white\",\"showland\":true,\"showlakes\":true,\"lakecolor\":\"white\"},\"title\":{\"x\":0.05},\"mapbox\":{\"style\":\"light\"}}},\"legend\":{\"tracegroupgap\":0},\"margin\":{\"t\":60},\"title\":{\"text\":\"<b>Drivetrain relation with car counts</b>\"}},                        {\"responsive\": true}                    ).then(function(){\n",
       "                            \n",
       "var gd = document.getElementById('3274a2b9-2ded-40ac-af35-980aed5ac702');\n",
       "var x = new MutationObserver(function (mutations, observer) {{\n",
       "        var display = window.getComputedStyle(gd).display;\n",
       "        if (!display || display === 'none') {{\n",
       "            console.log([gd, 'removed!']);\n",
       "            Plotly.purge(gd);\n",
       "            observer.disconnect();\n",
       "        }}\n",
       "}});\n",
       "\n",
       "// Listen for the removal of the full notebook cells\n",
       "var notebookContainer = gd.closest('#notebook-container');\n",
       "if (notebookContainer) {{\n",
       "    x.observe(notebookContainer, {childList: true});\n",
       "}}\n",
       "\n",
       "// Listen for the clearing of the current output cell\n",
       "var outputEl = gd.closest('.output');\n",
       "if (outputEl) {{\n",
       "    x.observe(outputEl, {childList: true});\n",
       "}}\n",
       "\n",
       "                        })                };                });            </script>        </div>"
      ]
     },
     "metadata": {},
     "output_type": "display_data"
    }
   ],
   "source": [
    "drivetrain = df[\"Drivetrain\"].unique()\n",
    "number_of_cars = df['Drivetrain'].value_counts()\n",
    "fig = px.pie(drivetrain, values =number_of_cars, names= drivetrain)\n",
    "fig.update_layout(\n",
    "title=\"<b>Drivetrain relation with car counts</b>\")\n",
    "fig.show()"
   ]
  },
  {
   "cell_type": "code",
   "execution_count": 33,
   "id": "98c6067a",
   "metadata": {
    "scrolled": true
   },
   "outputs": [
    {
     "data": {
      "image/png": "[encoded data removed]",
      "text/plain": [
       "<Figure size 1008x576 with 1 Axes>"
      ]
     },
     "metadata": {
      "needs_background": "light"
     },
     "output_type": "display_data"
    }
   ],
   "source": [
    "plt.figure(figsize=(14,8))\n",
    "sns.countplot(data=df, y='Body_Type',alpha=.6,color='purple')\n",
    "plt.title('Cars vs car body type',fontsize=18)\n",
    "plt.xticks(fontsize=16)\n",
    "plt.yticks(fontsize=14)\n",
    "plt.grid()\n",
    "plt.show()"
   ]
  },
  {
   "cell_type": "code",
   "execution_count": 34,
   "id": "926a2395",
   "metadata": {
    "scrolled": true
   },
   "outputs": [
    {
     "data": {
      "image/png": "[encoded data removed]",
      "text/plain": [
       "<Figure size 1008x576 with 1 Axes>"
      ]
     },
     "metadata": {
      "needs_background": "light"
     },
     "output_type": "display_data"
    }
   ],
   "source": [
    "plt.figure(figsize=(14,8))\n",
    "displacement = df['Displacement']\n",
    "price = df['Ex-Showroom_Price']\n",
    "plt.scatter(displacement, price, color='peru')\n",
    "plt.ylabel('Ex-Showroom_Price')\n",
    "plt.xlabel('Displacement')\n",
    "plt.grid()\n",
    "plt.show()"
   ]
  },
  {
   "cell_type": "code",
   "execution_count": 36,
   "id": "9f1b9400",
   "metadata": {},
   "outputs": [
    {
     "data": {
      "image/png": "[encoded data removed]",
      "text/plain": [
       "<Figure size 1008x576 with 1 Axes>"
      ]
     },
     "metadata": {
      "needs_background": "light"
     },
     "output_type": "display_data"
    }
   ],
   "source": [
    "plt.figure(figsize=(16))\n",
    "price = df['Ex-Showroom_Price']\n",
    "Mileage = df['ARAI_Certified_Mileage']\n",
    "plt.ylabel('price')\n",
    "plt.xlabel('Mileage')\n",
    "plt.xlim(0 , 35)\n",
    "plt.scatter( Mileage,price, color= 'green')\n",
    "plt.show()\n"
   ]
  },
  {
   "cell_type": "code",
   "execution_count": 37,
   "id": "35ccc4c7",
   "metadata": {},
   "outputs": [
    {
     "data": {
      "image/png": "[encoded data removed]",
      "text/plain": [
       "<Figure size 1008x576 with 1 Axes>"
      ]
     },
     "metadata": {
      "needs_background": "light"
     },
     "output_type": "display_data"
    }
   ],
   "source": [
    "plt.figure(figsize=(14,8))\n",
    "price = df['Ex-Showroom_Price']\n",
    "body_type = df['Body_Type']\n",
    "plt.ylabel('price')\n",
    "plt.xlabel('body_type')\n",
    "plt.xticks(fontsize=14, rotation=300)\n",
    "plt.bar( body_type,price)\n",
    "plt.show()"
   ]
  },
  {
   "cell_type": "code",
   "execution_count": 50,
   "id": "82dcc6c2",
   "metadata": {},
   "outputs": [
    {
     "data": {
      "application/vnd.plotly.v1+json": {
       "config": {
        "plotlyServerURL": "https://plot.ly"
       },
       "data": [
        {
         "hovertemplate": "Make=Renault<br>Number_of_Airbags=%{x}<br>Cylinders=%{y}<br>Seating_Capacity=%{z}<extra></extra>",
         "legendgroup": "Renault",
         "marker": {
          "color": "#636efa",
          "symbol": "circle"
         },
         "mode": "markers",
         "name": "Renault",
         "scene": "scene",
         "showlegend": true,
         "type": "scatter3d",
         "x": [
          1,
          1,
          1,
          1,
          1,
          1,
          1,
          1,
          2,
          2,
          2,
          2,
          2,
          2,
          2,
          4,
          2,
          2,
          2,
          2,
          2,
          2,
          2,
          2,
          2,
          2,
          2,
          2,
          2,
          2,
          4,
          2
         ],
         "y": [
          3,
          3,
          3,
          3,
          3,
          3,
          3,
          3,
          3,
          3,
          3,
          3,
          3,
          3,
          3,
          3,
          4,
          4,
          4,
          4,
          4,
          4,
          4,
          4,
          4,
          4,
          4,
          4,
          4,
          4,
          4,
          4
         ],
         "z": [
          5,
          5,
          5,
          5,
          5,
          5,
          5,
          5,
          5,
          5,
          5,
          5,
          7,
          7,
          7,
          7,
          5,
          5,
          5,
          5,
          5,
          5,
          5,
          5,
          5,
          7,
          8,
          8,
          5,
          5,
          5,
          5
         ]
        },
        {
         "hovertemplate": "Make=Maruti Suzuki<br>Number_of_Airbags=%{x}<br>Cylinders=%{y}<br>Seating_Capacity=%{z}<extra></extra>",
         "legendgroup": "Maruti Suzuki",
         "marker": {
          "color": "#EF553B",
          "symbol": "circle"
         },
         "mode": "markers",
         "name": "Maruti Suzuki",
         "scene": "scene",
         "showlegend": true,
         "type": "scatter3d",
         "x": [
          1,
          1,
          1,
          1,
          1,
          1,
          1,
          1,
          1,
          1,
          2,
          2,
          2,
          1,
          1,
          2,
          1,
          2,
          1,
          2,
          2,
          2,
          2,
          2,
          2,
          2,
          2,
          2,
          2,
          2,
          2,
          2,
          2,
          2,
          2,
          2,
          2,
          2,
          2,
          2,
          2,
          2,
          1,
          2,
          1,
          2,
          1,
          2,
          1,
          2,
          1,
          2,
          1,
          2,
          2,
          2,
          1,
          2,
          1,
          2,
          2,
          2,
          2,
          2,
          2,
          2,
          2,
          2,
          2,
          2,
          2,
          2,
          2,
          2,
          2,
          2,
          2,
          2,
          2,
          2,
          2,
          2,
          2,
          1,
          2,
          2,
          2,
          2,
          2,
          2,
          2,
          2,
          2,
          2,
          2,
          2,
          2,
          2,
          2,
          2,
          2,
          2,
          2,
          2,
          2,
          2,
          2,
          2,
          2,
          2,
          2,
          2,
          2,
          2,
          2,
          2,
          2,
          2,
          1,
          2,
          2,
          2,
          2,
          2,
          2,
          2,
          2,
          2,
          2,
          2,
          2,
          2,
          2
         ],
         "y": [
          4,
          4,
          4,
          4,
          3,
          3,
          3,
          3,
          3,
          3,
          3,
          3,
          3,
          3,
          3,
          3,
          3,
          3,
          3,
          3,
          4,
          4,
          4,
          4,
          4,
          4,
          4,
          4,
          4,
          4,
          4,
          4,
          4,
          4,
          4,
          4,
          4,
          4,
          4,
          4,
          4,
          3,
          3,
          3,
          3,
          3,
          3,
          3,
          3,
          3,
          3,
          3,
          3,
          3,
          3,
          3,
          3,
          3,
          3,
          3,
          3,
          3,
          3,
          4,
          4,
          4,
          4,
          4,
          4,
          4,
          4,
          4,
          4,
          4,
          4,
          4,
          4,
          4,
          4,
          4,
          4,
          4,
          4,
          4,
          4,
          4,
          4,
          4,
          4,
          4,
          4,
          4,
          4,
          4,
          4,
          4,
          4,
          4,
          4,
          4,
          4,
          4,
          4,
          4,
          4,
          4,
          4,
          4,
          4,
          4,
          4,
          4,
          4,
          3,
          4,
          4,
          4,
          4,
          3,
          4,
          4,
          4,
          4,
          4,
          4,
          4,
          4,
          4,
          4,
          4,
          4,
          4,
          4
         ],
         "z": [
          5,
          7,
          5,
          5,
          5,
          5,
          5,
          5,
          5,
          5,
          5,
          5,
          5,
          5,
          5,
          5,
          5,
          5,
          5,
          5,
          5,
          5,
          5,
          5,
          5,
          5,
          5,
          5,
          5,
          5,
          5,
          5,
          5,
          5,
          5,
          5,
          5,
          5,
          5,
          5,
          5,
          5,
          5,
          5,
          5,
          5,
          5,
          5,
          5,
          5,
          5,
          5,
          5,
          5,
          5,
          5,
          5,
          5,
          5,
          5,
          5,
          5,
          5,
          5,
          5,
          5,
          5,
          5,
          5,
          5,
          5,
          5,
          5,
          5,
          5,
          5,
          5,
          5,
          5,
          5,
          5,
          5,
          5,
          5,
          5,
          5,
          6,
          6,
          6,
          6,
          5,
          5,
          5,
          5,
          5,
          5,
          5,
          5,
          5,
          5,
          5,
          5,
          5,
          7,
          7,
          7,
          7,
          7,
          7,
          7,
          7,
          7,
          7,
          5,
          5,
          5,
          5,
          5,
          5,
          5,
          5,
          5,
          5,
          5,
          5,
          5,
          5,
          5,
          5,
          5,
          5,
          5,
          5
         ]
        },
        {
         "hovertemplate": "Make=Datsun<br>Number_of_Airbags=%{x}<br>Cylinders=%{y}<br>Seating_Capacity=%{z}<extra></extra>",
         "legendgroup": "Datsun",
         "marker": {
          "color": "#00cc96",
          "symbol": "circle"
         },
         "mode": "markers",
         "name": "Datsun",
         "scene": "scene",
         "showlegend": true,
         "type": "scatter3d",
         "x": [
          2,
          2,
          2,
          2,
          2,
          2,
          2,
          2,
          2
         ],
         "y": [
          3,
          3,
          3,
          3,
          3,
          3,
          3,
          3,
          3
         ],
         "z": [
          5,
          5,
          5,
          5,
          5,
          5,
          5,
          5,
          5
         ]
        },
        {
         "hovertemplate": "Make=Hyundai<br>Number_of_Airbags=%{x}<br>Cylinders=%{y}<br>Seating_Capacity=%{z}<extra></extra>",
         "legendgroup": "Hyundai",
         "marker": {
          "color": "#ab63fa",
          "symbol": "circle"
         },
         "mode": "markers",
         "name": "Hyundai",
         "scene": "scene",
         "showlegend": true,
         "type": "scatter3d",
         "x": [
          1,
          1,
          1,
          1,
          1,
          1,
          1,
          2,
          2,
          2,
          2,
          2,
          2,
          2,
          2,
          2,
          6,
          6,
          2,
          2,
          2,
          2,
          1,
          1,
          1,
          2,
          2,
          2,
          2,
          6,
          2,
          2,
          2,
          6,
          2,
          6,
          6,
          6,
          2,
          2,
          6,
          6,
          2,
          6,
          2,
          2,
          6,
          6,
          2,
          2,
          2,
          2,
          2,
          2,
          2,
          2,
          2,
          6,
          6,
          6,
          6,
          2,
          2,
          6,
          6,
          6,
          6,
          6,
          6,
          2,
          2,
          2,
          2,
          2,
          2,
          2,
          2,
          2,
          2,
          2,
          2,
          2,
          2,
          2,
          2,
          2,
          2,
          2,
          2,
          2,
          2,
          6,
          2,
          2,
          2,
          2,
          6,
          2,
          2,
          2,
          6,
          6,
          2,
          2,
          2,
          2
         ],
         "y": [
          4,
          4,
          4,
          4,
          4,
          4,
          4,
          4,
          4,
          4,
          4,
          4,
          4,
          4,
          4,
          4,
          4,
          4,
          4,
          4,
          4,
          4,
          3,
          4,
          4,
          4,
          4,
          4,
          4,
          4,
          4,
          4,
          4,
          4,
          4,
          4,
          4,
          4,
          4,
          4,
          4,
          4,
          4,
          4,
          4,
          4,
          4,
          4,
          4,
          4,
          4,
          4,
          4,
          4,
          4,
          4,
          4,
          4,
          4,
          4,
          4,
          4,
          4,
          4,
          4,
          4,
          4,
          4,
          4,
          3,
          4,
          4,
          4,
          4,
          4,
          4,
          4,
          3,
          3,
          4,
          4,
          4,
          4,
          3,
          4,
          3,
          3,
          4,
          4,
          4,
          4,
          4,
          4,
          4,
          4,
          4,
          4,
          4,
          4,
          4,
          4,
          4,
          4,
          4,
          4,
          4
         ],
         "z": [
          5,
          5,
          5,
          5,
          5,
          5,
          5,
          5,
          5,
          5,
          5,
          5,
          5,
          5,
          5,
          5,
          5,
          5,
          5,
          5,
          5,
          5,
          5,
          5,
          5,
          5,
          5,
          5,
          5,
          5,
          5,
          5,
          5,
          5,
          5,
          5,
          5,
          5,
          5,
          5,
          5,
          5,
          5,
          5,
          5,
          5,
          5,
          5,
          5,
          5,
          5,
          5,
          5,
          5,
          5,
          5,
          5,
          5,
          5,
          5,
          5,
          5,
          5,
          5,
          5,
          5,
          5,
          5,
          5,
          5,
          5,
          5,
          5,
          5,
          5,
          5,
          5,
          5,
          5,
          5,
          5,
          5,
          5,
          5,
          5,
          5,
          5,
          5,
          5,
          5,
          5,
          5,
          5,
          5,
          5,
          5,
          5,
          5,
          5,
          5,
          5,
          5,
          5,
          5,
          5,
          5
         ]
        },
        {
         "hovertemplate": "Make=Tata<br>Number_of_Airbags=%{x}<br>Cylinders=%{y}<br>Seating_Capacity=%{z}<extra></extra>",
         "legendgroup": "Tata",
         "marker": {
          "color": "#FFA15A",
          "symbol": "circle"
         },
         "mode": "markers",
         "name": "Tata",
         "scene": "scene",
         "showlegend": true,
         "type": "scatter3d",
         "x": [
          2,
          2,
          2,
          2,
          2,
          2,
          2,
          2,
          2,
          2,
          2,
          2,
          2,
          2,
          2,
          2,
          2,
          2,
          2,
          2,
          2,
          2,
          2,
          2,
          2,
          2,
          2,
          2,
          2,
          2,
          2,
          2,
          2,
          2,
          2,
          2,
          2,
          2,
          2,
          2,
          2,
          2,
          2,
          2,
          2,
          2,
          2,
          2,
          2,
          2,
          2,
          2,
          2,
          2,
          2,
          2,
          6,
          2,
          2,
          2,
          2,
          2,
          2,
          2,
          2,
          2,
          2,
          2,
          2,
          2
         ],
         "y": [
          3,
          3,
          3,
          3,
          3,
          3,
          3,
          3,
          4,
          4,
          4,
          4,
          3,
          3,
          3,
          3,
          3,
          4,
          4,
          4,
          4,
          4,
          3,
          3,
          3,
          3,
          4,
          4,
          4,
          4,
          4,
          4,
          3,
          3,
          3,
          3,
          3,
          3,
          3,
          3,
          3,
          3,
          3,
          4,
          4,
          4,
          4,
          4,
          4,
          4,
          4,
          4,
          4,
          4,
          4,
          4,
          4,
          4,
          4,
          4,
          4,
          3,
          3,
          3,
          3,
          3,
          3,
          3,
          3,
          3
         ],
         "z": [
          5,
          5,
          5,
          5,
          5,
          5,
          5,
          5,
          5,
          5,
          5,
          5,
          5,
          5,
          5,
          5,
          5,
          5,
          5,
          5,
          5,
          5,
          5,
          5,
          5,
          5,
          5,
          5,
          5,
          5,
          5,
          5,
          5,
          5,
          5,
          5,
          5,
          5,
          5,
          5,
          5,
          5,
          5,
          5,
          5,
          5,
          5,
          5,
          5,
          5,
          5,
          5,
          5,
          5,
          5,
          7,
          6,
          7,
          7,
          7,
          7,
          5,
          5,
          5,
          5,
          5,
          5,
          5,
          5,
          5
         ]
        },
        {
         "hovertemplate": "Make=Toyota<br>Number_of_Airbags=%{x}<br>Cylinders=%{y}<br>Seating_Capacity=%{z}<extra></extra>",
         "legendgroup": "Toyota",
         "marker": {
          "color": "#19d3f3",
          "symbol": "circle"
         },
         "mode": "markers",
         "name": "Toyota",
         "scene": "scene",
         "showlegend": true,
         "type": "scatter3d",
         "x": [
          2,
          2,
          2,
          2,
          2,
          2,
          2,
          2,
          2,
          2,
          2,
          2,
          2,
          2,
          2,
          2,
          2,
          2,
          2,
          2,
          2,
          2,
          2,
          2,
          2,
          2,
          2,
          2,
          2,
          2,
          2,
          2,
          2,
          2,
          2,
          7,
          3,
          3,
          3,
          3,
          7,
          7,
          7,
          7,
          3,
          7,
          7,
          3,
          3,
          7,
          3,
          3,
          3,
          3,
          7,
          3,
          3,
          7,
          7,
          7,
          7,
          7,
          7,
          7,
          7,
          8,
          7,
          9,
          7,
          7,
          7,
          7,
          7,
          7,
          7,
          7,
          7,
          3,
          3,
          3,
          3,
          7
         ],
         "y": [
          4,
          4,
          4,
          4,
          4,
          4,
          4,
          4,
          4,
          4,
          4,
          4,
          4,
          4,
          4,
          4,
          4,
          4,
          4,
          4,
          4,
          4,
          4,
          4,
          4,
          4,
          4,
          4,
          4,
          4,
          4,
          4,
          4,
          4,
          4,
          4,
          4,
          4,
          4,
          4,
          4,
          4,
          4,
          4,
          4,
          4,
          4,
          4,
          4,
          4,
          4,
          4,
          4,
          4,
          4,
          4,
          4,
          4,
          4,
          4,
          4,
          4,
          4,
          4,
          4,
          8,
          4,
          4,
          4,
          4,
          4,
          4,
          4,
          4,
          4,
          4,
          4,
          4,
          4,
          4,
          4,
          4
         ],
         "z": [
          5,
          5,
          5,
          5,
          5,
          5,
          5,
          5,
          5,
          5,
          5,
          5,
          5,
          5,
          5,
          5,
          5,
          5,
          5,
          5,
          5,
          5,
          5,
          5,
          5,
          5,
          5,
          5,
          5,
          5,
          5,
          5,
          5,
          5,
          5,
          7,
          7,
          7,
          8,
          8,
          7,
          8,
          7,
          7,
          7,
          7,
          8,
          7,
          7,
          7,
          7,
          8,
          5,
          5,
          5,
          5,
          5,
          5,
          7,
          7,
          7,
          7,
          7,
          7,
          7,
          7,
          5,
          5,
          5,
          5,
          5,
          5,
          5,
          5,
          5,
          5,
          5,
          5,
          5,
          5,
          5,
          5
         ]
        },
        {
         "hovertemplate": "Make=Nissan<br>Number_of_Airbags=%{x}<br>Cylinders=%{y}<br>Seating_Capacity=%{z}<extra></extra>",
         "legendgroup": "Nissan",
         "marker": {
          "color": "#FF6692",
          "symbol": "circle"
         },
         "mode": "markers",
         "name": "Nissan",
         "scene": "scene",
         "showlegend": true,
         "type": "scatter3d",
         "x": [
          2,
          2,
          2,
          1,
          1,
          1,
          2,
          1,
          2,
          2,
          2,
          2,
          2,
          2,
          2,
          2,
          6,
          2,
          2,
          2,
          2,
          2,
          2,
          2,
          2,
          2,
          2,
          7,
          2
         ],
         "y": [
          3,
          3,
          3,
          4,
          4,
          4,
          4,
          4,
          4,
          4,
          4,
          4,
          4,
          4,
          4,
          4,
          6,
          3,
          3,
          4,
          4,
          4,
          4,
          4,
          4,
          4,
          4,
          4,
          4
         ],
         "z": [
          5,
          5,
          5,
          5,
          5,
          5,
          5,
          5,
          5,
          5,
          5,
          5,
          5,
          5,
          5,
          5,
          4,
          5,
          5,
          5,
          5,
          5,
          5,
          5,
          5,
          5,
          5,
          5,
          5
         ]
        },
        {
         "hovertemplate": "Make=Volkswagen<br>Number_of_Airbags=%{x}<br>Cylinders=%{y}<br>Seating_Capacity=%{z}<extra></extra>",
         "legendgroup": "Volkswagen",
         "marker": {
          "color": "#B6E880",
          "symbol": "circle"
         },
         "mode": "markers",
         "name": "Volkswagen",
         "scene": "scene",
         "showlegend": true,
         "type": "scatter3d",
         "x": [
          2,
          2,
          2,
          2,
          2,
          2,
          2,
          2,
          2,
          2,
          2,
          6,
          2,
          2,
          2,
          2,
          2,
          2,
          2,
          2,
          2,
          2,
          2,
          2,
          9,
          9,
          9,
          9
         ],
         "y": [
          3,
          3,
          3,
          4,
          4,
          4,
          4,
          4,
          3,
          3,
          3,
          4,
          4,
          4,
          4,
          4,
          4,
          4,
          4,
          4,
          4,
          4,
          4,
          4,
          4,
          4,
          4,
          4
         ],
         "z": [
          5,
          5,
          5,
          5,
          5,
          5,
          5,
          5,
          5,
          5,
          5,
          5,
          5,
          5,
          5,
          5,
          5,
          5,
          5,
          5,
          5,
          5,
          5,
          5,
          5,
          5,
          5,
          5
         ]
        },
        {
         "hovertemplate": "Make=Ford<br>Number_of_Airbags=%{x}<br>Cylinders=%{y}<br>Seating_Capacity=%{z}<extra></extra>",
         "legendgroup": "Ford",
         "marker": {
          "color": "#FF97FF",
          "symbol": "circle"
         },
         "mode": "markers",
         "name": "Ford",
         "scene": "scene",
         "showlegend": true,
         "type": "scatter3d",
         "x": [
          2,
          2,
          6,
          2,
          2,
          6,
          2,
          2,
          2,
          2,
          2,
          2,
          2,
          2,
          2,
          6,
          6,
          2,
          2,
          2,
          2,
          8,
          2,
          2,
          2,
          6,
          2,
          2,
          2,
          6,
          6,
          6,
          6,
          6,
          7,
          7,
          6,
          2,
          2,
          2,
          2,
          6,
          6
         ],
         "y": [
          4,
          4,
          4,
          3,
          3,
          3,
          3,
          3,
          4,
          4,
          4,
          4,
          4,
          4,
          4,
          4,
          4,
          4,
          4,
          4,
          4,
          8,
          3,
          3,
          3,
          3,
          4,
          4,
          4,
          4,
          4,
          3,
          4,
          4,
          5,
          4,
          4,
          4,
          4,
          4,
          4,
          4,
          4
         ],
         "z": [
          5,
          5,
          5,
          5,
          5,
          5,
          5,
          5,
          5,
          5,
          5,
          5,
          5,
          5,
          5,
          5,
          5,
          5,
          5,
          5,
          5,
          4,
          5,
          5,
          5,
          5,
          5,
          5,
          5,
          5,
          5,
          5,
          5,
          5,
          7,
          7,
          7,
          5,
          5,
          5,
          5,
          5,
          5
         ]
        },
        {
         "hovertemplate": "Make=Mahindra<br>Number_of_Airbags=%{x}<br>Cylinders=%{y}<br>Seating_Capacity=%{z}<extra></extra>",
         "legendgroup": "Mahindra",
         "marker": {
          "color": "#FECB52",
          "symbol": "circle"
         },
         "mode": "markers",
         "name": "Mahindra",
         "scene": "scene",
         "showlegend": true,
         "type": "scatter3d",
         "x": [
          1,
          9,
          2,
          2,
          2,
          2,
          2,
          2,
          2,
          2,
          2,
          2,
          2,
          2,
          2,
          2,
          2,
          2,
          1,
          2,
          2,
          2,
          2,
          2,
          2,
          2,
          2,
          2,
          2,
          2,
          2,
          2,
          2,
          2,
          2,
          2,
          2,
          2,
          2,
          6,
          2,
          2,
          6,
          6,
          6,
          6,
          2,
          2,
          6,
          2,
          2,
          6,
          6,
          6,
          6,
          6,
          6,
          2,
          2,
          2,
          2,
          2,
          2,
          2,
          2,
          2,
          2,
          2,
          2,
          2
         ],
         "y": [
          4,
          4,
          3,
          3,
          3,
          3,
          3,
          3,
          3,
          3,
          3,
          3,
          3,
          3,
          3,
          3,
          3,
          3,
          4,
          4,
          3,
          3,
          3,
          4,
          4,
          4,
          4,
          4,
          4,
          4,
          4,
          4,
          4,
          4,
          4,
          4,
          4,
          4,
          4,
          4,
          4,
          4,
          4,
          4,
          4,
          4,
          4,
          4,
          4,
          4,
          4,
          4,
          4,
          4,
          4,
          4,
          4,
          4,
          3,
          3,
          3,
          3,
          3,
          3,
          3,
          4,
          3,
          3,
          3,
          3
         ],
         "z": [
          5,
          7,
          6,
          6,
          6,
          6,
          6,
          6,
          6,
          6,
          6,
          6,
          5,
          5,
          5,
          5,
          5,
          5,
          7,
          5,
          9,
          9,
          9,
          7,
          7,
          7,
          7,
          8,
          8,
          8,
          8,
          9,
          9,
          9,
          9,
          9,
          9,
          7,
          7,
          7,
          7,
          7,
          7,
          7,
          7,
          7,
          7,
          7,
          7,
          7,
          7,
          7,
          7,
          7,
          7,
          7,
          7,
          7,
          7,
          7,
          7,
          7,
          7,
          7,
          7,
          8,
          7,
          7,
          7,
          7
         ]
        },
        {
         "hovertemplate": "Make=Fiat<br>Number_of_Airbags=%{x}<br>Cylinders=%{y}<br>Seating_Capacity=%{z}<extra></extra>",
         "legendgroup": "Fiat",
         "marker": {
          "color": "#636efa",
          "symbol": "circle"
         },
         "mode": "markers",
         "name": "Fiat",
         "scene": "scene",
         "showlegend": true,
         "type": "scatter3d",
         "x": [
          2,
          2,
          2,
          2,
          2,
          2,
          1,
          1,
          2
         ],
         "y": [
          4,
          4,
          4,
          4,
          4,
          4,
          4,
          4,
          4
         ],
         "z": [
          5,
          5,
          5,
          5,
          5,
          5,
          5,
          5,
          5
         ]
        },
        {
         "hovertemplate": "Make=Honda<br>Number_of_Airbags=%{x}<br>Cylinders=%{y}<br>Seating_Capacity=%{z}<extra></extra>",
         "legendgroup": "Honda",
         "marker": {
          "color": "#EF553B",
          "symbol": "circle"
         },
         "mode": "markers",
         "name": "Honda",
         "scene": "scene",
         "showlegend": true,
         "type": "scatter3d",
         "x": [
          2,
          2,
          2,
          2,
          2,
          2,
          2,
          2,
          6,
          2,
          2,
          2,
          2,
          2,
          2,
          2,
          2,
          2,
          2,
          2,
          2,
          2,
          2,
          2,
          2,
          2,
          2,
          2,
          2,
          2,
          2,
          2,
          2,
          2,
          2,
          2,
          2,
          4,
          4,
          8,
          4,
          8,
          2,
          2,
          2,
          2,
          2,
          2,
          6,
          2,
          2,
          2,
          2,
          2,
          2,
          2,
          6,
          6,
          2
         ],
         "y": [
          4,
          4,
          4,
          4,
          4,
          4,
          4,
          4,
          4,
          4,
          4,
          4,
          4,
          4,
          4,
          4,
          4,
          4,
          4,
          4,
          4,
          4,
          4,
          4,
          4,
          4,
          4,
          4,
          4,
          4,
          4,
          4,
          4,
          4,
          4,
          4,
          4,
          4,
          4,
          4,
          4,
          4,
          4,
          4,
          4,
          4,
          4,
          4,
          4,
          4,
          4,
          4,
          4,
          4,
          4,
          4,
          4,
          4,
          4
         ],
         "z": [
          5,
          5,
          5,
          5,
          5,
          5,
          5,
          5,
          5,
          5,
          5,
          5,
          5,
          5,
          5,
          5,
          5,
          5,
          5,
          5,
          5,
          5,
          5,
          5,
          5,
          5,
          5,
          5,
          5,
          7,
          7,
          7,
          7,
          7,
          7,
          7,
          7,
          5,
          5,
          5,
          5,
          5,
          5,
          5,
          5,
          5,
          5,
          5,
          5,
          5,
          5,
          5,
          5,
          5,
          5,
          5,
          5,
          5,
          5
         ]
        },
        {
         "hovertemplate": "Make=Jeep<br>Number_of_Airbags=%{x}<br>Cylinders=%{y}<br>Seating_Capacity=%{z}<extra></extra>",
         "legendgroup": "Jeep",
         "marker": {
          "color": "#00cc96",
          "symbol": "circle"
         },
         "mode": "markers",
         "name": "Jeep",
         "scene": "scene",
         "showlegend": true,
         "type": "scatter3d",
         "x": [
          6,
          6,
          6,
          6,
          7,
          6,
          2,
          2,
          2,
          2,
          2,
          2,
          2,
          2,
          6,
          6,
          6,
          6,
          6,
          2,
          2,
          2,
          6,
          2,
          6,
          6,
          2,
          6
         ],
         "y": [
          4,
          4,
          6,
          6,
          8,
          6,
          6,
          6,
          6,
          6,
          6,
          6,
          6,
          6,
          6,
          6,
          6,
          6,
          6,
          6,
          6,
          6,
          6,
          6,
          6,
          6,
          6,
          4
         ],
         "z": [
          5,
          5,
          5,
          5,
          5,
          5,
          5,
          5,
          5,
          5,
          5,
          5,
          5,
          5,
          5,
          5,
          5,
          5,
          5,
          5,
          5,
          5,
          5,
          5,
          5,
          5,
          5,
          5
         ]
        },
        {
         "hovertemplate": "Make=Isuzu<br>Number_of_Airbags=%{x}<br>Cylinders=%{y}<br>Seating_Capacity=%{z}<extra></extra>",
         "legendgroup": "Isuzu",
         "marker": {
          "color": "#ab63fa",
          "symbol": "circle"
         },
         "mode": "markers",
         "name": "Isuzu",
         "scene": "scene",
         "showlegend": true,
         "type": "scatter3d",
         "x": [
          2,
          2
         ],
         "y": [
          4,
          4
         ],
         "z": [
          7,
          7
         ]
        },
        {
         "hovertemplate": "Make=Skoda<br>Number_of_Airbags=%{x}<br>Cylinders=%{y}<br>Seating_Capacity=%{z}<extra></extra>",
         "legendgroup": "Skoda",
         "marker": {
          "color": "#FFA15A",
          "symbol": "circle"
         },
         "mode": "markers",
         "name": "Skoda",
         "scene": "scene",
         "showlegend": true,
         "type": "scatter3d",
         "x": [
          8,
          8,
          8,
          9,
          9,
          2,
          2,
          2,
          2,
          8,
          8,
          8,
          8,
          8,
          8,
          8,
          9,
          2,
          2,
          2,
          2,
          2,
          2,
          2,
          2,
          2,
          2,
          2,
          2,
          2,
          2,
          4,
          4,
          6,
          6,
          6,
          6,
          6,
          6,
          6,
          6,
          6,
          6
         ],
         "y": [
          4,
          4,
          4,
          4,
          4,
          4,
          4,
          4,
          4,
          4,
          4,
          4,
          4,
          4,
          4,
          4,
          4,
          4,
          4,
          4,
          4,
          4,
          4,
          4,
          4,
          4,
          4,
          4,
          4,
          4,
          4,
          4,
          4,
          4,
          4,
          4,
          4,
          4,
          4,
          4,
          4,
          4,
          4
         ],
         "z": [
          5,
          5,
          5,
          5,
          5,
          5,
          5,
          5,
          5,
          5,
          5,
          5,
          5,
          5,
          5,
          5,
          7,
          5,
          5,
          5,
          5,
          5,
          5,
          5,
          5,
          5,
          5,
          5,
          5,
          5,
          5,
          5,
          5,
          5,
          5,
          5,
          5,
          5,
          5,
          5,
          5,
          5,
          5
         ]
        },
        {
         "hovertemplate": "Make=Audi<br>Number_of_Airbags=%{x}<br>Cylinders=%{y}<br>Seating_Capacity=%{z}<extra></extra>",
         "legendgroup": "Audi",
         "marker": {
          "color": "#19d3f3",
          "symbol": "circle"
         },
         "mode": "markers",
         "name": "Audi",
         "scene": "scene",
         "showlegend": true,
         "type": "scatter3d",
         "x": [
          9,
          9,
          9,
          9,
          6,
          6,
          6,
          6,
          8,
          8,
          7,
          8,
          8,
          10,
          8,
          6,
          8,
          8,
          8,
          8,
          8,
          8,
          8,
          8,
          8,
          8,
          8,
          8
         ],
         "y": [
          4,
          4,
          4,
          4,
          4,
          4,
          4,
          4,
          4,
          4,
          4,
          4,
          4,
          6,
          4,
          8,
          10,
          4,
          4,
          6,
          6,
          6,
          6,
          6,
          6,
          6,
          6,
          8
         ],
         "z": [
          5,
          5,
          5,
          5,
          5,
          5,
          5,
          5,
          5,
          5,
          4,
          5,
          5,
          5,
          7,
          4,
          2,
          5,
          5,
          5,
          5,
          7,
          7,
          7,
          7,
          7,
          7,
          4
         ]
        },
        {
         "hovertemplate": "Make=Mercedes-Benz<br>Number_of_Airbags=%{x}<br>Cylinders=%{y}<br>Seating_Capacity=%{z}<extra></extra>",
         "legendgroup": "Mercedes-Benz",
         "marker": {
          "color": "#FF6692",
          "symbol": "circle"
         },
         "mode": "markers",
         "name": "Mercedes-Benz",
         "scene": "scene",
         "showlegend": true,
         "type": "scatter3d",
         "x": [
          7,
          7,
          6,
          6,
          6,
          6,
          6,
          9,
          9,
          9,
          9,
          9,
          8,
          8,
          8,
          10,
          10,
          8,
          8,
          8,
          7,
          7,
          7,
          6,
          7,
          7,
          7,
          7,
          8,
          6,
          6,
          10,
          7,
          8,
          8,
          8,
          8,
          8,
          7,
          7,
          7,
          7,
          7,
          7,
          7,
          7,
          6,
          6,
          6,
          6,
          6,
          6,
          7,
          7
         ],
         "y": [
          4,
          4,
          4,
          4,
          4,
          4,
          4,
          6,
          8,
          8,
          8,
          6,
          6,
          6,
          8,
          8,
          6,
          12,
          8,
          8,
          4,
          6,
          6,
          8,
          4,
          4,
          6,
          6,
          4,
          4,
          4,
          4,
          6,
          8,
          8,
          8,
          4,
          4,
          4,
          4,
          4,
          8,
          4,
          4,
          4,
          6,
          4,
          4,
          4,
          4,
          4,
          4,
          4,
          4
         ],
         "z": [
          5,
          5,
          5,
          5,
          5,
          5,
          5,
          5,
          7,
          7,
          7,
          5,
          5,
          5,
          4,
          7,
          7,
          4,
          4,
          4,
          5,
          5,
          5,
          4,
          5,
          5,
          5,
          5,
          4,
          7,
          6,
          6,
          5,
          2,
          2,
          2,
          5,
          5,
          5,
          5,
          5,
          5,
          5,
          5,
          5,
          5,
          5,
          5,
          5,
          5,
          5,
          5,
          5,
          5
         ]
        },
        {
         "hovertemplate": "Make=Volvo<br>Number_of_Airbags=%{x}<br>Cylinders=%{y}<br>Seating_Capacity=%{z}<extra></extra>",
         "legendgroup": "Volvo",
         "marker": {
          "color": "#B6E880",
          "symbol": "circle"
         },
         "mode": "markers",
         "name": "Volvo",
         "scene": "scene",
         "showlegend": true,
         "type": "scatter3d",
         "x": [
          8,
          7,
          7,
          6,
          6,
          6,
          8,
          6,
          6,
          6,
          7,
          6,
          7,
          7,
          6
         ],
         "y": [
          5,
          5,
          5,
          4,
          5,
          5,
          5,
          4,
          4,
          4,
          4,
          4,
          5,
          4,
          4
         ],
         "z": [
          5,
          5,
          5,
          5,
          5,
          4,
          5,
          7,
          7,
          4,
          7,
          7,
          5,
          5,
          5
         ]
        },
        {
         "hovertemplate": "Make=Mini<br>Number_of_Airbags=%{x}<br>Cylinders=%{y}<br>Seating_Capacity=%{z}<extra></extra>",
         "legendgroup": "Mini",
         "marker": {
          "color": "#FF97FF",
          "symbol": "circle"
         },
         "mode": "markers",
         "name": "Mini",
         "scene": "scene",
         "showlegend": true,
         "type": "scatter3d",
         "x": [
          2,
          6,
          6,
          6,
          6
         ],
         "y": [
          4,
          4,
          4,
          4,
          4
         ],
         "z": [
          2,
          5,
          5,
          5,
          5
         ]
        },
        {
         "hovertemplate": "Make=Jaguar<br>Number_of_Airbags=%{x}<br>Cylinders=%{y}<br>Seating_Capacity=%{z}<extra></extra>",
         "legendgroup": "Jaguar",
         "marker": {
          "color": "#FECB52",
          "symbol": "circle"
         },
         "mode": "markers",
         "name": "Jaguar",
         "scene": "scene",
         "showlegend": true,
         "type": "scatter3d",
         "x": [
          6,
          6,
          6,
          6,
          6,
          6,
          6,
          6,
          6,
          6,
          6,
          6,
          6,
          6,
          2,
          6,
          6,
          2,
          2,
          2,
          2
         ],
         "y": [
          4,
          4,
          4,
          4,
          4,
          4,
          4,
          4,
          4,
          6,
          6,
          6,
          4,
          4,
          6,
          8,
          8,
          6,
          6,
          8,
          4
         ],
         "z": [
          5,
          4,
          4,
          5,
          5,
          5,
          5,
          5,
          5,
          5,
          5,
          5,
          5,
          5,
          2,
          2,
          2,
          2,
          2,
          2,
          2
         ]
        },
        {
         "hovertemplate": "Make=Bmw<br>Number_of_Airbags=%{x}<br>Cylinders=%{y}<br>Seating_Capacity=%{z}<extra></extra>",
         "legendgroup": "Bmw",
         "marker": {
          "color": "#636efa",
          "symbol": "circle"
         },
         "mode": "markers",
         "name": "Bmw",
         "scene": "scene",
         "showlegend": true,
         "type": "scatter3d",
         "x": [
          6,
          6,
          6,
          10,
          8,
          8,
          8,
          8,
          8,
          8,
          6,
          6,
          6,
          6,
          6,
          6,
          6,
          6,
          6,
          6,
          6,
          4,
          4,
          9,
          9,
          10,
          8,
          8,
          8,
          6,
          6,
          8,
          9
         ],
         "y": [
          4,
          4,
          4,
          6,
          6,
          6,
          6,
          6,
          6,
          12,
          4,
          4,
          4,
          4,
          4,
          4,
          4,
          4,
          4,
          6,
          6,
          4,
          6,
          6,
          6,
          6,
          4,
          6,
          6,
          6,
          6,
          4,
          8
         ],
         "z": [
          5,
          5,
          5,
          4,
          4,
          4,
          4,
          4,
          4,
          4,
          5,
          5,
          5,
          5,
          5,
          5,
          5,
          5,
          5,
          5,
          5,
          2,
          2,
          7,
          7,
          4,
          5,
          5,
          5,
          4,
          4,
          4,
          4
         ]
        },
        {
         "hovertemplate": "Make=Land Rover<br>Number_of_Airbags=%{x}<br>Cylinders=%{y}<br>Seating_Capacity=%{z}<extra></extra>",
         "legendgroup": "Land Rover",
         "marker": {
          "color": "#EF553B",
          "symbol": "circle"
         },
         "mode": "markers",
         "name": "Land Rover",
         "scene": "scene",
         "showlegend": true,
         "type": "scatter3d",
         "x": [
          7,
          7,
          8,
          8,
          8,
          8,
          8,
          8,
          8,
          8
         ],
         "y": [
          4,
          4,
          6,
          6,
          6,
          6,
          6,
          6,
          6,
          6
         ],
         "z": [
          7,
          7,
          7,
          7,
          7,
          7,
          7,
          7,
          7,
          7
         ]
        },
        {
         "hovertemplate": "Make=Porsche<br>Number_of_Airbags=%{x}<br>Cylinders=%{y}<br>Seating_Capacity=%{z}<extra></extra>",
         "legendgroup": "Porsche",
         "marker": {
          "color": "#00cc96",
          "symbol": "circle"
         },
         "mode": "markers",
         "name": "Porsche",
         "scene": "scene",
         "showlegend": true,
         "type": "scatter3d",
         "x": [
          4,
          4,
          6,
          6,
          6,
          10,
          10,
          10,
          4,
          4,
          6,
          8
         ],
         "y": [
          4,
          4,
          8,
          8,
          8,
          6,
          6,
          6,
          6,
          6,
          6,
          6
         ],
         "z": [
          2,
          2,
          4,
          4,
          4,
          5,
          5,
          5,
          4,
          4,
          5,
          5
         ]
        },
        {
         "hovertemplate": "Make=Lexus<br>Number_of_Airbags=%{x}<br>Cylinders=%{y}<br>Seating_Capacity=%{z}<extra></extra>",
         "legendgroup": "Lexus",
         "marker": {
          "color": "#ab63fa",
          "symbol": "circle"
         },
         "mode": "markers",
         "name": "Lexus",
         "scene": "scene",
         "showlegend": true,
         "type": "scatter3d",
         "x": [
          10,
          8,
          8,
          8,
          14,
          14,
          14
         ],
         "y": [
          6,
          6,
          6,
          6,
          6,
          6,
          6
         ],
         "z": [
          5,
          4,
          5,
          5,
          5,
          5,
          5
         ]
        },
        {
         "hovertemplate": "Make=Maserati<br>Number_of_Airbags=%{x}<br>Cylinders=%{y}<br>Seating_Capacity=%{z}<extra></extra>",
         "legendgroup": "Maserati",
         "marker": {
          "color": "#FFA15A",
          "symbol": "circle"
         },
         "mode": "markers",
         "name": "Maserati",
         "scene": "scene",
         "showlegend": true,
         "type": "scatter3d",
         "x": [
          6,
          6,
          6,
          6,
          6,
          4
         ],
         "y": [
          6,
          6,
          6,
          8,
          6,
          8
         ],
         "z": [
          4,
          4,
          4,
          4,
          4,
          4
         ]
        },
        {
         "hovertemplate": "Make=Lamborghini<br>Number_of_Airbags=%{x}<br>Cylinders=%{y}<br>Seating_Capacity=%{z}<extra></extra>",
         "legendgroup": "Lamborghini",
         "marker": {
          "color": "#19d3f3",
          "symbol": "circle"
         },
         "mode": "markers",
         "name": "Lamborghini",
         "scene": "scene",
         "showlegend": true,
         "type": "scatter3d",
         "x": [
          8,
          4,
          4,
          4,
          4,
          4,
          4,
          4,
          4,
          6,
          6,
          6
         ],
         "y": [
          8,
          10,
          10,
          10,
          10,
          10,
          10,
          10,
          10,
          12,
          12,
          12
         ],
         "z": [
          5,
          2,
          2,
          2,
          2,
          2,
          2,
          2,
          2,
          2,
          2,
          2
         ]
        },
        {
         "hovertemplate": "Make=Bentley<br>Number_of_Airbags=%{x}<br>Cylinders=%{y}<br>Seating_Capacity=%{z}<extra></extra>",
         "legendgroup": "Bentley",
         "marker": {
          "color": "#FF6692",
          "symbol": "circle"
         },
         "mode": "markers",
         "name": "Bentley",
         "scene": "scene",
         "showlegend": true,
         "type": "scatter3d",
         "x": [
          6,
          6,
          6,
          6,
          6,
          6
         ],
         "y": [
          12,
          12,
          12,
          8,
          8,
          12
         ],
         "z": [
          4,
          5,
          5,
          4,
          4,
          4
         ]
        },
        {
         "hovertemplate": "Make=Ferrari<br>Number_of_Airbags=%{x}<br>Cylinders=%{y}<br>Seating_Capacity=%{z}<extra></extra>",
         "legendgroup": "Ferrari",
         "marker": {
          "color": "#B6E880",
          "symbol": "circle"
         },
         "mode": "markers",
         "name": "Ferrari",
         "scene": "scene",
         "showlegend": true,
         "type": "scatter3d",
         "x": [
          4,
          5,
          4,
          4,
          4,
          4,
          4,
          2
         ],
         "y": [
          8,
          8,
          8,
          8,
          8,
          8,
          12,
          8
         ],
         "z": [
          2,
          2,
          2,
          2,
          4,
          4,
          2,
          2
         ]
        },
        {
         "hovertemplate": "Make=Aston Martin<br>Number_of_Airbags=%{x}<br>Cylinders=%{y}<br>Seating_Capacity=%{z}<extra></extra>",
         "legendgroup": "Aston Martin",
         "marker": {
          "color": "#FF97FF",
          "symbol": "circle"
         },
         "mode": "markers",
         "name": "Aston Martin",
         "scene": "scene",
         "showlegend": true,
         "type": "scatter3d",
         "x": [
          8,
          6,
          8
         ],
         "y": [
          12,
          8,
          12
         ],
         "z": [
          2,
          2,
          4
         ]
        },
        {
         "hovertemplate": "Make=Rolls-Royce<br>Number_of_Airbags=%{x}<br>Cylinders=%{y}<br>Seating_Capacity=%{z}<extra></extra>",
         "legendgroup": "Rolls-Royce",
         "marker": {
          "color": "#FECB52",
          "symbol": "circle"
         },
         "mode": "markers",
         "name": "Rolls-Royce",
         "scene": "scene",
         "showlegend": true,
         "type": "scatter3d",
         "x": [
          6,
          6,
          6,
          8,
          6,
          6,
          6
         ],
         "y": [
          12,
          12,
          12,
          12,
          12,
          12,
          12
         ],
         "z": [
          5,
          5,
          4,
          4,
          4,
          5,
          5
         ]
        },
        {
         "hovertemplate": "Make=Land Rover Rover<br>Number_of_Airbags=%{x}<br>Cylinders=%{y}<br>Seating_Capacity=%{z}<extra></extra>",
         "legendgroup": "Land Rover Rover",
         "marker": {
          "color": "#636efa",
          "symbol": "circle"
         },
         "mode": "markers",
         "name": "Land Rover Rover",
         "scene": "scene",
         "showlegend": true,
         "type": "scatter3d",
         "x": [
          6,
          8,
          8,
          8,
          8,
          8,
          8,
          8,
          8,
          10,
          8,
          8,
          8,
          8
         ],
         "y": [
          4,
          8,
          8,
          6,
          8,
          6,
          6,
          6,
          8,
          8,
          8,
          6,
          8,
          6
         ],
         "z": [
          5,
          7,
          7,
          7,
          7,
          7,
          5,
          5,
          7,
          7,
          5,
          7,
          5,
          7
         ]
        },
        {
         "hovertemplate": "Make=Go+<br>Number_of_Airbags=%{x}<br>Cylinders=%{y}<br>Seating_Capacity=%{z}<extra></extra>",
         "legendgroup": "Go+",
         "marker": {
          "color": "#EF553B",
          "symbol": "circle"
         },
         "mode": "markers",
         "name": "Go+",
         "scene": "scene",
         "showlegend": true,
         "type": "scatter3d",
         "x": [
          2,
          2,
          2,
          2,
          2,
          2,
          2,
          2,
          2
         ],
         "y": [
          3,
          3,
          3,
          3,
          3,
          3,
          3,
          3,
          3
         ],
         "z": [
          7,
          7,
          7,
          7,
          7,
          7,
          7,
          7,
          7
         ]
        },
        {
         "hovertemplate": "Make=Kia<br>Number_of_Airbags=%{x}<br>Cylinders=%{y}<br>Seating_Capacity=%{z}<extra></extra>",
         "legendgroup": "Kia",
         "marker": {
          "color": "#00cc96",
          "symbol": "circle"
         },
         "mode": "markers",
         "name": "Kia",
         "scene": "scene",
         "showlegend": true,
         "type": "scatter3d",
         "x": [
          2,
          2,
          4,
          4,
          4
         ],
         "y": [
          4,
          4,
          4,
          4,
          4
         ],
         "z": [
          5,
          5,
          5,
          5,
          5
         ]
        },
        {
         "hovertemplate": "Make=Mitsubishi<br>Number_of_Airbags=%{x}<br>Cylinders=%{y}<br>Seating_Capacity=%{z}<extra></extra>",
         "legendgroup": "Mitsubishi",
         "marker": {
          "color": "#ab63fa",
          "symbol": "circle"
         },
         "mode": "markers",
         "name": "Mitsubishi",
         "scene": "scene",
         "showlegend": true,
         "type": "scatter3d",
         "x": [
          7,
          2,
          2,
          2,
          2,
          2,
          6
         ],
         "y": [
          4,
          4,
          4,
          4,
          4,
          4,
          4
         ],
         "z": [
          7,
          7,
          7,
          7,
          7,
          7,
          7
         ]
        },
        {
         "hovertemplate": "Make=Maruti Suzuki R<br>Number_of_Airbags=%{x}<br>Cylinders=%{y}<br>Seating_Capacity=%{z}<extra></extra>",
         "legendgroup": "Maruti Suzuki R",
         "marker": {
          "color": "#FFA15A",
          "symbol": "circle"
         },
         "mode": "markers",
         "name": "Maruti Suzuki R",
         "scene": "scene",
         "showlegend": true,
         "type": "scatter3d",
         "x": [
          1,
          2
         ],
         "y": [
          3,
          3
         ],
         "z": [
          5,
          5
         ]
        }
       ],
       "layout": {
        "height": 750,
        "legend": {
         "title": {
          "text": "Make"
         },
         "tracegroupgap": 0
        },
        "margin": {
         "t": 60
        },
        "scene": {
         "domain": {
          "x": [
           0,
           1
          ],
          "y": [
           0,
           1
          ]
         },
         "xaxis": {
          "title": {
           "text": "Number_of_Airbags"
          }
         },
         "yaxis": {
          "title": {
           "text": "Cylinders"
          }
         },
         "zaxis": {
          "title": {
           "text": "Seating_Capacity"
          }
         }
        },
        "showlegend": true,
        "template": {
         "data": {
          "bar": [
           {
            "error_x": {
             "color": "#2a3f5f"
            },
            "error_y": {
             "color": "#2a3f5f"
            },
            "marker": {
             "line": {
              "color": "#E5ECF6",
              "width": 0.5
             },
             "pattern": {
              "fillmode": "overlay",
              "size": 10,
              "solidity": 0.2
             }
            },
            "type": "bar"
           }
          ],
          "barpolar": [
           {
            "marker": {
             "line": {
              "color": "#E5ECF6",
              "width": 0.5
             },
             "pattern": {
              "fillmode": "overlay",
              "size": 10,
              "solidity": 0.2
             }
            },
            "type": "barpolar"
           }
          ],
          "carpet": [
           {
            "aaxis": {
             "endlinecolor": "#2a3f5f",
             "gridcolor": "white",
             "linecolor": "white",
             "minorgridcolor": "white",
             "startlinecolor": "#2a3f5f"
            },
            "baxis": {
             "endlinecolor": "#2a3f5f",
             "gridcolor": "white",
             "linecolor": "white",
             "minorgridcolor": "white",
             "startlinecolor": "#2a3f5f"
            },
            "type": "carpet"
           }
          ],
          "choropleth": [
           {
            "colorbar": {
             "outlinewidth": 0,
             "ticks": ""
            },
            "type": "choropleth"
           }
          ],
          "contour": [
           {
            "colorbar": {
             "outlinewidth": 0,
             "ticks": ""
            },
            "colorscale": [
             [
              0,
              "#0d0887"
             ],
             [
              0.1111111111111111,
              "#46039f"
             ],
             [
              0.2222222222222222,
              "#7201a8"
             ],
             [
              0.3333333333333333,
              "#9c179e"
             ],
             [
              0.4444444444444444,
              "#bd3786"
             ],
             [
              0.5555555555555556,
              "#d8576b"
             ],
             [
              0.6666666666666666,
              "#ed7953"
             ],
             [
              0.7777777777777778,
              "#fb9f3a"
             ],
             [
              0.8888888888888888,
              "#fdca26"
             ],
             [
              1,
              "#f0f921"
             ]
            ],
            "type": "contour"
           }
          ],
          "contourcarpet": [
           {
            "colorbar": {
             "outlinewidth": 0,
             "ticks": ""
            },
            "type": "contourcarpet"
           }
          ],
          "heatmap": [
           {
            "colorbar": {
             "outlinewidth": 0,
             "ticks": ""
            },
            "colorscale": [
             [
              0,
              "#0d0887"
             ],
             [
              0.1111111111111111,
              "#46039f"
             ],
             [
              0.2222222222222222,
              "#7201a8"
             ],
             [
              0.3333333333333333,
              "#9c179e"
             ],
             [
              0.4444444444444444,
              "#bd3786"
             ],
             [
              0.5555555555555556,
              "#d8576b"
             ],
             [
              0.6666666666666666,
              "#ed7953"
             ],
             [
              0.7777777777777778,
              "#fb9f3a"
             ],
             [
              0.8888888888888888,
              "#fdca26"
             ],
             [
              1,
              "#f0f921"
             ]
            ],
            "type": "heatmap"
           }
          ],
          "heatmapgl": [
           {
            "colorbar": {
             "outlinewidth": 0,
             "ticks": ""
            },
            "colorscale": [
             [
              0,
              "#0d0887"
             ],
             [
              0.1111111111111111,
              "#46039f"
             ],
             [
              0.2222222222222222,
              "#7201a8"
             ],
             [
              0.3333333333333333,
              "#9c179e"
             ],
             [
              0.4444444444444444,
              "#bd3786"
             ],
             [
              0.5555555555555556,
              "#d8576b"
             ],
             [
              0.6666666666666666,
              "#ed7953"
             ],
             [
              0.7777777777777778,
              "#fb9f3a"
             ],
             [
              0.8888888888888888,
              "#fdca26"
             ],
             [
              1,
              "#f0f921"
             ]
            ],
            "type": "heatmapgl"
           }
          ],
          "histogram": [
           {
            "marker": {
             "pattern": {
              "fillmode": "overlay",
              "size": 10,
              "solidity": 0.2
             }
            },
            "type": "histogram"
           }
          ],
          "histogram2d": [
           {
            "colorbar": {
             "outlinewidth": 0,
             "ticks": ""
            },
            "colorscale": [
             [
              0,
              "#0d0887"
             ],
             [
              0.1111111111111111,
              "#46039f"
             ],
             [
              0.2222222222222222,
              "#7201a8"
             ],
             [
              0.3333333333333333,
              "#9c179e"
             ],
             [
              0.4444444444444444,
              "#bd3786"
             ],
             [
              0.5555555555555556,
              "#d8576b"
             ],
             [
              0.6666666666666666,
              "#ed7953"
             ],
             [
              0.7777777777777778,
              "#fb9f3a"
             ],
             [
              0.8888888888888888,
              "#fdca26"
             ],
             [
              1,
              "#f0f921"
             ]
            ],
            "type": "histogram2d"
           }
          ],
          "histogram2dcontour": [
           {
            "colorbar": {
             "outlinewidth": 0,
             "ticks": ""
            },
            "colorscale": [
             [
              0,
              "#0d0887"
             ],
             [
              0.1111111111111111,
              "#46039f"
             ],
             [
              0.2222222222222222,
              "#7201a8"
             ],
             [
              0.3333333333333333,
              "#9c179e"
             ],
             [
              0.4444444444444444,
              "#bd3786"
             ],
             [
              0.5555555555555556,
              "#d8576b"
             ],
             [
              0.6666666666666666,
              "#ed7953"
             ],
             [
              0.7777777777777778,
              "#fb9f3a"
             ],
             [
              0.8888888888888888,
              "#fdca26"
             ],
             [
              1,
              "#f0f921"
             ]
            ],
            "type": "histogram2dcontour"
           }
          ],
          "mesh3d": [
           {
            "colorbar": {
             "outlinewidth": 0,
             "ticks": ""
            },
            "type": "mesh3d"
           }
          ],
          "parcoords": [
           {
            "line": {
             "colorbar": {
              "outlinewidth": 0,
              "ticks": ""
             }
            },
            "type": "parcoords"
           }
          ],
          "pie": [
           {
            "automargin": true,
            "type": "pie"
           }
          ],
          "scatter": [
           {
            "fillpattern": {
             "fillmode": "overlay",
             "size": 10,
             "solidity": 0.2
            },
            "type": "scatter"
           }
          ],
          "scatter3d": [
           {
            "line": {
             "colorbar": {
              "outlinewidth": 0,
              "ticks": ""
             }
            },
            "marker": {
             "colorbar": {
              "outlinewidth": 0,
              "ticks": ""
             }
            },
            "type": "scatter3d"
           }
          ],
          "scattercarpet": [
           {
            "marker": {
             "colorbar": {
              "outlinewidth": 0,
              "ticks": ""
             }
            },
            "type": "scattercarpet"
           }
          ],
          "scattergeo": [
           {
            "marker": {
             "colorbar": {
              "outlinewidth": 0,
              "ticks": ""
             }
            },
            "type": "scattergeo"
           }
          ],
          "scattergl": [
           {
            "marker": {
             "colorbar": {
              "outlinewidth": 0,
              "ticks": ""
             }
            },
            "type": "scattergl"
           }
          ],
          "scattermapbox": [
           {
            "marker": {
             "colorbar": {
              "outlinewidth": 0,
              "ticks": ""
             }
            },
            "type": "scattermapbox"
           }
          ],
          "scatterpolar": [
           {
            "marker": {
             "colorbar": {
              "outlinewidth": 0,
              "ticks": ""
             }
            },
            "type": "scatterpolar"
           }
          ],
          "scatterpolargl": [
           {
            "marker": {
             "colorbar": {
              "outlinewidth": 0,
              "ticks": ""
             }
            },
            "type": "scatterpolargl"
           }
          ],
          "scatterternary": [
           {
            "marker": {
             "colorbar": {
              "outlinewidth": 0,
              "ticks": ""
             }
            },
            "type": "scatterternary"
           }
          ],
          "surface": [
           {
            "colorbar": {
             "outlinewidth": 0,
             "ticks": ""
            },
            "colorscale": [
             [
              0,
              "#0d0887"
             ],
             [
              0.1111111111111111,
              "#46039f"
             ],
             [
              0.2222222222222222,
              "#7201a8"
             ],
             [
              0.3333333333333333,
              "#9c179e"
             ],
             [
              0.4444444444444444,
              "#bd3786"
             ],
             [
              0.5555555555555556,
              "#d8576b"
             ],
             [
              0.6666666666666666,
              "#ed7953"
             ],
             [
              0.7777777777777778,
              "#fb9f3a"
             ],
             [
              0.8888888888888888,
              "#fdca26"
             ],
             [
              1,
              "#f0f921"
             ]
            ],
            "type": "surface"
           }
          ],
          "table": [
           {
            "cells": {
             "fill": {
              "color": "#EBF0F8"
             },
             "line": {
              "color": "white"
             }
            },
            "header": {
             "fill": {
              "color": "#C8D4E3"
             },
             "line": {
              "color": "white"
             }
            },
            "type": "table"
           }
          ]
         },
         "layout": {
          "annotationdefaults": {
           "arrowcolor": "#2a3f5f",
           "arrowhead": 0,
           "arrowwidth": 1
          },
          "autotypenumbers": "strict",
          "coloraxis": {
           "colorbar": {
            "outlinewidth": 0,
            "ticks": ""
           }
          },
          "colorscale": {
           "diverging": [
            [
             0,
             "#8e0152"
            ],
            [
             0.1,
             "#c51b7d"
            ],
            [
             0.2,
             "#de77ae"
            ],
            [
             0.3,
             "#f1b6da"
            ],
            [
             0.4,
             "#fde0ef"
            ],
            [
             0.5,
             "#f7f7f7"
            ],
            [
             0.6,
             "#e6f5d0"
            ],
            [
             0.7,
             "#b8e186"
            ],
            [
             0.8,
             "#7fbc41"
            ],
            [
             0.9,
             "#4d9221"
            ],
            [
             1,
             "#276419"
            ]
           ],
           "sequential": [
            [
             0,
             "#0d0887"
            ],
            [
             0.1111111111111111,
             "#46039f"
            ],
            [
             0.2222222222222222,
             "#7201a8"
            ],
            [
             0.3333333333333333,
             "#9c179e"
            ],
            [
             0.4444444444444444,
             "#bd3786"
            ],
            [
             0.5555555555555556,
             "#d8576b"
            ],
            [
             0.6666666666666666,
             "#ed7953"
            ],
            [
             0.7777777777777778,
             "#fb9f3a"
            ],
            [
             0.8888888888888888,
             "#fdca26"
            ],
            [
             1,
             "#f0f921"
            ]
           ],
           "sequentialminus": [
            [
             0,
             "#0d0887"
            ],
            [
             0.1111111111111111,
             "#46039f"
            ],
            [
             0.2222222222222222,
             "#7201a8"
            ],
            [
             0.3333333333333333,
             "#9c179e"
            ],
            [
             0.4444444444444444,
             "#bd3786"
            ],
            [
             0.5555555555555556,
             "#d8576b"
            ],
            [
             0.6666666666666666,
             "#ed7953"
            ],
            [
             0.7777777777777778,
             "#fb9f3a"
            ],
            [
             0.8888888888888888,
             "#fdca26"
            ],
            [
             1,
             "#f0f921"
            ]
           ]
          },
          "colorway": [
           "#636efa",
           "#EF553B",
           "#00cc96",
           "#ab63fa",
           "#FFA15A",
           "#19d3f3",
           "#FF6692",
           "#B6E880",
           "#FF97FF",
           "#FECB52"
          ],
          "font": {
           "color": "#2a3f5f"
          },
          "geo": {
           "bgcolor": "white",
           "lakecolor": "white",
           "landcolor": "#E5ECF6",
           "showlakes": true,
           "showland": true,
           "subunitcolor": "white"
          },
          "hoverlabel": {
           "align": "left"
          },
          "hovermode": "closest",
          "mapbox": {
           "style": "light"
          },
          "paper_bgcolor": "white",
          "plot_bgcolor": "#E5ECF6",
          "polar": {
           "angularaxis": {
            "gridcolor": "white",
            "linecolor": "white",
            "ticks": ""
           },
           "bgcolor": "#E5ECF6",
           "radialaxis": {
            "gridcolor": "white",
            "linecolor": "white",
            "ticks": ""
           }
          },
          "scene": {
           "xaxis": {
            "backgroundcolor": "#E5ECF6",
            "gridcolor": "white",
            "gridwidth": 2,
            "linecolor": "white",
            "showbackground": true,
            "ticks": "",
            "zerolinecolor": "white"
           },
           "yaxis": {
            "backgroundcolor": "#E5ECF6",
            "gridcolor": "white",
            "gridwidth": 2,
            "linecolor": "white",
            "showbackground": true,
            "ticks": "",
            "zerolinecolor": "white"
           },
           "zaxis": {
            "backgroundcolor": "#E5ECF6",
            "gridcolor": "white",
            "gridwidth": 2,
            "linecolor": "white",
            "showbackground": true,
            "ticks": "",
            "zerolinecolor": "white"
           }
          },
          "shapedefaults": {
           "line": {
            "color": "#2a3f5f"
           }
          },
          "ternary": {
           "aaxis": {
            "gridcolor": "white",
            "linecolor": "white",
            "ticks": ""
           },
           "baxis": {
            "gridcolor": "white",
            "linecolor": "white",
            "ticks": ""
           },
           "bgcolor": "#E5ECF6",
           "caxis": {
            "gridcolor": "white",
            "linecolor": "white",
            "ticks": ""
           }
          },
          "title": {
           "x": 0.05
          },
          "xaxis": {
           "automargin": true,
           "gridcolor": "white",
           "linecolor": "white",
           "ticks": "",
           "title": {
            "standoff": 15
           },
           "zerolinecolor": "white",
           "zerolinewidth": 2
          },
          "yaxis": {
           "automargin": true,
           "gridcolor": "white",
           "linecolor": "white",
           "ticks": "",
           "title": {
            "standoff": 15
           },
           "zerolinecolor": "white",
           "zerolinewidth": 2
          }
         }
        },
        "width": 800
       }
      },
      "text/html": [
       "<div>                            <div id=\"64147db6-6497-48e3-82b6-0b2a35cd1b0a\" class=\"plotly-graph-div\" style=\"height:750px; width:800px;\"></div>            <script type=\"text/javascript\">                require([\"plotly\"], function(Plotly) {                    window.PLOTLYENV=window.PLOTLYENV || {};                                    if (document.getElementById(\"64147db6-6497-48e3-82b6-0b2a35cd1b0a\")) {                    Plotly.newPlot(                        \"64147db6-6497-48e3-82b6-0b2a35cd1b0a\",                        [{\"hovertemplate\":\"Make=Renault<br>Number_of_Airbags=%{x}<br>Cylinders=%{y}<br>Seating_Capacity=%{z}<extra></extra>\",\"legendgroup\":\"Renault\",\"marker\":{\"color\":\"#636efa\",\"symbol\":\"circle\"},\"mode\":\"markers\",\"name\":\"Renault\",\"scene\":\"scene\",\"showlegend\":true,\"x\":[1,1,1,1,1,1,1,1,2,2,2,2,2,2,2,4,2,2,2,2,2,2,2,2,2,2,2,2,2,2,4,2],\"y\":[3,3,3,3,3,3,3,3,3,3,3,3,3,3,3,3,4,4,4,4,4,4,4,4,4,4,4,4,4,4,4,4],\"z\":[5,5,5,5,5,5,5,5,5,5,5,5,7,7,7,7,5,5,5,5,5,5,5,5,5,7,8,8,5,5,5,5],\"type\":\"scatter3d\"},{\"hovertemplate\":\"Make=Maruti Suzuki<br>Number_of_Airbags=%{x}<br>Cylinders=%{y}<br>Seating_Capacity=%{z}<extra></extra>\",\"legendgroup\":\"Maruti Suzuki\",\"marker\":{\"color\":\"#EF553B\",\"symbol\":\"circle\"},\"mode\":\"markers\",\"name\":\"Maruti Suzuki\",\"scene\":\"scene\",\"showlegend\":true,\"x\":[1,1,1,1,1,1,1,1,1,1,2,2,2,1,1,2,1,2,1,2,2,2,2,2,2,2,2,2,2,2,2,2,2,2,2,2,2,2,2,2,2,2,1,2,1,2,1,2,1,2,1,2,1,2,2,2,1,2,1,2,2,2,2,2,2,2,2,2,2,2,2,2,2,2,2,2,2,2,2,2,2,2,2,1,2,2,2,2,2,2,2,2,2,2,2,2,2,2,2,2,2,2,2,2,2,2,2,2,2,2,2,2,2,2,2,2,2,2,1,2,2,2,2,2,2,2,2,2,2,2,2,2,2],\"y\":[4,4,4,4,3,3,3,3,3,3,3,3,3,3,3,3,3,3,3,3,4,4,4,4,4,4,4,4,4,4,4,4,4,4,4,4,4,4,4,4,4,3,3,3,3,3,3,3,3,3,3,3,3,3,3,3,3,3,3,3,3,3,3,4,4,4,4,4,4,4,4,4,4,4,4,4,4,4,4,4,4,4,4,4,4,4,4,4,4,4,4,4,4,4,4,4,4,4,4,4,4,4,4,4,4,4,4,4,4,4,4,4,4,3,4,4,4,4,3,4,4,4,4,4,4,4,4,4,4,4,4,4,4],\"z\":[5,7,5,5,5,5,5,5,5,5,5,5,5,5,5,5,5,5,5,5,5,5,5,5,5,5,5,5,5,5,5,5,5,5,5,5,5,5,5,5,5,5,5,5,5,5,5,5,5,5,5,5,5,5,5,5,5,5,5,5,5,5,5,5,5,5,5,5,5,5,5,5,5,5,5,5,5,5,5,5,5,5,5,5,5,5,6,6,6,6,5,5,5,5,5,5,5,5,5,5,5,5,5,7,7,7,7,7,7,7,7,7,7,5,5,5,5,5,5,5,5,5,5,5,5,5,5,5,5,5,5,5,5],\"type\":\"scatter3d\"},{\"hovertemplate\":\"Make=Datsun<br>Number_of_Airbags=%{x}<br>Cylinders=%{y}<br>Seating_Capacity=%{z}<extra></extra>\",\"legendgroup\":\"Datsun\",\"marker\":{\"color\":\"#00cc96\",\"symbol\":\"circle\"},\"mode\":\"markers\",\"name\":\"Datsun\",\"scene\":\"scene\",\"showlegend\":true,\"x\":[2,2,2,2,2,2,2,2,2],\"y\":[3,3,3,3,3,3,3,3,3],\"z\":[5,5,5,5,5,5,5,5,5],\"type\":\"scatter3d\"},{\"hovertemplate\":\"Make=Hyundai<br>Number_of_Airbags=%{x}<br>Cylinders=%{y}<br>Seating_Capacity=%{z}<extra></extra>\",\"legendgroup\":\"Hyundai\",\"marker\":{\"color\":\"#ab63fa\",\"symbol\":\"circle\"},\"mode\":\"markers\",\"name\":\"Hyundai\",\"scene\":\"scene\",\"showlegend\":true,\"x\":[1,1,1,1,1,1,1,2,2,2,2,2,2,2,2,2,6,6,2,2,2,2,1,1,1,2,2,2,2,6,2,2,2,6,2,6,6,6,2,2,6,6,2,6,2,2,6,6,2,2,2,2,2,2,2,2,2,6,6,6,6,2,2,6,6,6,6,6,6,2,2,2,2,2,2,2,2,2,2,2,2,2,2,2,2,2,2,2,2,2,2,6,2,2,2,2,6,2,2,2,6,6,2,2,2,2],\"y\":[4,4,4,4,4,4,4,4,4,4,4,4,4,4,4,4,4,4,4,4,4,4,3,4,4,4,4,4,4,4,4,4,4,4,4,4,4,4,4,4,4,4,4,4,4,4,4,4,4,4,4,4,4,4,4,4,4,4,4,4,4,4,4,4,4,4,4,4,4,3,4,4,4,4,4,4,4,3,3,4,4,4,4,3,4,3,3,4,4,4,4,4,4,4,4,4,4,4,4,4,4,4,4,4,4,4],\"z\":[5,5,5,5,5,5,5,5,5,5,5,5,5,5,5,5,5,5,5,5,5,5,5,5,5,5,5,5,5,5,5,5,5,5,5,5,5,5,5,5,5,5,5,5,5,5,5,5,5,5,5,5,5,5,5,5,5,5,5,5,5,5,5,5,5,5,5,5,5,5,5,5,5,5,5,5,5,5,5,5,5,5,5,5,5,5,5,5,5,5,5,5,5,5,5,5,5,5,5,5,5,5,5,5,5,5],\"type\":\"scatter3d\"},{\"hovertemplate\":\"Make=Tata<br>Number_of_Airbags=%{x}<br>Cylinders=%{y}<br>Seating_Capacity=%{z}<extra></extra>\",\"legendgroup\":\"Tata\",\"marker\":{\"color\":\"#FFA15A\",\"symbol\":\"circle\"},\"mode\":\"markers\",\"name\":\"Tata\",\"scene\":\"scene\",\"showlegend\":true,\"x\":[2,2,2,2,2,2,2,2,2,2,2,2,2,2,2,2,2,2,2,2,2,2,2,2,2,2,2,2,2,2,2,2,2,2,2,2,2,2,2,2,2,2,2,2,2,2,2,2,2,2,2,2,2,2,2,2,6,2,2,2,2,2,2,2,2,2,2,2,2,2],\"y\":[3,3,3,3,3,3,3,3,4,4,4,4,3,3,3,3,3,4,4,4,4,4,3,3,3,3,4,4,4,4,4,4,3,3,3,3,3,3,3,3,3,3,3,4,4,4,4,4,4,4,4,4,4,4,4,4,4,4,4,4,4,3,3,3,3,3,3,3,3,3],\"z\":[5,5,5,5,5,5,5,5,5,5,5,5,5,5,5,5,5,5,5,5,5,5,5,5,5,5,5,5,5,5,5,5,5,5,5,5,5,5,5,5,5,5,5,5,5,5,5,5,5,5,5,5,5,5,5,7,6,7,7,7,7,5,5,5,5,5,5,5,5,5],\"type\":\"scatter3d\"},{\"hovertemplate\":\"Make=Toyota<br>Number_of_Airbags=%{x}<br>Cylinders=%{y}<br>Seating_Capacity=%{z}<extra></extra>\",\"legendgroup\":\"Toyota\",\"marker\":{\"color\":\"#19d3f3\",\"symbol\":\"circle\"},\"mode\":\"markers\",\"name\":\"Toyota\",\"scene\":\"scene\",\"showlegend\":true,\"x\":[2,2,2,2,2,2,2,2,2,2,2,2,2,2,2,2,2,2,2,2,2,2,2,2,2,2,2,2,2,2,2,2,2,2,2,7,3,3,3,3,7,7,7,7,3,7,7,3,3,7,3,3,3,3,7,3,3,7,7,7,7,7,7,7,7,8,7,9,7,7,7,7,7,7,7,7,7,3,3,3,3,7],\"y\":[4,4,4,4,4,4,4,4,4,4,4,4,4,4,4,4,4,4,4,4,4,4,4,4,4,4,4,4,4,4,4,4,4,4,4,4,4,4,4,4,4,4,4,4,4,4,4,4,4,4,4,4,4,4,4,4,4,4,4,4,4,4,4,4,4,8,4,4,4,4,4,4,4,4,4,4,4,4,4,4,4,4],\"z\":[5,5,5,5,5,5,5,5,5,5,5,5,5,5,5,5,5,5,5,5,5,5,5,5,5,5,5,5,5,5,5,5,5,5,5,7,7,7,8,8,7,8,7,7,7,7,8,7,7,7,7,8,5,5,5,5,5,5,7,7,7,7,7,7,7,7,5,5,5,5,5,5,5,5,5,5,5,5,5,5,5,5],\"type\":\"scatter3d\"},{\"hovertemplate\":\"Make=Nissan<br>Number_of_Airbags=%{x}<br>Cylinders=%{y}<br>Seating_Capacity=%{z}<extra></extra>\",\"legendgroup\":\"Nissan\",\"marker\":{\"color\":\"#FF6692\",\"symbol\":\"circle\"},\"mode\":\"markers\",\"name\":\"Nissan\",\"scene\":\"scene\",\"showlegend\":true,\"x\":[2,2,2,1,1,1,2,1,2,2,2,2,2,2,2,2,6,2,2,2,2,2,2,2,2,2,2,7,2],\"y\":[3,3,3,4,4,4,4,4,4,4,4,4,4,4,4,4,6,3,3,4,4,4,4,4,4,4,4,4,4],\"z\":[5,5,5,5,5,5,5,5,5,5,5,5,5,5,5,5,4,5,5,5,5,5,5,5,5,5,5,5,5],\"type\":\"scatter3d\"},{\"hovertemplate\":\"Make=Volkswagen<br>Number_of_Airbags=%{x}<br>Cylinders=%{y}<br>Seating_Capacity=%{z}<extra></extra>\",\"legendgroup\":\"Volkswagen\",\"marker\":{\"color\":\"#B6E880\",\"symbol\":\"circle\"},\"mode\":\"markers\",\"name\":\"Volkswagen\",\"scene\":\"scene\",\"showlegend\":true,\"x\":[2,2,2,2,2,2,2,2,2,2,2,6,2,2,2,2,2,2,2,2,2,2,2,2,9,9,9,9],\"y\":[3,3,3,4,4,4,4,4,3,3,3,4,4,4,4,4,4,4,4,4,4,4,4,4,4,4,4,4],\"z\":[5,5,5,5,5,5,5,5,5,5,5,5,5,5,5,5,5,5,5,5,5,5,5,5,5,5,5,5],\"type\":\"scatter3d\"},{\"hovertemplate\":\"Make=Ford<br>Number_of_Airbags=%{x}<br>Cylinders=%{y}<br>Seating_Capacity=%{z}<extra></extra>\",\"legendgroup\":\"Ford\",\"marker\":{\"color\":\"#FF97FF\",\"symbol\":\"circle\"},\"mode\":\"markers\",\"name\":\"Ford\",\"scene\":\"scene\",\"showlegend\":true,\"x\":[2,2,6,2,2,6,2,2,2,2,2,2,2,2,2,6,6,2,2,2,2,8,2,2,2,6,2,2,2,6,6,6,6,6,7,7,6,2,2,2,2,6,6],\"y\":[4,4,4,3,3,3,3,3,4,4,4,4,4,4,4,4,4,4,4,4,4,8,3,3,3,3,4,4,4,4,4,3,4,4,5,4,4,4,4,4,4,4,4],\"z\":[5,5,5,5,5,5,5,5,5,5,5,5,5,5,5,5,5,5,5,5,5,4,5,5,5,5,5,5,5,5,5,5,5,5,7,7,7,5,5,5,5,5,5],\"type\":\"scatter3d\"},{\"hovertemplate\":\"Make=Mahindra<br>Number_of_Airbags=%{x}<br>Cylinders=%{y}<br>Seating_Capacity=%{z}<extra></extra>\",\"legendgroup\":\"Mahindra\",\"marker\":{\"color\":\"#FECB52\",\"symbol\":\"circle\"},\"mode\":\"markers\",\"name\":\"Mahindra\",\"scene\":\"scene\",\"showlegend\":true,\"x\":[1,9,2,2,2,2,2,2,2,2,2,2,2,2,2,2,2,2,1,2,2,2,2,2,2,2,2,2,2,2,2,2,2,2,2,2,2,2,2,6,2,2,6,6,6,6,2,2,6,2,2,6,6,6,6,6,6,2,2,2,2,2,2,2,2,2,2,2,2,2],\"y\":[4,4,3,3,3,3,3,3,3,3,3,3,3,3,3,3,3,3,4,4,3,3,3,4,4,4,4,4,4,4,4,4,4,4,4,4,4,4,4,4,4,4,4,4,4,4,4,4,4,4,4,4,4,4,4,4,4,4,3,3,3,3,3,3,3,4,3,3,3,3],\"z\":[5,7,6,6,6,6,6,6,6,6,6,6,5,5,5,5,5,5,7,5,9,9,9,7,7,7,7,8,8,8,8,9,9,9,9,9,9,7,7,7,7,7,7,7,7,7,7,7,7,7,7,7,7,7,7,7,7,7,7,7,7,7,7,7,7,8,7,7,7,7],\"type\":\"scatter3d\"},{\"hovertemplate\":\"Make=Fiat<br>Number_of_Airbags=%{x}<br>Cylinders=%{y}<br>Seating_Capacity=%{z}<extra></extra>\",\"legendgroup\":\"Fiat\",\"marker\":{\"color\":\"#636efa\",\"symbol\":\"circle\"},\"mode\":\"markers\",\"name\":\"Fiat\",\"scene\":\"scene\",\"showlegend\":true,\"x\":[2,2,2,2,2,2,1,1,2],\"y\":[4,4,4,4,4,4,4,4,4],\"z\":[5,5,5,5,5,5,5,5,5],\"type\":\"scatter3d\"},{\"hovertemplate\":\"Make=Honda<br>Number_of_Airbags=%{x}<br>Cylinders=%{y}<br>Seating_Capacity=%{z}<extra></extra>\",\"legendgroup\":\"Honda\",\"marker\":{\"color\":\"#EF553B\",\"symbol\":\"circle\"},\"mode\":\"markers\",\"name\":\"Honda\",\"scene\":\"scene\",\"showlegend\":true,\"x\":[2,2,2,2,2,2,2,2,6,2,2,2,2,2,2,2,2,2,2,2,2,2,2,2,2,2,2,2,2,2,2,2,2,2,2,2,2,4,4,8,4,8,2,2,2,2,2,2,6,2,2,2,2,2,2,2,6,6,2],\"y\":[4,4,4,4,4,4,4,4,4,4,4,4,4,4,4,4,4,4,4,4,4,4,4,4,4,4,4,4,4,4,4,4,4,4,4,4,4,4,4,4,4,4,4,4,4,4,4,4,4,4,4,4,4,4,4,4,4,4,4],\"z\":[5,5,5,5,5,5,5,5,5,5,5,5,5,5,5,5,5,5,5,5,5,5,5,5,5,5,5,5,5,7,7,7,7,7,7,7,7,5,5,5,5,5,5,5,5,5,5,5,5,5,5,5,5,5,5,5,5,5,5],\"type\":\"scatter3d\"},{\"hovertemplate\":\"Make=Jeep<br>Number_of_Airbags=%{x}<br>Cylinders=%{y}<br>Seating_Capacity=%{z}<extra></extra>\",\"legendgroup\":\"Jeep\",\"marker\":{\"color\":\"#00cc96\",\"symbol\":\"circle\"},\"mode\":\"markers\",\"name\":\"Jeep\",\"scene\":\"scene\",\"showlegend\":true,\"x\":[6,6,6,6,7,6,2,2,2,2,2,2,2,2,6,6,6,6,6,2,2,2,6,2,6,6,2,6],\"y\":[4,4,6,6,8,6,6,6,6,6,6,6,6,6,6,6,6,6,6,6,6,6,6,6,6,6,6,4],\"z\":[5,5,5,5,5,5,5,5,5,5,5,5,5,5,5,5,5,5,5,5,5,5,5,5,5,5,5,5],\"type\":\"scatter3d\"},{\"hovertemplate\":\"Make=Isuzu<br>Number_of_Airbags=%{x}<br>Cylinders=%{y}<br>Seating_Capacity=%{z}<extra></extra>\",\"legendgroup\":\"Isuzu\",\"marker\":{\"color\":\"#ab63fa\",\"symbol\":\"circle\"},\"mode\":\"markers\",\"name\":\"Isuzu\",\"scene\":\"scene\",\"showlegend\":true,\"x\":[2,2],\"y\":[4,4],\"z\":[7,7],\"type\":\"scatter3d\"},{\"hovertemplate\":\"Make=Skoda<br>Number_of_Airbags=%{x}<br>Cylinders=%{y}<br>Seating_Capacity=%{z}<extra></extra>\",\"legendgroup\":\"Skoda\",\"marker\":{\"color\":\"#FFA15A\",\"symbol\":\"circle\"},\"mode\":\"markers\",\"name\":\"Skoda\",\"scene\":\"scene\",\"showlegend\":true,\"x\":[8,8,8,9,9,2,2,2,2,8,8,8,8,8,8,8,9,2,2,2,2,2,2,2,2,2,2,2,2,2,2,4,4,6,6,6,6,6,6,6,6,6,6],\"y\":[4,4,4,4,4,4,4,4,4,4,4,4,4,4,4,4,4,4,4,4,4,4,4,4,4,4,4,4,4,4,4,4,4,4,4,4,4,4,4,4,4,4,4],\"z\":[5,5,5,5,5,5,5,5,5,5,5,5,5,5,5,5,7,5,5,5,5,5,5,5,5,5,5,5,5,5,5,5,5,5,5,5,5,5,5,5,5,5,5],\"type\":\"scatter3d\"},{\"hovertemplate\":\"Make=Audi<br>Number_of_Airbags=%{x}<br>Cylinders=%{y}<br>Seating_Capacity=%{z}<extra></extra>\",\"legendgroup\":\"Audi\",\"marker\":{\"color\":\"#19d3f3\",\"symbol\":\"circle\"},\"mode\":\"markers\",\"name\":\"Audi\",\"scene\":\"scene\",\"showlegend\":true,\"x\":[9,9,9,9,6,6,6,6,8,8,7,8,8,10,8,6,8,8,8,8,8,8,8,8,8,8,8,8],\"y\":[4,4,4,4,4,4,4,4,4,4,4,4,4,6,4,8,10,4,4,6,6,6,6,6,6,6,6,8],\"z\":[5,5,5,5,5,5,5,5,5,5,4,5,5,5,7,4,2,5,5,5,5,7,7,7,7,7,7,4],\"type\":\"scatter3d\"},{\"hovertemplate\":\"Make=Mercedes-Benz<br>Number_of_Airbags=%{x}<br>Cylinders=%{y}<br>Seating_Capacity=%{z}<extra></extra>\",\"legendgroup\":\"Mercedes-Benz\",\"marker\":{\"color\":\"#FF6692\",\"symbol\":\"circle\"},\"mode\":\"markers\",\"name\":\"Mercedes-Benz\",\"scene\":\"scene\",\"showlegend\":true,\"x\":[7,7,6,6,6,6,6,9,9,9,9,9,8,8,8,10,10,8,8,8,7,7,7,6,7,7,7,7,8,6,6,10,7,8,8,8,8,8,7,7,7,7,7,7,7,7,6,6,6,6,6,6,7,7],\"y\":[4,4,4,4,4,4,4,6,8,8,8,6,6,6,8,8,6,12,8,8,4,6,6,8,4,4,6,6,4,4,4,4,6,8,8,8,4,4,4,4,4,8,4,4,4,6,4,4,4,4,4,4,4,4],\"z\":[5,5,5,5,5,5,5,5,7,7,7,5,5,5,4,7,7,4,4,4,5,5,5,4,5,5,5,5,4,7,6,6,5,2,2,2,5,5,5,5,5,5,5,5,5,5,5,5,5,5,5,5,5,5],\"type\":\"scatter3d\"},{\"hovertemplate\":\"Make=Volvo<br>Number_of_Airbags=%{x}<br>Cylinders=%{y}<br>Seating_Capacity=%{z}<extra></extra>\",\"legendgroup\":\"Volvo\",\"marker\":{\"color\":\"#B6E880\",\"symbol\":\"circle\"},\"mode\":\"markers\",\"name\":\"Volvo\",\"scene\":\"scene\",\"showlegend\":true,\"x\":[8,7,7,6,6,6,8,6,6,6,7,6,7,7,6],\"y\":[5,5,5,4,5,5,5,4,4,4,4,4,5,4,4],\"z\":[5,5,5,5,5,4,5,7,7,4,7,7,5,5,5],\"type\":\"scatter3d\"},{\"hovertemplate\":\"Make=Mini<br>Number_of_Airbags=%{x}<br>Cylinders=%{y}<br>Seating_Capacity=%{z}<extra></extra>\",\"legendgroup\":\"Mini\",\"marker\":{\"color\":\"#FF97FF\",\"symbol\":\"circle\"},\"mode\":\"markers\",\"name\":\"Mini\",\"scene\":\"scene\",\"showlegend\":true,\"x\":[2,6,6,6,6],\"y\":[4,4,4,4,4],\"z\":[2,5,5,5,5],\"type\":\"scatter3d\"},{\"hovertemplate\":\"Make=Jaguar<br>Number_of_Airbags=%{x}<br>Cylinders=%{y}<br>Seating_Capacity=%{z}<extra></extra>\",\"legendgroup\":\"Jaguar\",\"marker\":{\"color\":\"#FECB52\",\"symbol\":\"circle\"},\"mode\":\"markers\",\"name\":\"Jaguar\",\"scene\":\"scene\",\"showlegend\":true,\"x\":[6,6,6,6,6,6,6,6,6,6,6,6,6,6,2,6,6,2,2,2,2],\"y\":[4,4,4,4,4,4,4,4,4,6,6,6,4,4,6,8,8,6,6,8,4],\"z\":[5,4,4,5,5,5,5,5,5,5,5,5,5,5,2,2,2,2,2,2,2],\"type\":\"scatter3d\"},{\"hovertemplate\":\"Make=Bmw<br>Number_of_Airbags=%{x}<br>Cylinders=%{y}<br>Seating_Capacity=%{z}<extra></extra>\",\"legendgroup\":\"Bmw\",\"marker\":{\"color\":\"#636efa\",\"symbol\":\"circle\"},\"mode\":\"markers\",\"name\":\"Bmw\",\"scene\":\"scene\",\"showlegend\":true,\"x\":[6,6,6,10,8,8,8,8,8,8,6,6,6,6,6,6,6,6,6,6,6,4,4,9,9,10,8,8,8,6,6,8,9],\"y\":[4,4,4,6,6,6,6,6,6,12,4,4,4,4,4,4,4,4,4,6,6,4,6,6,6,6,4,6,6,6,6,4,8],\"z\":[5,5,5,4,4,4,4,4,4,4,5,5,5,5,5,5,5,5,5,5,5,2,2,7,7,4,5,5,5,4,4,4,4],\"type\":\"scatter3d\"},{\"hovertemplate\":\"Make=Land Rover<br>Number_of_Airbags=%{x}<br>Cylinders=%{y}<br>Seating_Capacity=%{z}<extra></extra>\",\"legendgroup\":\"Land Rover\",\"marker\":{\"color\":\"#EF553B\",\"symbol\":\"circle\"},\"mode\":\"markers\",\"name\":\"Land Rover\",\"scene\":\"scene\",\"showlegend\":true,\"x\":[7,7,8,8,8,8,8,8,8,8],\"y\":[4,4,6,6,6,6,6,6,6,6],\"z\":[7,7,7,7,7,7,7,7,7,7],\"type\":\"scatter3d\"},{\"hovertemplate\":\"Make=Porsche<br>Number_of_Airbags=%{x}<br>Cylinders=%{y}<br>Seating_Capacity=%{z}<extra></extra>\",\"legendgroup\":\"Porsche\",\"marker\":{\"color\":\"#00cc96\",\"symbol\":\"circle\"},\"mode\":\"markers\",\"name\":\"Porsche\",\"scene\":\"scene\",\"showlegend\":true,\"x\":[4,4,6,6,6,10,10,10,4,4,6,8],\"y\":[4,4,8,8,8,6,6,6,6,6,6,6],\"z\":[2,2,4,4,4,5,5,5,4,4,5,5],\"type\":\"scatter3d\"},{\"hovertemplate\":\"Make=Lexus<br>Number_of_Airbags=%{x}<br>Cylinders=%{y}<br>Seating_Capacity=%{z}<extra></extra>\",\"legendgroup\":\"Lexus\",\"marker\":{\"color\":\"#ab63fa\",\"symbol\":\"circle\"},\"mode\":\"markers\",\"name\":\"Lexus\",\"scene\":\"scene\",\"showlegend\":true,\"x\":[10,8,8,8,14,14,14],\"y\":[6,6,6,6,6,6,6],\"z\":[5,4,5,5,5,5,5],\"type\":\"scatter3d\"},{\"hovertemplate\":\"Make=Maserati<br>Number_of_Airbags=%{x}<br>Cylinders=%{y}<br>Seating_Capacity=%{z}<extra></extra>\",\"legendgroup\":\"Maserati\",\"marker\":{\"color\":\"#FFA15A\",\"symbol\":\"circle\"},\"mode\":\"markers\",\"name\":\"Maserati\",\"scene\":\"scene\",\"showlegend\":true,\"x\":[6,6,6,6,6,4],\"y\":[6,6,6,8,6,8],\"z\":[4,4,4,4,4,4],\"type\":\"scatter3d\"},{\"hovertemplate\":\"Make=Lamborghini<br>Number_of_Airbags=%{x}<br>Cylinders=%{y}<br>Seating_Capacity=%{z}<extra></extra>\",\"legendgroup\":\"Lamborghini\",\"marker\":{\"color\":\"#19d3f3\",\"symbol\":\"circle\"},\"mode\":\"markers\",\"name\":\"Lamborghini\",\"scene\":\"scene\",\"showlegend\":true,\"x\":[8,4,4,4,4,4,4,4,4,6,6,6],\"y\":[8,10,10,10,10,10,10,10,10,12,12,12],\"z\":[5,2,2,2,2,2,2,2,2,2,2,2],\"type\":\"scatter3d\"},{\"hovertemplate\":\"Make=Bentley<br>Number_of_Airbags=%{x}<br>Cylinders=%{y}<br>Seating_Capacity=%{z}<extra></extra>\",\"legendgroup\":\"Bentley\",\"marker\":{\"color\":\"#FF6692\",\"symbol\":\"circle\"},\"mode\":\"markers\",\"name\":\"Bentley\",\"scene\":\"scene\",\"showlegend\":true,\"x\":[6,6,6,6,6,6],\"y\":[12,12,12,8,8,12],\"z\":[4,5,5,4,4,4],\"type\":\"scatter3d\"},{\"hovertemplate\":\"Make=Ferrari<br>Number_of_Airbags=%{x}<br>Cylinders=%{y}<br>Seating_Capacity=%{z}<extra></extra>\",\"legendgroup\":\"Ferrari\",\"marker\":{\"color\":\"#B6E880\",\"symbol\":\"circle\"},\"mode\":\"markers\",\"name\":\"Ferrari\",\"scene\":\"scene\",\"showlegend\":true,\"x\":[4,5,4,4,4,4,4,2],\"y\":[8,8,8,8,8,8,12,8],\"z\":[2,2,2,2,4,4,2,2],\"type\":\"scatter3d\"},{\"hovertemplate\":\"Make=Aston Martin<br>Number_of_Airbags=%{x}<br>Cylinders=%{y}<br>Seating_Capacity=%{z}<extra></extra>\",\"legendgroup\":\"Aston Martin\",\"marker\":{\"color\":\"#FF97FF\",\"symbol\":\"circle\"},\"mode\":\"markers\",\"name\":\"Aston Martin\",\"scene\":\"scene\",\"showlegend\":true,\"x\":[8,6,8],\"y\":[12,8,12],\"z\":[2,2,4],\"type\":\"scatter3d\"},{\"hovertemplate\":\"Make=Rolls-Royce<br>Number_of_Airbags=%{x}<br>Cylinders=%{y}<br>Seating_Capacity=%{z}<extra></extra>\",\"legendgroup\":\"Rolls-Royce\",\"marker\":{\"color\":\"#FECB52\",\"symbol\":\"circle\"},\"mode\":\"markers\",\"name\":\"Rolls-Royce\",\"scene\":\"scene\",\"showlegend\":true,\"x\":[6,6,6,8,6,6,6],\"y\":[12,12,12,12,12,12,12],\"z\":[5,5,4,4,4,5,5],\"type\":\"scatter3d\"},{\"hovertemplate\":\"Make=Land Rover Rover<br>Number_of_Airbags=%{x}<br>Cylinders=%{y}<br>Seating_Capacity=%{z}<extra></extra>\",\"legendgroup\":\"Land Rover Rover\",\"marker\":{\"color\":\"#636efa\",\"symbol\":\"circle\"},\"mode\":\"markers\",\"name\":\"Land Rover Rover\",\"scene\":\"scene\",\"showlegend\":true,\"x\":[6,8,8,8,8,8,8,8,8,10,8,8,8,8],\"y\":[4,8,8,6,8,6,6,6,8,8,8,6,8,6],\"z\":[5,7,7,7,7,7,5,5,7,7,5,7,5,7],\"type\":\"scatter3d\"},{\"hovertemplate\":\"Make=Go+<br>Number_of_Airbags=%{x}<br>Cylinders=%{y}<br>Seating_Capacity=%{z}<extra></extra>\",\"legendgroup\":\"Go+\",\"marker\":{\"color\":\"#EF553B\",\"symbol\":\"circle\"},\"mode\":\"markers\",\"name\":\"Go+\",\"scene\":\"scene\",\"showlegend\":true,\"x\":[2,2,2,2,2,2,2,2,2],\"y\":[3,3,3,3,3,3,3,3,3],\"z\":[7,7,7,7,7,7,7,7,7],\"type\":\"scatter3d\"},{\"hovertemplate\":\"Make=Kia<br>Number_of_Airbags=%{x}<br>Cylinders=%{y}<br>Seating_Capacity=%{z}<extra></extra>\",\"legendgroup\":\"Kia\",\"marker\":{\"color\":\"#00cc96\",\"symbol\":\"circle\"},\"mode\":\"markers\",\"name\":\"Kia\",\"scene\":\"scene\",\"showlegend\":true,\"x\":[2,2,4,4,4],\"y\":[4,4,4,4,4],\"z\":[5,5,5,5,5],\"type\":\"scatter3d\"},{\"hovertemplate\":\"Make=Mitsubishi<br>Number_of_Airbags=%{x}<br>Cylinders=%{y}<br>Seating_Capacity=%{z}<extra></extra>\",\"legendgroup\":\"Mitsubishi\",\"marker\":{\"color\":\"#ab63fa\",\"symbol\":\"circle\"},\"mode\":\"markers\",\"name\":\"Mitsubishi\",\"scene\":\"scene\",\"showlegend\":true,\"x\":[7,2,2,2,2,2,6],\"y\":[4,4,4,4,4,4,4],\"z\":[7,7,7,7,7,7,7],\"type\":\"scatter3d\"},{\"hovertemplate\":\"Make=Maruti Suzuki R<br>Number_of_Airbags=%{x}<br>Cylinders=%{y}<br>Seating_Capacity=%{z}<extra></extra>\",\"legendgroup\":\"Maruti Suzuki R\",\"marker\":{\"color\":\"#FFA15A\",\"symbol\":\"circle\"},\"mode\":\"markers\",\"name\":\"Maruti Suzuki R\",\"scene\":\"scene\",\"showlegend\":true,\"x\":[1,2],\"y\":[3,3],\"z\":[5,5],\"type\":\"scatter3d\"}],                        {\"template\":{\"data\":{\"histogram2dcontour\":[{\"type\":\"histogram2dcontour\",\"colorbar\":{\"outlinewidth\":0,\"ticks\":\"\"},\"colorscale\":[[0.0,\"#0d0887\"],[0.1111111111111111,\"#46039f\"],[0.2222222222222222,\"#7201a8\"],[0.3333333333333333,\"#9c179e\"],[0.4444444444444444,\"#bd3786\"],[0.5555555555555556,\"#d8576b\"],[0.6666666666666666,\"#ed7953\"],[0.7777777777777778,\"#fb9f3a\"],[0.8888888888888888,\"#fdca26\"],[1.0,\"#f0f921\"]]}],\"choropleth\":[{\"type\":\"choropleth\",\"colorbar\":{\"outlinewidth\":0,\"ticks\":\"\"}}],\"histogram2d\":[{\"type\":\"histogram2d\",\"colorbar\":{\"outlinewidth\":0,\"ticks\":\"\"},\"colorscale\":[[0.0,\"#0d0887\"],[0.1111111111111111,\"#46039f\"],[0.2222222222222222,\"#7201a8\"],[0.3333333333333333,\"#9c179e\"],[0.4444444444444444,\"#bd3786\"],[0.5555555555555556,\"#d8576b\"],[0.6666666666666666,\"#ed7953\"],[0.7777777777777778,\"#fb9f3a\"],[0.8888888888888888,\"#fdca26\"],[1.0,\"#f0f921\"]]}],\"heatmap\":[{\"type\":\"heatmap\",\"colorbar\":{\"outlinewidth\":0,\"ticks\":\"\"},\"colorscale\":[[0.0,\"#0d0887\"],[0.1111111111111111,\"#46039f\"],[0.2222222222222222,\"#7201a8\"],[0.3333333333333333,\"#9c179e\"],[0.4444444444444444,\"#bd3786\"],[0.5555555555555556,\"#d8576b\"],[0.6666666666666666,\"#ed7953\"],[0.7777777777777778,\"#fb9f3a\"],[0.8888888888888888,\"#fdca26\"],[1.0,\"#f0f921\"]]}],\"heatmapgl\":[{\"type\":\"heatmapgl\",\"colorbar\":{\"outlinewidth\":0,\"ticks\":\"\"},\"colorscale\":[[0.0,\"#0d0887\"],[0.1111111111111111,\"#46039f\"],[0.2222222222222222,\"#7201a8\"],[0.3333333333333333,\"#9c179e\"],[0.4444444444444444,\"#bd3786\"],[0.5555555555555556,\"#d8576b\"],[0.6666666666666666,\"#ed7953\"],[0.7777777777777778,\"#fb9f3a\"],[0.8888888888888888,\"#fdca26\"],[1.0,\"#f0f921\"]]}],\"contourcarpet\":[{\"type\":\"contourcarpet\",\"colorbar\":{\"outlinewidth\":0,\"ticks\":\"\"}}],\"contour\":[{\"type\":\"contour\",\"colorbar\":{\"outlinewidth\":0,\"ticks\":\"\"},\"colorscale\":[[0.0,\"#0d0887\"],[0.1111111111111111,\"#46039f\"],[0.2222222222222222,\"#7201a8\"],[0.3333333333333333,\"#9c179e\"],[0.4444444444444444,\"#bd3786\"],[0.5555555555555556,\"#d8576b\"],[0.6666666666666666,\"#ed7953\"],[0.7777777777777778,\"#fb9f3a\"],[0.8888888888888888,\"#fdca26\"],[1.0,\"#f0f921\"]]}],\"surface\":[{\"type\":\"surface\",\"colorbar\":{\"outlinewidth\":0,\"ticks\":\"\"},\"colorscale\":[[0.0,\"#0d0887\"],[0.1111111111111111,\"#46039f\"],[0.2222222222222222,\"#7201a8\"],[0.3333333333333333,\"#9c179e\"],[0.4444444444444444,\"#bd3786\"],[0.5555555555555556,\"#d8576b\"],[0.6666666666666666,\"#ed7953\"],[0.7777777777777778,\"#fb9f3a\"],[0.8888888888888888,\"#fdca26\"],[1.0,\"#f0f921\"]]}],\"mesh3d\":[{\"type\":\"mesh3d\",\"colorbar\":{\"outlinewidth\":0,\"ticks\":\"\"}}],\"scatter\":[{\"fillpattern\":{\"fillmode\":\"overlay\",\"size\":10,\"solidity\":0.2},\"type\":\"scatter\"}],\"parcoords\":[{\"type\":\"parcoords\",\"line\":{\"colorbar\":{\"outlinewidth\":0,\"ticks\":\"\"}}}],\"scatterpolargl\":[{\"type\":\"scatterpolargl\",\"marker\":{\"colorbar\":{\"outlinewidth\":0,\"ticks\":\"\"}}}],\"bar\":[{\"error_x\":{\"color\":\"#2a3f5f\"},\"error_y\":{\"color\":\"#2a3f5f\"},\"marker\":{\"line\":{\"color\":\"#E5ECF6\",\"width\":0.5},\"pattern\":{\"fillmode\":\"overlay\",\"size\":10,\"solidity\":0.2}},\"type\":\"bar\"}],\"scattergeo\":[{\"type\":\"scattergeo\",\"marker\":{\"colorbar\":{\"outlinewidth\":0,\"ticks\":\"\"}}}],\"scatterpolar\":[{\"type\":\"scatterpolar\",\"marker\":{\"colorbar\":{\"outlinewidth\":0,\"ticks\":\"\"}}}],\"histogram\":[{\"marker\":{\"pattern\":{\"fillmode\":\"overlay\",\"size\":10,\"solidity\":0.2}},\"type\":\"histogram\"}],\"scattergl\":[{\"type\":\"scattergl\",\"marker\":{\"colorbar\":{\"outlinewidth\":0,\"ticks\":\"\"}}}],\"scatter3d\":[{\"type\":\"scatter3d\",\"line\":{\"colorbar\":{\"outlinewidth\":0,\"ticks\":\"\"}},\"marker\":{\"colorbar\":{\"outlinewidth\":0,\"ticks\":\"\"}}}],\"scattermapbox\":[{\"type\":\"scattermapbox\",\"marker\":{\"colorbar\":{\"outlinewidth\":0,\"ticks\":\"\"}}}],\"scatterternary\":[{\"type\":\"scatterternary\",\"marker\":{\"colorbar\":{\"outlinewidth\":0,\"ticks\":\"\"}}}],\"scattercarpet\":[{\"type\":\"scattercarpet\",\"marker\":{\"colorbar\":{\"outlinewidth\":0,\"ticks\":\"\"}}}],\"carpet\":[{\"aaxis\":{\"endlinecolor\":\"#2a3f5f\",\"gridcolor\":\"white\",\"linecolor\":\"white\",\"minorgridcolor\":\"white\",\"startlinecolor\":\"#2a3f5f\"},\"baxis\":{\"endlinecolor\":\"#2a3f5f\",\"gridcolor\":\"white\",\"linecolor\":\"white\",\"minorgridcolor\":\"white\",\"startlinecolor\":\"#2a3f5f\"},\"type\":\"carpet\"}],\"table\":[{\"cells\":{\"fill\":{\"color\":\"#EBF0F8\"},\"line\":{\"color\":\"white\"}},\"header\":{\"fill\":{\"color\":\"#C8D4E3\"},\"line\":{\"color\":\"white\"}},\"type\":\"table\"}],\"barpolar\":[{\"marker\":{\"line\":{\"color\":\"#E5ECF6\",\"width\":0.5},\"pattern\":{\"fillmode\":\"overlay\",\"size\":10,\"solidity\":0.2}},\"type\":\"barpolar\"}],\"pie\":[{\"automargin\":true,\"type\":\"pie\"}]},\"layout\":{\"autotypenumbers\":\"strict\",\"colorway\":[\"#636efa\",\"#EF553B\",\"#00cc96\",\"#ab63fa\",\"#FFA15A\",\"#19d3f3\",\"#FF6692\",\"#B6E880\",\"#FF97FF\",\"#FECB52\"],\"font\":{\"color\":\"#2a3f5f\"},\"hovermode\":\"closest\",\"hoverlabel\":{\"align\":\"left\"},\"paper_bgcolor\":\"white\",\"plot_bgcolor\":\"#E5ECF6\",\"polar\":{\"bgcolor\":\"#E5ECF6\",\"angularaxis\":{\"gridcolor\":\"white\",\"linecolor\":\"white\",\"ticks\":\"\"},\"radialaxis\":{\"gridcolor\":\"white\",\"linecolor\":\"white\",\"ticks\":\"\"}},\"ternary\":{\"bgcolor\":\"#E5ECF6\",\"aaxis\":{\"gridcolor\":\"white\",\"linecolor\":\"white\",\"ticks\":\"\"},\"baxis\":{\"gridcolor\":\"white\",\"linecolor\":\"white\",\"ticks\":\"\"},\"caxis\":{\"gridcolor\":\"white\",\"linecolor\":\"white\",\"ticks\":\"\"}},\"coloraxis\":{\"colorbar\":{\"outlinewidth\":0,\"ticks\":\"\"}},\"colorscale\":{\"sequential\":[[0.0,\"#0d0887\"],[0.1111111111111111,\"#46039f\"],[0.2222222222222222,\"#7201a8\"],[0.3333333333333333,\"#9c179e\"],[0.4444444444444444,\"#bd3786\"],[0.5555555555555556,\"#d8576b\"],[0.6666666666666666,\"#ed7953\"],[0.7777777777777778,\"#fb9f3a\"],[0.8888888888888888,\"#fdca26\"],[1.0,\"#f0f921\"]],\"sequentialminus\":[[0.0,\"#0d0887\"],[0.1111111111111111,\"#46039f\"],[0.2222222222222222,\"#7201a8\"],[0.3333333333333333,\"#9c179e\"],[0.4444444444444444,\"#bd3786\"],[0.5555555555555556,\"#d8576b\"],[0.6666666666666666,\"#ed7953\"],[0.7777777777777778,\"#fb9f3a\"],[0.8888888888888888,\"#fdca26\"],[1.0,\"#f0f921\"]],\"diverging\":[[0,\"#8e0152\"],[0.1,\"#c51b7d\"],[0.2,\"#de77ae\"],[0.3,\"#f1b6da\"],[0.4,\"#fde0ef\"],[0.5,\"#f7f7f7\"],[0.6,\"#e6f5d0\"],[0.7,\"#b8e186\"],[0.8,\"#7fbc41\"],[0.9,\"#4d9221\"],[1,\"#276419\"]]},\"xaxis\":{\"gridcolor\":\"white\",\"linecolor\":\"white\",\"ticks\":\"\",\"title\":{\"standoff\":15},\"zerolinecolor\":\"white\",\"automargin\":true,\"zerolinewidth\":2},\"yaxis\":{\"gridcolor\":\"white\",\"linecolor\":\"white\",\"ticks\":\"\",\"title\":{\"standoff\":15},\"zerolinecolor\":\"white\",\"automargin\":true,\"zerolinewidth\":2},\"scene\":{\"xaxis\":{\"backgroundcolor\":\"#E5ECF6\",\"gridcolor\":\"white\",\"linecolor\":\"white\",\"showbackground\":true,\"ticks\":\"\",\"zerolinecolor\":\"white\",\"gridwidth\":2},\"yaxis\":{\"backgroundcolor\":\"#E5ECF6\",\"gridcolor\":\"white\",\"linecolor\":\"white\",\"showbackground\":true,\"ticks\":\"\",\"zerolinecolor\":\"white\",\"gridwidth\":2},\"zaxis\":{\"backgroundcolor\":\"#E5ECF6\",\"gridcolor\":\"white\",\"linecolor\":\"white\",\"showbackground\":true,\"ticks\":\"\",\"zerolinecolor\":\"white\",\"gridwidth\":2}},\"shapedefaults\":{\"line\":{\"color\":\"#2a3f5f\"}},\"annotationdefaults\":{\"arrowcolor\":\"#2a3f5f\",\"arrowhead\":0,\"arrowwidth\":1},\"geo\":{\"bgcolor\":\"white\",\"landcolor\":\"#E5ECF6\",\"subunitcolor\":\"white\",\"showland\":true,\"showlakes\":true,\"lakecolor\":\"white\"},\"title\":{\"x\":0.05},\"mapbox\":{\"style\":\"light\"}}},\"scene\":{\"domain\":{\"x\":[0.0,1.0],\"y\":[0.0,1.0]},\"xaxis\":{\"title\":{\"text\":\"Number_of_Airbags\"}},\"yaxis\":{\"title\":{\"text\":\"Cylinders\"}},\"zaxis\":{\"title\":{\"text\":\"Seating_Capacity\"}}},\"legend\":{\"title\":{\"text\":\"Make\"},\"tracegroupgap\":0},\"margin\":{\"t\":60},\"height\":750,\"width\":800,\"showlegend\":true},                        {\"responsive\": true}                    ).then(function(){\n",
       "                            \n",
       "var gd = document.getElementById('64147db6-6497-48e3-82b6-0b2a35cd1b0a');\n",
       "var x = new MutationObserver(function (mutations, observer) {{\n",
       "        var display = window.getComputedStyle(gd).display;\n",
       "        if (!display || display === 'none') {{\n",
       "            console.log([gd, 'removed!']);\n",
       "            Plotly.purge(gd);\n",
       "            observer.disconnect();\n",
       "        }}\n",
       "}});\n",
       "\n",
       "// Listen for the removal of the full notebook cells\n",
       "var notebookContainer = gd.closest('#notebook-container');\n",
       "if (notebookContainer) {{\n",
       "    x.observe(notebookContainer, {childList: true});\n",
       "}}\n",
       "\n",
       "// Listen for the clearing of the current output cell\n",
       "var outputEl = gd.closest('.output');\n",
       "if (outputEl) {{\n",
       "    x.observe(outputEl, {childList: true});\n",
       "}}\n",
       "\n",
       "                        })                };                });            </script>        </div>"
      ]
     },
     "metadata": {},
     "output_type": "display_data"
    }
   ],
   "source": [
    "#relation between components of company cars\n",
    "fig= px.scatter_3d(df, x='Number_of_Airbags', z='Seating_Capacity', y='Cylinders',color='Make',width=800,height=750)\n",
    "fig.update_layout(showlegend=True)\n",
    "fig.show()"
   ]
  },
  {
   "cell_type": "code",
   "execution_count": 51,
   "id": "8069a7d6",
   "metadata": {},
   "outputs": [
    {
     "data": {
      "application/vnd.plotly.v1+json": {
       "config": {
        "plotlyServerURL": "https://plot.ly"
       },
       "data": [
        {
         "hovertemplate": "Make=Renault<br>Length=%{x}<br>Height=%{y}<br>Width=%{z}<extra></extra>",
         "legendgroup": "Renault",
         "marker": {
          "color": "#636efa",
          "symbol": "circle"
         },
         "mode": "markers",
         "name": "Renault",
         "scene": "scene",
         "showlegend": true,
         "type": "scatter3d",
         "x": [
          3731,
          3731,
          3731,
          3731,
          3731,
          3731,
          3731,
          3731,
          3731,
          3731,
          3731,
          3731,
          3990,
          3990,
          3990,
          3990,
          4315,
          4315,
          4315,
          4315,
          4315,
          4315,
          4315,
          4315,
          4315,
          4498,
          4498,
          4498,
          4329,
          4329,
          4329,
          4329
         ],
         "y": [
          1490,
          1490,
          1490,
          1490,
          1490,
          1490,
          1490,
          1490,
          1490,
          1490,
          1490,
          1490,
          1643,
          1643,
          1643,
          1643,
          1695,
          1695,
          1695,
          1695,
          1695,
          1695,
          1695,
          1695,
          1695,
          1697,
          1697,
          1697,
          1619,
          1619,
          1619,
          1619
         ],
         "z": [
          1579,
          1579,
          1579,
          1580,
          1579,
          1579,
          1579,
          1579,
          1579,
          1579,
          1579,
          1579,
          1739,
          1739,
          1739,
          1739,
          1822,
          1822,
          1822,
          1822,
          1822,
          1822,
          1822,
          1822,
          1822,
          1751,
          1751,
          1751,
          1813,
          1813,
          1813,
          1813
         ]
        },
        {
         "hovertemplate": "Make=Maruti Suzuki<br>Length=%{x}<br>Height=%{y}<br>Width=%{z}<extra></extra>",
         "legendgroup": "Maruti Suzuki",
         "marker": {
          "color": "#EF553B",
          "symbol": "circle"
         },
         "mode": "markers",
         "name": "Maruti Suzuki",
         "scene": "scene",
         "showlegend": true,
         "type": "scatter3d",
         "x": [
          3675,
          3675,
          3675,
          3675,
          3545,
          3545,
          3545,
          3620,
          3545,
          3545,
          3600,
          3695,
          3600,
          3600,
          3600,
          3600,
          3600,
          3600,
          3600,
          3600,
          3700,
          3700,
          3700,
          3700,
          3700,
          3700,
          3700,
          3995,
          3995,
          3995,
          3995,
          3995,
          3995,
          3995,
          3995,
          3995,
          3995,
          3995,
          3995,
          3995,
          3995,
          3445,
          3445,
          3445,
          3445,
          3445,
          3565,
          3565,
          3565,
          3565,
          3565,
          3565,
          3565,
          3565,
          3565,
          3565,
          3600,
          3600,
          3600,
          3600,
          3600,
          3600,
          3600,
          3840,
          3840,
          3840,
          3840,
          3840,
          3840,
          3840,
          3840,
          3840,
          3840,
          3840,
          3840,
          3840,
          3840,
          3995,
          3995,
          3995,
          3995,
          3995,
          3995,
          3995,
          3995,
          3995,
          4445,
          4445,
          4445,
          4445,
          3995,
          3995,
          3995,
          3995,
          3995,
          3995,
          3995,
          3995,
          3995,
          3995,
          3995,
          3995,
          3995,
          4395,
          4265,
          4395,
          4395,
          4265,
          4265,
          4395,
          4395,
          4395,
          4265,
          3995,
          4300,
          4300,
          4300,
          4300,
          3395,
          4490,
          4490,
          4490,
          4490,
          4490,
          4490,
          4490,
          4490,
          4490,
          4490,
          4490,
          4490,
          4490,
          4490
         ],
         "y": [
          1800,
          1800,
          1800,
          1800,
          1475,
          1475,
          1475,
          1460,
          1475,
          1475,
          1560,
          1560,
          1560,
          1560,
          1560,
          1560,
          1560,
          1560,
          1560,
          1560,
          1595,
          1595,
          1595,
          1595,
          1595,
          1595,
          1595,
          1515,
          1515,
          1515,
          1515,
          1515,
          1515,
          1515,
          1515,
          1515,
          1515,
          1515,
          1515,
          1515,
          1515,
          1475,
          1475,
          1475,
          1475,
          1475,
          1549,
          1549,
          1549,
          1549,
          1549,
          1549,
          1549,
          1549,
          1549,
          1549,
          1560,
          1560,
          1560,
          1560,
          1560,
          1560,
          1560,
          1530,
          1530,
          1530,
          1530,
          1530,
          1530,
          1530,
          1530,
          1530,
          1530,
          1530,
          1530,
          1530,
          1530,
          1640,
          1640,
          1640,
          1640,
          1640,
          1640,
          1640,
          1640,
          1640,
          1700,
          1700,
          1700,
          1700,
          1510,
          1500,
          1500,
          1500,
          1510,
          1510,
          1510,
          1510,
          1510,
          1510,
          1510,
          1510,
          1510,
          1690,
          1685,
          1690,
          1690,
          1685,
          1685,
          1690,
          1690,
          1690,
          1685,
          1510,
          1595,
          1595,
          1595,
          1595,
          1475,
          1485,
          1485,
          1485,
          1485,
          1485,
          1485,
          1485,
          1485,
          1485,
          1485,
          1485,
          1485,
          1485,
          1485
         ],
         "z": [
          1475,
          1475,
          1475,
          1475,
          1490,
          1490,
          1490,
          1475,
          1490,
          1490,
          1600,
          1600,
          1600,
          1600,
          1600,
          1600,
          1600,
          1600,
          1600,
          1600,
          1690,
          1690,
          1690,
          1690,
          1690,
          1690,
          1690,
          1735,
          1735,
          1735,
          1735,
          1735,
          1735,
          1735,
          1735,
          1735,
          1735,
          1735,
          1735,
          1735,
          1735,
          1490,
          1490,
          1490,
          1490,
          1490,
          1520,
          1520,
          1520,
          1520,
          1520,
          1520,
          1520,
          1520,
          1520,
          1520,
          1600,
          1600,
          1600,
          1600,
          1600,
          1600,
          1600,
          1735,
          1735,
          1735,
          1735,
          1735,
          1735,
          1735,
          1735,
          1735,
          1735,
          1735,
          1735,
          1735,
          1735,
          1790,
          1790,
          1790,
          1790,
          1790,
          1790,
          1790,
          1790,
          1790,
          1775,
          1775,
          1775,
          1775,
          1745,
          1745,
          1745,
          1745,
          1745,
          1745,
          1745,
          1745,
          1745,
          1745,
          1745,
          1745,
          1745,
          1735,
          1695,
          1735,
          1735,
          1695,
          1695,
          1735,
          1735,
          1735,
          1695,
          1745,
          1785,
          1785,
          1785,
          1785,
          1490,
          1730,
          1730,
          1730,
          1730,
          1730,
          1730,
          1730,
          1730,
          1730,
          1730,
          1730,
          1730,
          1730,
          1730
         ]
        },
        {
         "hovertemplate": "Make=Datsun<br>Length=%{x}<br>Height=%{y}<br>Width=%{z}<extra></extra>",
         "legendgroup": "Datsun",
         "marker": {
          "color": "#00cc96",
          "symbol": "circle"
         },
         "mode": "markers",
         "name": "Datsun",
         "scene": "scene",
         "showlegend": true,
         "type": "scatter3d",
         "x": [
          3788,
          3788,
          3788,
          3788,
          3788,
          3788,
          3788,
          3788,
          3788
         ],
         "y": [
          1507,
          1507,
          1507,
          1507,
          1507,
          1507,
          1507,
          1507,
          1507
         ],
         "z": [
          1636,
          1636,
          1636,
          1636,
          1636,
          1636,
          1636,
          1636,
          1636
         ]
        },
        {
         "hovertemplate": "Make=Hyundai<br>Length=%{x}<br>Height=%{y}<br>Width=%{z}<extra></extra>",
         "legendgroup": "Hyundai",
         "marker": {
          "color": "#ab63fa",
          "symbol": "circle"
         },
         "mode": "markers",
         "name": "Hyundai",
         "scene": "scene",
         "showlegend": true,
         "type": "scatter3d",
         "x": [
          3610,
          3610,
          3610,
          3610,
          3610,
          3610,
          3610,
          3610,
          3995,
          3995,
          3995,
          3985,
          3985,
          3985,
          3985,
          3985,
          3995,
          3985,
          3985,
          3985,
          3985,
          3985,
          3765,
          3765,
          3765,
          3995,
          3995,
          3995,
          3995,
          3995,
          3995,
          3995,
          3995,
          3995,
          3995,
          3995,
          3995,
          3995,
          4440,
          4440,
          4440,
          4440,
          4440,
          4440,
          4440,
          4440,
          4440,
          4440,
          4440,
          4440,
          4440,
          3765,
          3765,
          3765,
          3765,
          3765,
          3765,
          4620,
          4620,
          4620,
          4620,
          4475,
          4475,
          4475,
          4475,
          4475,
          4475,
          4475,
          4475,
          3805,
          3805,
          3805,
          3805,
          3805,
          3805,
          3805,
          3805,
          3805,
          3805,
          3995,
          3995,
          3995,
          3995,
          3995,
          3995,
          3995,
          3995,
          3995,
          4270,
          4270,
          4270,
          4270,
          4270,
          4270,
          4270,
          4270,
          4270,
          4270,
          4270,
          4270,
          4270,
          4270,
          4270,
          4270,
          4270,
          4270
         ],
         "y": [
          1560,
          1560,
          1560,
          1560,
          1560,
          1560,
          1560,
          1560,
          1520,
          1520,
          1505,
          1505,
          1505,
          1505,
          1505,
          1505,
          1505,
          1505,
          1505,
          1505,
          1505,
          1505,
          1520,
          1520,
          1520,
          1590,
          1590,
          1590,
          1590,
          1590,
          1590,
          1590,
          1590,
          1590,
          1555,
          1555,
          1555,
          1555,
          1445,
          1445,
          1445,
          1445,
          1445,
          1445,
          1445,
          1445,
          1445,
          1445,
          1445,
          1445,
          1445,
          1520,
          1520,
          1520,
          1520,
          1520,
          1520,
          1465,
          1465,
          1465,
          1465,
          1660,
          1660,
          1660,
          1660,
          1660,
          1660,
          1660,
          1660,
          1520,
          1520,
          1520,
          1520,
          1520,
          1520,
          1520,
          1520,
          1520,
          1520,
          1520,
          1520,
          1520,
          1520,
          1520,
          1520,
          1520,
          1520,
          1520,
          1630,
          1630,
          1630,
          1630,
          1630,
          1630,
          1630,
          1630,
          1630,
          1630,
          1630,
          1630,
          1630,
          1630,
          1630,
          1630,
          1630,
          1665
         ],
         "z": [
          1645,
          1645,
          1645,
          1645,
          1645,
          1645,
          1645,
          1645,
          1660,
          1660,
          1710,
          1734,
          1734,
          1734,
          1734,
          1734,
          1734,
          1734,
          1734,
          1734,
          1734,
          1734,
          1660,
          1660,
          1660,
          1770,
          1770,
          1770,
          1770,
          1770,
          1770,
          1770,
          1770,
          1770,
          1760,
          1760,
          1760,
          1760,
          1729,
          1729,
          1729,
          1729,
          1729,
          1729,
          1729,
          1729,
          1729,
          1729,
          1729,
          1729,
          1729,
          1660,
          1660,
          1660,
          1660,
          1660,
          1660,
          1800,
          1800,
          1800,
          1800,
          1850,
          1850,
          1850,
          1850,
          1850,
          1850,
          1850,
          1850,
          1680,
          1680,
          1680,
          1680,
          1680,
          1680,
          1680,
          1680,
          1680,
          1680,
          1660,
          1660,
          1660,
          1660,
          1660,
          1660,
          1660,
          1660,
          1660,
          1780,
          1780,
          1780,
          1780,
          1780,
          1780,
          1780,
          1780,
          1780,
          1780,
          1780,
          1780,
          1780,
          1780,
          1780,
          1780,
          1780,
          1780
         ]
        },
        {
         "hovertemplate": "Make=Tata<br>Length=%{x}<br>Height=%{y}<br>Width=%{z}<extra></extra>",
         "legendgroup": "Tata",
         "marker": {
          "color": "#FFA15A",
          "symbol": "circle"
         },
         "mode": "markers",
         "name": "Tata",
         "scene": "scene",
         "showlegend": true,
         "type": "scatter3d",
         "x": [
          3765,
          3746,
          3746,
          3746,
          3746,
          3746,
          3746,
          3746,
          3825,
          3825,
          3825,
          3825,
          3990,
          3990,
          3990,
          3990,
          3990,
          3990,
          3990,
          3990,
          3990,
          3990,
          3992,
          3992,
          3992,
          3992,
          3995,
          3995,
          3995,
          3995,
          3995,
          3995,
          3994,
          3994,
          3994,
          3994,
          3994,
          3994,
          3994,
          3994,
          3994,
          3994,
          3994,
          3994,
          3994,
          3994,
          3994,
          3994,
          3994,
          3994,
          3994,
          3994,
          3994,
          3994,
          3994,
          4788,
          4788,
          4788,
          4788,
          4655,
          4655,
          4598,
          4598,
          4598,
          4598,
          4598,
          4598,
          3793,
          3793,
          3793
         ],
         "y": [
          1535,
          1535,
          1535,
          1535,
          1535,
          1535,
          1535,
          1535,
          1562,
          1562,
          1562,
          1562,
          1523,
          1523,
          1523,
          1523,
          1523,
          1523,
          1523,
          1523,
          1523,
          1523,
          1537,
          1537,
          1537,
          1537,
          1570,
          1570,
          1570,
          1570,
          1570,
          1570,
          1607,
          1607,
          1607,
          1607,
          1607,
          1607,
          1607,
          1607,
          1607,
          1607,
          1607,
          1607,
          1607,
          1607,
          1607,
          1607,
          1607,
          1607,
          1607,
          1607,
          1607,
          1607,
          1607,
          1791,
          1791,
          1791,
          1791,
          1922,
          1922,
          1706,
          1706,
          1706,
          1706,
          1706,
          1706,
          1587,
          1587,
          1587
         ],
         "z": [
          1677,
          1647,
          1647,
          1647,
          1647,
          1647,
          1647,
          1647,
          1695,
          1695,
          1695,
          1695,
          1755,
          1755,
          1755,
          1755,
          1755,
          1755,
          1755,
          1755,
          1755,
          1755,
          1677,
          1677,
          1677,
          1677,
          1706,
          1706,
          1706,
          1706,
          1706,
          1706,
          1811,
          1811,
          1811,
          1811,
          1811,
          1811,
          1811,
          1811,
          1811,
          1811,
          1811,
          1811,
          1811,
          1811,
          1811,
          1811,
          1811,
          1811,
          1811,
          1811,
          1811,
          1811,
          1811,
          1903,
          1903,
          1903,
          1903,
          1965,
          1965,
          1894,
          1894,
          1894,
          1894,
          1894,
          1894,
          1665,
          1665,
          1665
         ]
        },
        {
         "hovertemplate": "Make=Toyota<br>Length=%{x}<br>Height=%{y}<br>Width=%{z}<extra></extra>",
         "legendgroup": "Toyota",
         "marker": {
          "color": "#19d3f3",
          "symbol": "circle"
         },
         "mode": "markers",
         "name": "Toyota",
         "scene": "scene",
         "showlegend": true,
         "type": "scatter3d",
         "x": [
          3884,
          3884,
          3884,
          3884,
          3884,
          3884,
          3884,
          3884,
          3884,
          3884,
          3884,
          3884,
          3884,
          3884,
          4369,
          4369,
          4369,
          4369,
          4369,
          4369,
          4369,
          4369,
          4369,
          4369,
          3895,
          3895,
          3895,
          3895,
          3895,
          3895,
          3995,
          3995,
          3995,
          3995,
          3995,
          4840,
          4735,
          4735,
          4735,
          4735,
          4735,
          4735,
          4735,
          4735,
          4735,
          4735,
          4735,
          4735,
          4735,
          4735,
          4735,
          4735,
          4620,
          4620,
          4620,
          4620,
          4620,
          4620,
          4795,
          4795,
          4795,
          4795,
          4795,
          4795,
          4795,
          4950,
          4540,
          4885,
          4425,
          4425,
          4425,
          4425,
          4425,
          4425,
          4425,
          4425,
          4425,
          4425,
          4425,
          4425,
          4425,
          4425
         ],
         "y": [
          1510,
          1510,
          1510,
          1510,
          1510,
          1510,
          1510,
          1510,
          1510,
          1510,
          1510,
          1510,
          1510,
          1510,
          1510,
          1510,
          1510,
          1510,
          1510,
          1510,
          1510,
          1510,
          1510,
          1510,
          1555,
          1555,
          1555,
          1555,
          1555,
          1555,
          1540,
          1540,
          1540,
          1540,
          1540,
          1880,
          1795,
          1795,
          1795,
          1795,
          1795,
          1795,
          1795,
          1795,
          1795,
          1795,
          1795,
          1795,
          1795,
          1795,
          1795,
          1795,
          1475,
          1475,
          1475,
          1475,
          1475,
          1475,
          1835,
          1835,
          1835,
          1835,
          1835,
          1835,
          1835,
          1910,
          1490,
          1455,
          1495,
          1495,
          1495,
          1495,
          1495,
          1495,
          1495,
          1495,
          1495,
          1495,
          1495,
          1495,
          1495,
          1495
         ],
         "z": [
          1695,
          1695,
          1695,
          1695,
          1695,
          1695,
          1695,
          1695,
          1695,
          1695,
          1695,
          1695,
          1695,
          1695,
          1695,
          1695,
          1695,
          1695,
          1695,
          1695,
          1695,
          1695,
          1695,
          1695,
          1735,
          1735,
          1735,
          1735,
          1735,
          1735,
          1745,
          1745,
          1745,
          1745,
          1745,
          1885,
          1830,
          1830,
          1830,
          1830,
          1830,
          1830,
          1830,
          1830,
          1830,
          1830,
          1830,
          1830,
          1830,
          1830,
          1830,
          1830,
          1775,
          1775,
          1775,
          1775,
          1775,
          1775,
          1855,
          1855,
          1855,
          1855,
          1855,
          1855,
          1855,
          1980,
          1760,
          1840,
          1730,
          1730,
          1730,
          1730,
          1730,
          1730,
          1730,
          1730,
          1730,
          1730,
          1730,
          1730,
          1730,
          1730
         ]
        },
        {
         "hovertemplate": "Make=Nissan<br>Length=%{x}<br>Height=%{y}<br>Width=%{z}<extra></extra>",
         "legendgroup": "Nissan",
         "marker": {
          "color": "#FF6692",
          "symbol": "circle"
         },
         "mode": "markers",
         "name": "Nissan",
         "scene": "scene",
         "showlegend": true,
         "type": "scatter3d",
         "x": [
          3801,
          3801,
          3801,
          4455,
          4455,
          4455,
          4455,
          4455,
          4455,
          4455,
          4331,
          4331,
          4331,
          4331,
          4331,
          4331,
          4710,
          3825,
          3825,
          3825,
          3825,
          4384,
          4384,
          4384,
          4384,
          4384,
          4384,
          4384,
          4384
         ],
         "y": [
          1530,
          1530,
          1530,
          1515,
          1515,
          1515,
          1515,
          1515,
          1515,
          1515,
          1671,
          1671,
          1671,
          1671,
          1671,
          1671,
          1370,
          1530,
          1530,
          1525,
          1525,
          1651,
          1651,
          1651,
          1651,
          1651,
          1651,
          1651,
          1651
         ],
         "z": [
          1665,
          1665,
          1665,
          1695,
          1695,
          1695,
          1695,
          1695,
          1695,
          1695,
          1822,
          1822,
          1822,
          1822,
          1822,
          1822,
          1895,
          1665,
          1665,
          1665,
          1665,
          1813,
          1813,
          1813,
          1813,
          1813,
          1813,
          1813,
          1813
         ]
        },
        {
         "hovertemplate": "Make=Volkswagen<br>Length=%{x}<br>Height=%{y}<br>Width=%{z}<extra></extra>",
         "legendgroup": "Volkswagen",
         "marker": {
          "color": "#B6E880",
          "symbol": "circle"
         },
         "mode": "markers",
         "name": "Volkswagen",
         "scene": "scene",
         "showlegend": true,
         "type": "scatter3d",
         "x": [
          3971,
          3971,
          3971,
          3971,
          3971,
          3971,
          3971,
          3971,
          3995,
          3995,
          3995,
          4486,
          4390,
          4390,
          4390,
          4390,
          4390,
          4390,
          4390,
          4390,
          4390,
          4390,
          3971,
          3971,
          4767,
          4767,
          4767,
          4767
         ],
         "y": [
          1469,
          1469,
          1469,
          1469,
          1469,
          1469,
          1469,
          1469,
          1483,
          1483,
          1483,
          1672,
          1467,
          1467,
          1467,
          1467,
          1467,
          1467,
          1467,
          1467,
          1467,
          1467,
          1469,
          1469,
          1456,
          1456,
          1456,
          1456
         ],
         "z": [
          1682,
          1682,
          1682,
          1682,
          1682,
          1682,
          1682,
          1682,
          1682,
          1682,
          1682,
          1839,
          1699,
          1699,
          1699,
          1699,
          1699,
          1699,
          1699,
          1699,
          1699,
          1699,
          1682,
          1682,
          1832,
          1832,
          1832,
          1832
         ]
        },
        {
         "hovertemplate": "Make=Ford<br>Length=%{x}<br>Height=%{y}<br>Width=%{z}<extra></extra>",
         "legendgroup": "Ford",
         "marker": {
          "color": "#FF97FF",
          "symbol": "circle"
         },
         "mode": "markers",
         "name": "Ford",
         "scene": "scene",
         "showlegend": true,
         "type": "scatter3d",
         "x": [
          3954,
          3954,
          3954,
          3954,
          3954,
          3954,
          3954,
          3954,
          3995,
          3995,
          3995,
          3995,
          3995,
          3995,
          3995,
          3995,
          3995,
          3995,
          3995,
          3995,
          3995,
          4784,
          3998,
          3998,
          3998,
          3998,
          3998,
          3998,
          3998,
          3998,
          3998,
          3998,
          3998,
          3998,
          4903,
          4903,
          4903,
          3941,
          3941,
          3941,
          3941,
          3941,
          3941
         ],
         "y": [
          1570,
          1570,
          1570,
          1570,
          1570,
          1570,
          1570,
          1570,
          1525,
          1525,
          1525,
          1525,
          1525,
          1525,
          1525,
          1525,
          1525,
          1525,
          1525,
          1525,
          1525,
          1391,
          1647,
          1647,
          1647,
          1647,
          1647,
          1647,
          1647,
          1647,
          1647,
          1647,
          1647,
          1647,
          1837,
          1837,
          1837,
          1525,
          1525,
          1525,
          1525,
          1525,
          1525
         ],
         "z": [
          1737,
          1737,
          1737,
          1737,
          1737,
          1737,
          1737,
          1737,
          1704,
          1704,
          1704,
          1704,
          1704,
          1705,
          1704,
          1704,
          1704,
          1704,
          1704,
          1704,
          1704,
          2080,
          1765,
          1765,
          1765,
          1765,
          1765,
          1765,
          1765,
          1765,
          1765,
          1765,
          1765,
          1765,
          1869,
          1869,
          1869,
          1704,
          1704,
          1704,
          1704,
          1704,
          1704
         ]
        },
        {
         "hovertemplate": "Make=Mahindra<br>Length=%{x}<br>Height=%{y}<br>Width=%{z}<extra></extra>",
         "legendgroup": "Mahindra",
         "marker": {
          "color": "#FECB52",
          "symbol": "circle"
         },
         "mode": "markers",
         "name": "Mahindra",
         "scene": "scene",
         "showlegend": true,
         "type": "scatter3d",
         "x": [
          3991,
          4850,
          3700,
          3700,
          3700,
          3700,
          3700,
          3700,
          3700,
          3700,
          3700,
          3700,
          3700,
          3700,
          3700,
          3700,
          3700,
          3700,
          3995,
          3995,
          4400,
          4400,
          4400,
          4585,
          4585,
          4585,
          4585,
          4585,
          4585,
          4585,
          4585,
          4456,
          4456,
          4456,
          4456,
          4456,
          4456,
          4585,
          4585,
          4585,
          4585,
          4585,
          4585,
          4585,
          4585,
          4585,
          4585,
          4585,
          4585,
          4585,
          4585,
          4585,
          4585,
          4585,
          4585,
          4585,
          4585,
          4585,
          3995,
          3995,
          3995,
          3995,
          3995,
          3995,
          3995,
          4520,
          3985,
          3985,
          3985,
          3985
         ],
         "y": [
          1540,
          1.845,
          1655,
          1655,
          1655,
          1655,
          1655,
          1655,
          1655,
          1655,
          1655,
          1655,
          1655,
          1655,
          1655,
          1655,
          1655,
          1655,
          1880,
          1617,
          1812,
          1812,
          1812,
          1774,
          1774,
          1774,
          1774,
          1774,
          1774,
          1774,
          1774,
          1995,
          1995,
          1995,
          1995,
          1995,
          1995,
          1785,
          1785,
          1785,
          1785,
          1785,
          1785,
          1785,
          1785,
          1785,
          1785,
          1785,
          1785,
          1785,
          1785,
          1785,
          1785,
          1785,
          1785,
          1785,
          1785,
          1785,
          1817,
          1817,
          1817,
          1839,
          1839,
          1839,
          1839,
          1895,
          1870,
          1870,
          1870,
          1870
         ],
         "z": [
          1740,
          1960,
          1735,
          1735,
          1735,
          1735,
          1735,
          1735,
          1735,
          1735,
          1735,
          1735,
          1735,
          1735,
          1735,
          1735,
          1735,
          1735,
          1745,
          1821,
          1835,
          1835,
          1835,
          1866,
          1866,
          1866,
          1866,
          1866,
          1866,
          1866,
          1866,
          1820,
          1820,
          1820,
          1820,
          1820,
          1820,
          1890,
          1890,
          1890,
          1890,
          1890,
          1890,
          1890,
          1890,
          1890,
          1890,
          1890,
          1890,
          1890,
          1890,
          1890,
          1890,
          1890,
          1890,
          1890,
          1890,
          1890,
          1835,
          1835,
          1835,
          1835,
          1835,
          1835,
          1835,
          1850,
          1850,
          1850,
          1850,
          1850
         ]
        },
        {
         "hovertemplate": "Make=Fiat<br>Length=%{x}<br>Height=%{y}<br>Width=%{z}<extra></extra>",
         "legendgroup": "Fiat",
         "marker": {
          "color": "#636efa",
          "symbol": "circle"
         },
         "mode": "markers",
         "name": "Fiat",
         "scene": "scene",
         "showlegend": true,
         "type": "scatter3d",
         "x": [
          3989,
          3989,
          3989,
          4596,
          4596,
          4596,
          3989,
          3989,
          3989
         ],
         "y": [
          1542,
          1542,
          1542,
          1494,
          1494,
          1487,
          1525,
          1525,
          1525
         ],
         "z": [
          1706,
          1706,
          1706,
          1730,
          1730,
          1730,
          1687,
          1687,
          1687
         ]
        },
        {
         "hovertemplate": "Make=Honda<br>Length=%{x}<br>Height=%{y}<br>Width=%{z}<extra></extra>",
         "legendgroup": "Honda",
         "marker": {
          "color": "#EF553B",
          "symbol": "circle"
         },
         "mode": "markers",
         "name": "Honda",
         "scene": "scene",
         "showlegend": true,
         "type": "scatter3d",
         "x": [
          3955,
          3955,
          3955,
          3955,
          3955,
          3955,
          3955,
          3955,
          4592,
          3995,
          3995,
          3995,
          3995,
          3995,
          3995,
          3995,
          3995,
          3995,
          3995,
          3995,
          3995,
          3995,
          3995,
          3995,
          3995,
          3995,
          3995,
          3995,
          3995,
          4453,
          4453,
          4453,
          4456,
          4456,
          4453,
          4453,
          4456,
          4656,
          4656,
          4656,
          4656,
          4656,
          3999,
          3999,
          3999,
          3999,
          3999,
          3999,
          4933,
          4440,
          4440,
          4440,
          4440,
          4440,
          4440,
          4440,
          4440,
          4440,
          4440
         ],
         "y": [
          1544,
          1544,
          1544,
          1544,
          1544,
          1544,
          1544,
          1544,
          1679,
          1501,
          1498,
          1498,
          1501,
          1501,
          1501,
          1501,
          1501,
          1501,
          1501,
          1501,
          1501,
          1501,
          1501,
          1501,
          1501,
          1501,
          1501,
          1501,
          1501,
          1666,
          1666,
          1666,
          1666,
          1666,
          1666,
          1666,
          1666,
          1433,
          1433,
          1433,
          1433,
          1433,
          1601,
          1601,
          1601,
          1601,
          1601,
          1601,
          1464,
          1495,
          1495,
          1495,
          1495,
          1495,
          1495,
          1495,
          1495,
          1495,
          1495
         ],
         "z": [
          1694,
          1694,
          1694,
          1694,
          1694,
          1694,
          1694,
          1694,
          1855,
          1695,
          1695,
          1695,
          1695,
          1695,
          1695,
          1695,
          1695,
          1695,
          1695,
          1695,
          1695,
          1695,
          1695,
          1695,
          1695,
          1695,
          1695,
          1695,
          1695,
          1735,
          1735,
          1735,
          1735,
          1735,
          1735,
          1735,
          1735,
          1799,
          1799,
          1799,
          1799,
          1799,
          1734,
          1734,
          1734,
          1734,
          1734,
          1734,
          1849,
          1695,
          1695,
          1695,
          1695,
          1695,
          1695,
          1695,
          1695,
          1695,
          1695
         ]
        },
        {
         "hovertemplate": "Make=Jeep<br>Length=%{x}<br>Height=%{y}<br>Width=%{z}<extra></extra>",
         "legendgroup": "Jeep",
         "marker": {
          "color": "#00cc96",
          "symbol": "circle"
         },
         "mode": "markers",
         "name": "Jeep",
         "scene": "scene",
         "showlegend": true,
         "type": "scatter3d",
         "x": [
          4398,
          4398,
          4828,
          4828,
          4846,
          4828,
          4395,
          4395,
          4395,
          4395,
          4395,
          4395,
          4395,
          4395,
          4395,
          4395,
          4395,
          4395,
          4395,
          4395,
          4395,
          4395,
          4395,
          4395,
          4395,
          4395,
          4395,
          4882
         ],
         "y": [
          1657,
          1657,
          1802,
          1802,
          1749,
          1802,
          1640,
          1640,
          1640,
          1640,
          1640,
          1640,
          1640,
          1640,
          1640,
          1640,
          1640,
          1640,
          1640,
          1640,
          1640,
          1640,
          1640,
          1640,
          1640,
          1640,
          1640,
          1838
         ],
         "z": [
          1818,
          1818,
          1943,
          1943,
          1954,
          1943,
          1818,
          1818,
          1818,
          1818,
          1818,
          1818,
          1818,
          1818,
          1818,
          1818,
          1818,
          1818,
          1818,
          1818,
          1818,
          1818,
          1818,
          1818,
          1818,
          1818,
          1818,
          1877
         ]
        },
        {
         "hovertemplate": "Make=Isuzu<br>Length=%{x}<br>Height=%{y}<br>Width=%{z}<extra></extra>",
         "legendgroup": "Isuzu",
         "marker": {
          "color": "#ab63fa",
          "symbol": "circle"
         },
         "mode": "markers",
         "name": "Isuzu",
         "scene": "scene",
         "showlegend": true,
         "type": "scatter3d",
         "x": [
          4825,
          4825
         ],
         "y": [
          1840,
          1840
         ],
         "z": [
          1860,
          1860
         ]
        },
        {
         "hovertemplate": "Make=Skoda<br>Length=%{x}<br>Height=%{y}<br>Width=%{z}<extra></extra>",
         "legendgroup": "Skoda",
         "marker": {
          "color": "#FFA15A",
          "symbol": "circle"
         },
         "mode": "markers",
         "name": "Skoda",
         "scene": "scene",
         "showlegend": true,
         "type": "scatter3d",
         "x": [
          4861,
          4861,
          4861,
          4861,
          4861,
          4413,
          4413,
          4413,
          4413,
          4861,
          4861,
          4861,
          4861,
          4861,
          4861,
          4861,
          4697,
          4413,
          4413,
          4413,
          4413,
          4413,
          4413,
          4413,
          4413,
          4413,
          4413,
          4413,
          4413,
          4413,
          4413,
          4670,
          4670,
          4670,
          4670,
          4670,
          4670,
          4670,
          4670,
          4670,
          4670,
          4670,
          4670
         ],
         "y": [
          1483,
          1483,
          1483,
          1483,
          1483,
          1466,
          1466,
          1466,
          1466,
          1483,
          1483,
          1483,
          1483,
          1483,
          1483,
          1483,
          1665,
          1466,
          1466,
          1466,
          1466,
          1466,
          1466,
          1466,
          1466,
          1466,
          1466,
          1466,
          1466,
          1466,
          1466,
          1476,
          1476,
          1476,
          1476,
          1476,
          1476,
          1476,
          1476,
          1476,
          1476,
          1476,
          1476
         ],
         "z": [
          1864,
          1864,
          1864,
          1864,
          1864,
          1699,
          1699,
          1699,
          1699,
          1864,
          1864,
          1864,
          1864,
          1864,
          1864,
          1864,
          1882,
          1699,
          1699,
          1699,
          1699,
          1699,
          1699,
          1699,
          1699,
          1699,
          1699,
          1699,
          1699,
          1699,
          1699,
          1814,
          1814,
          1814,
          1814,
          1814,
          1814,
          1814,
          1814,
          1814,
          1814,
          1814,
          1814
         ]
        },
        {
         "hovertemplate": "Make=Audi<br>Length=%{x}<br>Height=%{y}<br>Width=%{z}<extra></extra>",
         "legendgroup": "Audi",
         "marker": {
          "color": "#19d3f3",
          "symbol": "circle"
         },
         "mode": "markers",
         "name": "Audi",
         "scene": "scene",
         "showlegend": true,
         "type": "scatter3d",
         "x": [
          4456,
          4456,
          4456,
          4456,
          4388,
          4388,
          4388,
          4388,
          4726,
          4726,
          4421,
          4933,
          4933,
          4718,
          5052,
          5302,
          4440,
          4388,
          4388,
          4663,
          4663,
          5052,
          5052,
          5052,
          5052,
          5052,
          5052,
          5012
         ],
         "y": [
          1416,
          1416,
          1416,
          1416,
          1608,
          1608,
          1608,
          1608,
          1427,
          1427,
          1409,
          1455,
          1455,
          1384,
          1740,
          1485,
          1252,
          1608,
          1608,
          1659,
          1659,
          1740,
          1740,
          1740,
          1740,
          1740,
          1740,
          1419
         ],
         "z": [
          1796,
          1796,
          1796,
          1796,
          1831,
          1831,
          1831,
          1831,
          1842,
          1842,
          1793,
          1874,
          1874,
          1843,
          1968,
          1945,
          2029,
          1831,
          1831,
          1898,
          1898,
          1968,
          1968,
          1968,
          1968,
          1968,
          1968,
          1911
         ]
        },
        {
         "hovertemplate": "Make=Mercedes-Benz<br>Length=%{x}<br>Height=%{y}<br>Width=%{z}<extra></extra>",
         "legendgroup": "Mercedes-Benz",
         "marker": {
          "color": "#FF6692",
          "symbol": "circle"
         },
         "mode": "markers",
         "name": "Mercedes-Benz",
         "scene": "scene",
         "showlegend": true,
         "type": "scatter3d",
         "x": [
          4393,
          4393,
          4393,
          4393,
          4630,
          4630,
          4630,
          5120,
          5146,
          5146,
          5146,
          5120,
          5116,
          5246,
          5027,
          4763,
          4817,
          5453,
          5246,
          5027,
          5063,
          5063,
          5063,
          4879,
          5063,
          5063,
          5063,
          5063,
          4686,
          5370,
          5140,
          5140,
          4933,
          4546,
          4551,
          4544,
          4292,
          4292,
          4686,
          4686,
          4686,
          4756,
          4686,
          4686,
          4924,
          4924,
          4424,
          4424,
          4424,
          4445,
          4424,
          4445,
          4658,
          4658
         ],
         "y": [
          1557,
          1557,
          1557,
          1557,
          1432,
          1432,
          1432,
          1850,
          1850,
          1850,
          1850,
          1850,
          1494,
          1494,
          1411,
          1938,
          1969,
          1498,
          1494,
          1417,
          1494,
          1494,
          1494,
          1474,
          1494,
          1494,
          1494,
          1494,
          1409,
          1880,
          1880,
          1901,
          1475,
          1288,
          1284,
          1259,
          1433,
          1433,
          1442,
          1442,
          1442,
          1426,
          1442,
          1442,
          1772,
          1772,
          1494,
          1494,
          1494,
          1479,
          1494,
          1479,
          1644,
          1644
         ],
         "z": [
          1786,
          1786,
          1786,
          1786,
          1777,
          1777,
          1777,
          1934,
          1982,
          1982,
          1982,
          1934,
          1899,
          1899,
          1899,
          1855,
          1931,
          1899,
          1899,
          1899,
          1860,
          1860,
          1860,
          1854,
          1860,
          1860,
          1860,
          1860,
          1810,
          1928,
          1928,
          1928,
          1852,
          1939,
          2007,
          1939,
          1780,
          2022,
          1810,
          1810,
          1810,
          1839,
          1810,
          1810,
          2157,
          2157,
          1804,
          1804,
          1804,
          1804,
          1804,
          1804,
          1890,
          1890
         ]
        },
        {
         "hovertemplate": "Make=Volvo<br>Length=%{x}<br>Height=%{y}<br>Width=%{z}<extra></extra>",
         "legendgroup": "Volvo",
         "marker": {
          "color": "#B6E880",
          "symbol": "circle"
         },
         "mode": "markers",
         "name": "Volvo",
         "scene": "scene",
         "showlegend": true,
         "type": "scatter3d",
         "x": [
          4425,
          4369,
          4369,
          4635,
          4635,
          4637,
          4688,
          4950,
          4950,
          4950,
          4950,
          4950,
          4370,
          4370,
          4950
         ],
         "y": [
          1652,
          1420,
          1420,
          1484,
          1484,
          1539,
          1658,
          1776,
          1776,
          1776,
          1776,
          1776,
          1458,
          1470,
          1543
         ],
         "z": [
          1863,
          2041,
          2041,
          2097,
          1865,
          2097,
          1902,
          2140,
          2140,
          2140,
          2140,
          2140,
          1783,
          1857,
          2052
         ]
        },
        {
         "hovertemplate": "Make=Mini<br>Length=%{x}<br>Height=%{y}<br>Width=%{z}<extra></extra>",
         "legendgroup": "Mini",
         "marker": {
          "color": "#FF97FF",
          "symbol": "circle"
         },
         "mode": "markers",
         "name": "Mini",
         "scene": "scene",
         "showlegend": true,
         "type": "scatter3d",
         "x": [
          3874,
          4299,
          4299,
          4299,
          4299
         ],
         "y": [
          1414,
          1557,
          1557,
          1557,
          1557
         ],
         "z": [
          1727,
          1822,
          1822,
          1822,
          1822
         ]
        },
        {
         "hovertemplate": "Make=Jaguar<br>Length=%{x}<br>Height=%{y}<br>Width=%{z}<extra></extra>",
         "legendgroup": "Jaguar",
         "marker": {
          "color": "#FECB52",
          "symbol": "circle"
         },
         "mode": "markers",
         "name": "Jaguar",
         "scene": "scene",
         "showlegend": true,
         "type": "scatter3d",
         "x": [
          4691,
          4691,
          4691,
          4691,
          4961,
          5252,
          5252,
          5067,
          5067,
          5252,
          5252,
          5255,
          4731,
          4731,
          4470,
          4475,
          4475,
          4482,
          4482,
          4482,
          4482
         ],
         "y": [
          1416,
          1416,
          1416,
          1416,
          1460,
          1457,
          1457,
          1457,
          1457,
          1457,
          1457,
          1460,
          1651,
          1651,
          1308,
          1311,
          1311,
          1311,
          1308,
          1308,
          1311
         ],
         "z": [
          1850,
          1850,
          1850,
          1850,
          2091,
          1899,
          1899,
          2091,
          2091,
          1899,
          1899,
          1899,
          2175,
          2175,
          2042,
          2042,
          2042,
          1923,
          1923,
          1923,
          1923
         ]
        },
        {
         "hovertemplate": "Make=Bmw<br>Length=%{x}<br>Height=%{y}<br>Width=%{z}<extra></extra>",
         "legendgroup": "Bmw",
         "marker": {
          "color": "#636efa",
          "symbol": "circle"
         },
         "mode": "markers",
         "name": "Bmw",
         "scene": "scene",
         "showlegend": true,
         "type": "scatter3d",
         "x": [
          4657,
          4657,
          4657,
          4461,
          5120,
          5120,
          5120,
          5120,
          5219,
          5219,
          4439,
          4439,
          4439,
          4477,
          4439,
          4633,
          4633,
          4633,
          4752,
          4752,
          4752,
          4324,
          4324,
          5151,
          5151,
          4671,
          4907,
          4907,
          4907,
          5219,
          5219,
          5091,
          4956
         ],
         "y": [
          1678,
          1678,
          1678,
          1410,
          1479,
          1479,
          1479,
          1479,
          1481,
          1481,
          1612,
          1612,
          1612,
          1545,
          1612,
          1429,
          1429,
          1429,
          1621,
          1621,
          1621,
          1304,
          1304,
          1805,
          1805,
          1383,
          1464,
          1464,
          1464,
          1481,
          1481,
          1538,
          1473
         ],
         "z": [
          1881,
          1881,
          1881,
          1854,
          2169,
          2169,
          2169,
          2169,
          2142,
          2142,
          2060,
          2058,
          2058,
          2058,
          1821,
          1811,
          1811,
          1811,
          1918,
          1918,
          1918,
          2024,
          1459,
          2000,
          2000,
          1870,
          1860,
          1860,
          1860,
          2142,
          2142,
          1902,
          1903
         ]
        },
        {
         "hovertemplate": "Make=Land Rover<br>Length=%{x}<br>Height=%{y}<br>Width=%{z}<extra></extra>",
         "legendgroup": "Land Rover",
         "marker": {
          "color": "#EF553B",
          "symbol": "circle"
         },
         "mode": "markers",
         "name": "Land Rover",
         "scene": "scene",
         "showlegend": true,
         "type": "scatter3d",
         "x": [
          4600,
          4600,
          4988,
          4988,
          4988,
          4988,
          4988,
          4988,
          4988,
          4988
         ],
         "y": [
          1727,
          1727,
          1846,
          1846,
          1846,
          1846,
          1846,
          1846,
          1846,
          1846
         ],
         "z": [
          2069,
          2069,
          2200,
          2200,
          2200,
          2200,
          2200,
          2200,
          2200,
          2200
         ]
        },
        {
         "hovertemplate": "Make=Porsche<br>Length=%{x}<br>Height=%{y}<br>Width=%{z}<extra></extra>",
         "legendgroup": "Porsche",
         "marker": {
          "color": "#00cc96",
          "symbol": "circle"
         },
         "mode": "markers",
         "name": "Porsche",
         "scene": "scene",
         "showlegend": true,
         "type": "scatter3d",
         "x": [
          4379,
          4379,
          5049,
          5199,
          5049,
          4918,
          4926,
          4918,
          4519,
          4519,
          4696,
          4696
         ],
         "y": [
          1281,
          1281,
          1427,
          1432,
          1432,
          1696,
          1673,
          1705,
          1300,
          1299,
          1624,
          1624
         ],
         "z": [
          1801,
          1801,
          1937,
          1937,
          1937,
          1983,
          1983,
          1983,
          1852,
          1852,
          1923,
          1923
         ]
        },
        {
         "hovertemplate": "Make=Lexus<br>Length=%{x}<br>Height=%{y}<br>Width=%{z}<extra></extra>",
         "legendgroup": "Lexus",
         "marker": {
          "color": "#ab63fa",
          "symbol": "circle"
         },
         "mode": "markers",
         "name": "Lexus",
         "scene": "scene",
         "showlegend": true,
         "type": "scatter3d",
         "x": [
          5000,
          4770,
          4.64,
          4640,
          5235,
          5235,
          5235
         ],
         "y": [
          1700,
          1345,
          1645,
          1645,
          1450,
          1450,
          1450
         ],
         "z": [
          1895,
          1920,
          1.845,
          1845,
          1900,
          1900,
          1900
         ]
        },
        {
         "hovertemplate": "Make=Maserati<br>Length=%{x}<br>Height=%{y}<br>Width=%{z}<extra></extra>",
         "legendgroup": "Maserati",
         "marker": {
          "color": "#FFA15A",
          "symbol": "circle"
         },
         "mode": "markers",
         "name": "Maserati",
         "scene": "scene",
         "showlegend": true,
         "type": "scatter3d",
         "x": [
          5003,
          5003,
          5003,
          4881,
          5262,
          4881
         ],
         "y": [
          1679,
          1679,
          1679,
          1353,
          1481,
          1353
         ],
         "z": [
          2158,
          2158,
          2158,
          1915,
          1948,
          2056
         ]
        },
        {
         "hovertemplate": "Make=Lamborghini<br>Length=%{x}<br>Height=%{y}<br>Width=%{z}<extra></extra>",
         "legendgroup": "Lamborghini",
         "marker": {
          "color": "#19d3f3",
          "symbol": "circle"
         },
         "mode": "markers",
         "name": "Lamborghini",
         "scene": "scene",
         "showlegend": true,
         "type": "scatter3d",
         "x": [
          5112,
          4459,
          4459,
          4459,
          4459,
          4459,
          4459,
          4459,
          4520,
          4780,
          4780,
          4797
         ],
         "y": [
          1638,
          1165,
          1165,
          1165,
          1165,
          1165,
          1165,
          1165,
          1165,
          1136,
          1136,
          1136
         ],
         "z": [
          2181,
          1924,
          1924,
          1924,
          1924,
          1924,
          1924,
          1924,
          1933,
          2030,
          2030,
          2030
         ]
        },
        {
         "hovertemplate": "Make=Bentley<br>Length=%{x}<br>Height=%{y}<br>Width=%{z}<extra></extra>",
         "legendgroup": "Bentley",
         "marker": {
          "color": "#FF6692",
          "symbol": "circle"
         },
         "mode": "markers",
         "name": "Bentley",
         "scene": "scene",
         "showlegend": true,
         "type": "scatter3d",
         "x": [
          4807,
          5141,
          5140,
          5575,
          5299,
          5299
         ],
         "y": [
          1401,
          1742,
          1742,
          1521,
          1488,
          1488
         ],
         "z": [
          2226,
          1998,
          1998,
          2208,
          2207,
          2207
         ]
        },
        {
         "hovertemplate": "Make=Ferrari<br>Length=%{x}<br>Height=%{y}<br>Width=%{z}<extra></extra>",
         "legendgroup": "Ferrari",
         "marker": {
          "color": "#B6E880",
          "symbol": "circle"
         },
         "mode": "markers",
         "name": "Ferrari",
         "scene": "scene",
         "showlegend": true,
         "type": "scatter3d",
         "x": [
          4569,
          4571,
          4568,
          4568,
          4922,
          4922,
          4657,
          4568
         ],
         "y": [
          1320,
          1203,
          1213,
          1213,
          1383,
          1383,
          1276,
          1211
         ],
         "z": [
          1910,
          1951,
          1952,
          1952,
          1980,
          1980,
          1971,
          1952
         ]
        },
        {
         "hovertemplate": "Make=Aston Martin<br>Length=%{x}<br>Height=%{y}<br>Width=%{z}<extra></extra>",
         "legendgroup": "Aston Martin",
         "marker": {
          "color": "#FF97FF",
          "symbol": "circle"
         },
         "mode": "markers",
         "name": "Aston Martin",
         "scene": "scene",
         "showlegend": true,
         "type": "scatter3d",
         "x": [
          4385,
          4465,
          5019
         ],
         "y": [
          1250,
          1273,
          1360
         ],
         "z": [
          1865,
          2153,
          1929
         ]
        },
        {
         "hovertemplate": "Make=Rolls-Royce<br>Length=%{x}<br>Height=%{y}<br>Width=%{z}<extra></extra>",
         "legendgroup": "Rolls-Royce",
         "marker": {
          "color": "#FECB52",
          "symbol": "circle"
         },
         "mode": "markers",
         "name": "Rolls-Royce",
         "scene": "scene",
         "showlegend": true,
         "type": "scatter3d",
         "x": [
          5399,
          5569,
          5612,
          5285,
          5842,
          5842,
          6092
         ],
         "y": [
          1550,
          1550,
          1598,
          1502,
          1638,
          1638,
          1640
         ],
         "z": [
          1948,
          1948,
          1987,
          1947,
          1990,
          1990,
          1990
         ]
        },
        {
         "hovertemplate": "Make=Land Rover Rover<br>Length=%{x}<br>Height=%{y}<br>Width=%{z}<extra></extra>",
         "legendgroup": "Land Rover Rover",
         "marker": {
          "color": "#636efa",
          "symbol": "circle"
         },
         "mode": "markers",
         "name": "Land Rover Rover",
         "scene": "scene",
         "showlegend": true,
         "type": "scatter3d",
         "x": [
          4797,
          4879,
          4879,
          4879,
          4879,
          4879,
          4879,
          4879,
          4879,
          4999,
          4999,
          5199,
          4999,
          5199
         ],
         "y": [
          1665,
          1803,
          1803,
          1803,
          1803,
          1803,
          1803,
          1803,
          1803,
          1877,
          1827,
          1840,
          1835,
          1840
         ],
         "z": [
          2145,
          2220,
          2220,
          2220,
          2220,
          2220,
          2220,
          2220,
          2220,
          2034,
          2220,
          2220,
          2220,
          2220
         ]
        },
        {
         "hovertemplate": "Make=Go+<br>Length=%{x}<br>Height=%{y}<br>Width=%{z}<extra></extra>",
         "legendgroup": "Go+",
         "marker": {
          "color": "#EF553B",
          "symbol": "circle"
         },
         "mode": "markers",
         "name": "Go+",
         "scene": "scene",
         "showlegend": true,
         "type": "scatter3d",
         "x": [
          3995,
          3995,
          3995,
          3995,
          3995,
          3995,
          3995,
          3995,
          3995
         ],
         "y": [
          1507,
          1507,
          1507,
          1507,
          1507,
          1507,
          1507,
          1507,
          1507
         ],
         "z": [
          1635,
          1635,
          1635,
          1635,
          1635,
          1635,
          1635,
          1635,
          1635
         ]
        },
        {
         "hovertemplate": "Make=Kia<br>Length=%{x}<br>Height=%{y}<br>Width=%{z}<extra></extra>",
         "legendgroup": "Kia",
         "marker": {
          "color": "#00cc96",
          "symbol": "circle"
         },
         "mode": "markers",
         "name": "Kia",
         "scene": "scene",
         "showlegend": true,
         "type": "scatter3d",
         "x": [
          4315,
          4315,
          4315,
          4315,
          4315
         ],
         "y": [
          1645,
          1645,
          1645,
          1645,
          1645
         ],
         "z": [
          1800,
          1800,
          1800,
          1800,
          1800
         ]
        },
        {
         "hovertemplate": "Make=Mitsubishi<br>Length=%{x}<br>Height=%{y}<br>Width=%{z}<extra></extra>",
         "legendgroup": "Mitsubishi",
         "marker": {
          "color": "#ab63fa",
          "symbol": "circle"
         },
         "mode": "markers",
         "name": "Mitsubishi",
         "scene": "scene",
         "showlegend": true,
         "type": "scatter3d",
         "x": [
          4695,
          4695,
          4695,
          4695,
          4695,
          4695,
          4900
         ],
         "y": [
          1710,
          1840,
          1840,
          1840,
          1840,
          1840,
          1900
         ],
         "z": [
          1810,
          1815,
          1815,
          1815,
          1815,
          1815,
          1875
         ]
        },
        {
         "hovertemplate": "Make=Maruti Suzuki R<br>Length=%{x}<br>Height=%{y}<br>Width=%{z}<extra></extra>",
         "legendgroup": "Maruti Suzuki R",
         "marker": {
          "color": "#FFA15A",
          "symbol": "circle"
         },
         "mode": "markers",
         "name": "Maruti Suzuki R",
         "scene": "scene",
         "showlegend": true,
         "type": "scatter3d",
         "x": [
          3655,
          3655
         ],
         "y": [
          1675,
          1675
         ],
         "z": [
          1620,
          1620
         ]
        }
       ],
       "layout": {
        "height": 750,
        "legend": {
         "title": {
          "text": "Make"
         },
         "tracegroupgap": 0
        },
        "margin": {
         "t": 60
        },
        "scene": {
         "domain": {
          "x": [
           0,
           1
          ],
          "y": [
           0,
           1
          ]
         },
         "xaxis": {
          "range": [
           3000,
           6000
          ],
          "title": {
           "text": "Length"
          }
         },
         "yaxis": {
          "range": [
           1000,
           2000
          ],
          "title": {
           "text": "Height"
          }
         },
         "zaxis": {
          "range": [
           1200,
           2000
          ],
          "title": {
           "text": "Width"
          }
         }
        },
        "showlegend": true,
        "template": {
         "data": {
          "bar": [
           {
            "error_x": {
             "color": "#2a3f5f"
            },
            "error_y": {
             "color": "#2a3f5f"
            },
            "marker": {
             "line": {
              "color": "#E5ECF6",
              "width": 0.5
             },
             "pattern": {
              "fillmode": "overlay",
              "size": 10,
              "solidity": 0.2
             }
            },
            "type": "bar"
           }
          ],
          "barpolar": [
           {
            "marker": {
             "line": {
              "color": "#E5ECF6",
              "width": 0.5
             },
             "pattern": {
              "fillmode": "overlay",
              "size": 10,
              "solidity": 0.2
             }
            },
            "type": "barpolar"
           }
          ],
          "carpet": [
           {
            "aaxis": {
             "endlinecolor": "#2a3f5f",
             "gridcolor": "white",
             "linecolor": "white",
             "minorgridcolor": "white",
             "startlinecolor": "#2a3f5f"
            },
            "baxis": {
             "endlinecolor": "#2a3f5f",
             "gridcolor": "white",
             "linecolor": "white",
             "minorgridcolor": "white",
             "startlinecolor": "#2a3f5f"
            },
            "type": "carpet"
           }
          ],
          "choropleth": [
           {
            "colorbar": {
             "outlinewidth": 0,
             "ticks": ""
            },
            "type": "choropleth"
           }
          ],
          "contour": [
           {
            "colorbar": {
             "outlinewidth": 0,
             "ticks": ""
            },
            "colorscale": [
             [
              0,
              "#0d0887"
             ],
             [
              0.1111111111111111,
              "#46039f"
             ],
             [
              0.2222222222222222,
              "#7201a8"
             ],
             [
              0.3333333333333333,
              "#9c179e"
             ],
             [
              0.4444444444444444,
              "#bd3786"
             ],
             [
              0.5555555555555556,
              "#d8576b"
             ],
             [
              0.6666666666666666,
              "#ed7953"
             ],
             [
              0.7777777777777778,
              "#fb9f3a"
             ],
             [
              0.8888888888888888,
              "#fdca26"
             ],
             [
              1,
              "#f0f921"
             ]
            ],
            "type": "contour"
           }
          ],
          "contourcarpet": [
           {
            "colorbar": {
             "outlinewidth": 0,
             "ticks": ""
            },
            "type": "contourcarpet"
           }
          ],
          "heatmap": [
           {
            "colorbar": {
             "outlinewidth": 0,
             "ticks": ""
            },
            "colorscale": [
             [
              0,
              "#0d0887"
             ],
             [
              0.1111111111111111,
              "#46039f"
             ],
             [
              0.2222222222222222,
              "#7201a8"
             ],
             [
              0.3333333333333333,
              "#9c179e"
             ],
             [
              0.4444444444444444,
              "#bd3786"
             ],
             [
              0.5555555555555556,
              "#d8576b"
             ],
             [
              0.6666666666666666,
              "#ed7953"
             ],
             [
              0.7777777777777778,
              "#fb9f3a"
             ],
             [
              0.8888888888888888,
              "#fdca26"
             ],
             [
              1,
              "#f0f921"
             ]
            ],
            "type": "heatmap"
           }
          ],
          "heatmapgl": [
           {
            "colorbar": {
             "outlinewidth": 0,
             "ticks": ""
            },
            "colorscale": [
             [
              0,
              "#0d0887"
             ],
             [
              0.1111111111111111,
              "#46039f"
             ],
             [
              0.2222222222222222,
              "#7201a8"
             ],
             [
              0.3333333333333333,
              "#9c179e"
             ],
             [
              0.4444444444444444,
              "#bd3786"
             ],
             [
              0.5555555555555556,
              "#d8576b"
             ],
             [
              0.6666666666666666,
              "#ed7953"
             ],
             [
              0.7777777777777778,
              "#fb9f3a"
             ],
             [
              0.8888888888888888,
              "#fdca26"
             ],
             [
              1,
              "#f0f921"
             ]
            ],
            "type": "heatmapgl"
           }
          ],
          "histogram": [
           {
            "marker": {
             "pattern": {
              "fillmode": "overlay",
              "size": 10,
              "solidity": 0.2
             }
            },
            "type": "histogram"
           }
          ],
          "histogram2d": [
           {
            "colorbar": {
             "outlinewidth": 0,
             "ticks": ""
            },
            "colorscale": [
             [
              0,
              "#0d0887"
             ],
             [
              0.1111111111111111,
              "#46039f"
             ],
             [
              0.2222222222222222,
              "#7201a8"
             ],
             [
              0.3333333333333333,
              "#9c179e"
             ],
             [
              0.4444444444444444,
              "#bd3786"
             ],
             [
              0.5555555555555556,
              "#d8576b"
             ],
             [
              0.6666666666666666,
              "#ed7953"
             ],
             [
              0.7777777777777778,
              "#fb9f3a"
             ],
             [
              0.8888888888888888,
              "#fdca26"
             ],
             [
              1,
              "#f0f921"
             ]
            ],
            "type": "histogram2d"
           }
          ],
          "histogram2dcontour": [
           {
            "colorbar": {
             "outlinewidth": 0,
             "ticks": ""
            },
            "colorscale": [
             [
              0,
              "#0d0887"
             ],
             [
              0.1111111111111111,
              "#46039f"
             ],
             [
              0.2222222222222222,
              "#7201a8"
             ],
             [
              0.3333333333333333,
              "#9c179e"
             ],
             [
              0.4444444444444444,
              "#bd3786"
             ],
             [
              0.5555555555555556,
              "#d8576b"
             ],
             [
              0.6666666666666666,
              "#ed7953"
             ],
             [
              0.7777777777777778,
              "#fb9f3a"
             ],
             [
              0.8888888888888888,
              "#fdca26"
             ],
             [
              1,
              "#f0f921"
             ]
            ],
            "type": "histogram2dcontour"
           }
          ],
          "mesh3d": [
           {
            "colorbar": {
             "outlinewidth": 0,
             "ticks": ""
            },
            "type": "mesh3d"
           }
          ],
          "parcoords": [
           {
            "line": {
             "colorbar": {
              "outlinewidth": 0,
              "ticks": ""
             }
            },
            "type": "parcoords"
           }
          ],
          "pie": [
           {
            "automargin": true,
            "type": "pie"
           }
          ],
          "scatter": [
           {
            "fillpattern": {
             "fillmode": "overlay",
             "size": 10,
             "solidity": 0.2
            },
            "type": "scatter"
           }
          ],
          "scatter3d": [
           {
            "line": {
             "colorbar": {
              "outlinewidth": 0,
              "ticks": ""
             }
            },
            "marker": {
             "colorbar": {
              "outlinewidth": 0,
              "ticks": ""
             }
            },
            "type": "scatter3d"
           }
          ],
          "scattercarpet": [
           {
            "marker": {
             "colorbar": {
              "outlinewidth": 0,
              "ticks": ""
             }
            },
            "type": "scattercarpet"
           }
          ],
          "scattergeo": [
           {
            "marker": {
             "colorbar": {
              "outlinewidth": 0,
              "ticks": ""
             }
            },
            "type": "scattergeo"
           }
          ],
          "scattergl": [
           {
            "marker": {
             "colorbar": {
              "outlinewidth": 0,
              "ticks": ""
             }
            },
            "type": "scattergl"
           }
          ],
          "scattermapbox": [
           {
            "marker": {
             "colorbar": {
              "outlinewidth": 0,
              "ticks": ""
             }
            },
            "type": "scattermapbox"
           }
          ],
          "scatterpolar": [
           {
            "marker": {
             "colorbar": {
              "outlinewidth": 0,
              "ticks": ""
             }
            },
            "type": "scatterpolar"
           }
          ],
          "scatterpolargl": [
           {
            "marker": {
             "colorbar": {
              "outlinewidth": 0,
              "ticks": ""
             }
            },
            "type": "scatterpolargl"
           }
          ],
          "scatterternary": [
           {
            "marker": {
             "colorbar": {
              "outlinewidth": 0,
              "ticks": ""
             }
            },
            "type": "scatterternary"
           }
          ],
          "surface": [
           {
            "colorbar": {
             "outlinewidth": 0,
             "ticks": ""
            },
            "colorscale": [
             [
              0,
              "#0d0887"
             ],
             [
              0.1111111111111111,
              "#46039f"
             ],
             [
              0.2222222222222222,
              "#7201a8"
             ],
             [
              0.3333333333333333,
              "#9c179e"
             ],
             [
              0.4444444444444444,
              "#bd3786"
             ],
             [
              0.5555555555555556,
              "#d8576b"
             ],
             [
              0.6666666666666666,
              "#ed7953"
             ],
             [
              0.7777777777777778,
              "#fb9f3a"
             ],
             [
              0.8888888888888888,
              "#fdca26"
             ],
             [
              1,
              "#f0f921"
             ]
            ],
            "type": "surface"
           }
          ],
          "table": [
           {
            "cells": {
             "fill": {
              "color": "#EBF0F8"
             },
             "line": {
              "color": "white"
             }
            },
            "header": {
             "fill": {
              "color": "#C8D4E3"
             },
             "line": {
              "color": "white"
             }
            },
            "type": "table"
           }
          ]
         },
         "layout": {
          "annotationdefaults": {
           "arrowcolor": "#2a3f5f",
           "arrowhead": 0,
           "arrowwidth": 1
          },
          "autotypenumbers": "strict",
          "coloraxis": {
           "colorbar": {
            "outlinewidth": 0,
            "ticks": ""
           }
          },
          "colorscale": {
           "diverging": [
            [
             0,
             "#8e0152"
            ],
            [
             0.1,
             "#c51b7d"
            ],
            [
             0.2,
             "#de77ae"
            ],
            [
             0.3,
             "#f1b6da"
            ],
            [
             0.4,
             "#fde0ef"
            ],
            [
             0.5,
             "#f7f7f7"
            ],
            [
             0.6,
             "#e6f5d0"
            ],
            [
             0.7,
             "#b8e186"
            ],
            [
             0.8,
             "#7fbc41"
            ],
            [
             0.9,
             "#4d9221"
            ],
            [
             1,
             "#276419"
            ]
           ],
           "sequential": [
            [
             0,
             "#0d0887"
            ],
            [
             0.1111111111111111,
             "#46039f"
            ],
            [
             0.2222222222222222,
             "#7201a8"
            ],
            [
             0.3333333333333333,
             "#9c179e"
            ],
            [
             0.4444444444444444,
             "#bd3786"
            ],
            [
             0.5555555555555556,
             "#d8576b"
            ],
            [
             0.6666666666666666,
             "#ed7953"
            ],
            [
             0.7777777777777778,
             "#fb9f3a"
            ],
            [
             0.8888888888888888,
             "#fdca26"
            ],
            [
             1,
             "#f0f921"
            ]
           ],
           "sequentialminus": [
            [
             0,
             "#0d0887"
            ],
            [
             0.1111111111111111,
             "#46039f"
            ],
            [
             0.2222222222222222,
             "#7201a8"
            ],
            [
             0.3333333333333333,
             "#9c179e"
            ],
            [
             0.4444444444444444,
             "#bd3786"
            ],
            [
             0.5555555555555556,
             "#d8576b"
            ],
            [
             0.6666666666666666,
             "#ed7953"
            ],
            [
             0.7777777777777778,
             "#fb9f3a"
            ],
            [
             0.8888888888888888,
             "#fdca26"
            ],
            [
             1,
             "#f0f921"
            ]
           ]
          },
          "colorway": [
           "#636efa",
           "#EF553B",
           "#00cc96",
           "#ab63fa",
           "#FFA15A",
           "#19d3f3",
           "#FF6692",
           "#B6E880",
           "#FF97FF",
           "#FECB52"
          ],
          "font": {
           "color": "#2a3f5f"
          },
          "geo": {
           "bgcolor": "white",
           "lakecolor": "white",
           "landcolor": "#E5ECF6",
           "showlakes": true,
           "showland": true,
           "subunitcolor": "white"
          },
          "hoverlabel": {
           "align": "left"
          },
          "hovermode": "closest",
          "mapbox": {
           "style": "light"
          },
          "paper_bgcolor": "white",
          "plot_bgcolor": "#E5ECF6",
          "polar": {
           "angularaxis": {
            "gridcolor": "white",
            "linecolor": "white",
            "ticks": ""
           },
           "bgcolor": "#E5ECF6",
           "radialaxis": {
            "gridcolor": "white",
            "linecolor": "white",
            "ticks": ""
           }
          },
          "scene": {
           "xaxis": {
            "backgroundcolor": "#E5ECF6",
            "gridcolor": "white",
            "gridwidth": 2,
            "linecolor": "white",
            "showbackground": true,
            "ticks": "",
            "zerolinecolor": "white"
           },
           "yaxis": {
            "backgroundcolor": "#E5ECF6",
            "gridcolor": "white",
            "gridwidth": 2,
            "linecolor": "white",
            "showbackground": true,
            "ticks": "",
            "zerolinecolor": "white"
           },
           "zaxis": {
            "backgroundcolor": "#E5ECF6",
            "gridcolor": "white",
            "gridwidth": 2,
            "linecolor": "white",
            "showbackground": true,
            "ticks": "",
            "zerolinecolor": "white"
           }
          },
          "shapedefaults": {
           "line": {
            "color": "#2a3f5f"
           }
          },
          "ternary": {
           "aaxis": {
            "gridcolor": "white",
            "linecolor": "white",
            "ticks": ""
           },
           "baxis": {
            "gridcolor": "white",
            "linecolor": "white",
            "ticks": ""
           },
           "bgcolor": "#E5ECF6",
           "caxis": {
            "gridcolor": "white",
            "linecolor": "white",
            "ticks": ""
           }
          },
          "title": {
           "x": 0.05
          },
          "xaxis": {
           "automargin": true,
           "gridcolor": "white",
           "linecolor": "white",
           "ticks": "",
           "title": {
            "standoff": 15
           },
           "zerolinecolor": "white",
           "zerolinewidth": 2
          },
          "yaxis": {
           "automargin": true,
           "gridcolor": "white",
           "linecolor": "white",
           "ticks": "",
           "title": {
            "standoff": 15
           },
           "zerolinecolor": "white",
           "zerolinewidth": 2
          }
         }
        },
        "width": 800
       }
      },
      "text/html": [
       "<div>                            <div id=\"f5884fc7-0e91-4d66-9ba9-67e4c2e6b1c9\" class=\"plotly-graph-div\" style=\"height:750px; width:800px;\"></div>            <script type=\"text/javascript\">                require([\"plotly\"], function(Plotly) {                    window.PLOTLYENV=window.PLOTLYENV || {};                                    if (document.getElementById(\"f5884fc7-0e91-4d66-9ba9-67e4c2e6b1c9\")) {                    Plotly.newPlot(                        \"f5884fc7-0e91-4d66-9ba9-67e4c2e6b1c9\",                        [{\"hovertemplate\":\"Make=Renault<br>Length=%{x}<br>Height=%{y}<br>Width=%{z}<extra></extra>\",\"legendgroup\":\"Renault\",\"marker\":{\"color\":\"#636efa\",\"symbol\":\"circle\"},\"mode\":\"markers\",\"name\":\"Renault\",\"scene\":\"scene\",\"showlegend\":true,\"x\":[3731.0,3731.0,3731.0,3731.0,3731.0,3731.0,3731.0,3731.0,3731.0,3731.0,3731.0,3731.0,3990.0,3990.0,3990.0,3990.0,4315.0,4315.0,4315.0,4315.0,4315.0,4315.0,4315.0,4315.0,4315.0,4498.0,4498.0,4498.0,4329.0,4329.0,4329.0,4329.0],\"y\":[1490.0,1490.0,1490.0,1490.0,1490.0,1490.0,1490.0,1490.0,1490.0,1490.0,1490.0,1490.0,1643.0,1643.0,1643.0,1643.0,1695.0,1695.0,1695.0,1695.0,1695.0,1695.0,1695.0,1695.0,1695.0,1697.0,1697.0,1697.0,1619.0,1619.0,1619.0,1619.0],\"z\":[1579.0,1579.0,1579.0,1580.0,1579.0,1579.0,1579.0,1579.0,1579.0,1579.0,1579.0,1579.0,1739.0,1739.0,1739.0,1739.0,1822.0,1822.0,1822.0,1822.0,1822.0,1822.0,1822.0,1822.0,1822.0,1751.0,1751.0,1751.0,1813.0,1813.0,1813.0,1813.0],\"type\":\"scatter3d\"},{\"hovertemplate\":\"Make=Maruti Suzuki<br>Length=%{x}<br>Height=%{y}<br>Width=%{z}<extra></extra>\",\"legendgroup\":\"Maruti Suzuki\",\"marker\":{\"color\":\"#EF553B\",\"symbol\":\"circle\"},\"mode\":\"markers\",\"name\":\"Maruti Suzuki\",\"scene\":\"scene\",\"showlegend\":true,\"x\":[3675.0,3675.0,3675.0,3675.0,3545.0,3545.0,3545.0,3620.0,3545.0,3545.0,3600.0,3695.0,3600.0,3600.0,3600.0,3600.0,3600.0,3600.0,3600.0,3600.0,3700.0,3700.0,3700.0,3700.0,3700.0,3700.0,3700.0,3995.0,3995.0,3995.0,3995.0,3995.0,3995.0,3995.0,3995.0,3995.0,3995.0,3995.0,3995.0,3995.0,3995.0,3445.0,3445.0,3445.0,3445.0,3445.0,3565.0,3565.0,3565.0,3565.0,3565.0,3565.0,3565.0,3565.0,3565.0,3565.0,3600.0,3600.0,3600.0,3600.0,3600.0,3600.0,3600.0,3840.0,3840.0,3840.0,3840.0,3840.0,3840.0,3840.0,3840.0,3840.0,3840.0,3840.0,3840.0,3840.0,3840.0,3995.0,3995.0,3995.0,3995.0,3995.0,3995.0,3995.0,3995.0,3995.0,4445.0,4445.0,4445.0,4445.0,3995.0,3995.0,3995.0,3995.0,3995.0,3995.0,3995.0,3995.0,3995.0,3995.0,3995.0,3995.0,3995.0,4395.0,4265.0,4395.0,4395.0,4265.0,4265.0,4395.0,4395.0,4395.0,4265.0,3995.0,4300.0,4300.0,4300.0,4300.0,3395.0,4490.0,4490.0,4490.0,4490.0,4490.0,4490.0,4490.0,4490.0,4490.0,4490.0,4490.0,4490.0,4490.0,4490.0],\"y\":[1800.0,1800.0,1800.0,1800.0,1475.0,1475.0,1475.0,1460.0,1475.0,1475.0,1560.0,1560.0,1560.0,1560.0,1560.0,1560.0,1560.0,1560.0,1560.0,1560.0,1595.0,1595.0,1595.0,1595.0,1595.0,1595.0,1595.0,1515.0,1515.0,1515.0,1515.0,1515.0,1515.0,1515.0,1515.0,1515.0,1515.0,1515.0,1515.0,1515.0,1515.0,1475.0,1475.0,1475.0,1475.0,1475.0,1549.0,1549.0,1549.0,1549.0,1549.0,1549.0,1549.0,1549.0,1549.0,1549.0,1560.0,1560.0,1560.0,1560.0,1560.0,1560.0,1560.0,1530.0,1530.0,1530.0,1530.0,1530.0,1530.0,1530.0,1530.0,1530.0,1530.0,1530.0,1530.0,1530.0,1530.0,1640.0,1640.0,1640.0,1640.0,1640.0,1640.0,1640.0,1640.0,1640.0,1700.0,1700.0,1700.0,1700.0,1510.0,1500.0,1500.0,1500.0,1510.0,1510.0,1510.0,1510.0,1510.0,1510.0,1510.0,1510.0,1510.0,1690.0,1685.0,1690.0,1690.0,1685.0,1685.0,1690.0,1690.0,1690.0,1685.0,1510.0,1595.0,1595.0,1595.0,1595.0,1475.0,1485.0,1485.0,1485.0,1485.0,1485.0,1485.0,1485.0,1485.0,1485.0,1485.0,1485.0,1485.0,1485.0,1485.0],\"z\":[1475.0,1475.0,1475.0,1475.0,1490.0,1490.0,1490.0,1475.0,1490.0,1490.0,1600.0,1600.0,1600.0,1600.0,1600.0,1600.0,1600.0,1600.0,1600.0,1600.0,1690.0,1690.0,1690.0,1690.0,1690.0,1690.0,1690.0,1735.0,1735.0,1735.0,1735.0,1735.0,1735.0,1735.0,1735.0,1735.0,1735.0,1735.0,1735.0,1735.0,1735.0,1490.0,1490.0,1490.0,1490.0,1490.0,1520.0,1520.0,1520.0,1520.0,1520.0,1520.0,1520.0,1520.0,1520.0,1520.0,1600.0,1600.0,1600.0,1600.0,1600.0,1600.0,1600.0,1735.0,1735.0,1735.0,1735.0,1735.0,1735.0,1735.0,1735.0,1735.0,1735.0,1735.0,1735.0,1735.0,1735.0,1790.0,1790.0,1790.0,1790.0,1790.0,1790.0,1790.0,1790.0,1790.0,1775.0,1775.0,1775.0,1775.0,1745.0,1745.0,1745.0,1745.0,1745.0,1745.0,1745.0,1745.0,1745.0,1745.0,1745.0,1745.0,1745.0,1735.0,1695.0,1735.0,1735.0,1695.0,1695.0,1735.0,1735.0,1735.0,1695.0,1745.0,1785.0,1785.0,1785.0,1785.0,1490.0,1730.0,1730.0,1730.0,1730.0,1730.0,1730.0,1730.0,1730.0,1730.0,1730.0,1730.0,1730.0,1730.0,1730.0],\"type\":\"scatter3d\"},{\"hovertemplate\":\"Make=Datsun<br>Length=%{x}<br>Height=%{y}<br>Width=%{z}<extra></extra>\",\"legendgroup\":\"Datsun\",\"marker\":{\"color\":\"#00cc96\",\"symbol\":\"circle\"},\"mode\":\"markers\",\"name\":\"Datsun\",\"scene\":\"scene\",\"showlegend\":true,\"x\":[3788.0,3788.0,3788.0,3788.0,3788.0,3788.0,3788.0,3788.0,3788.0],\"y\":[1507.0,1507.0,1507.0,1507.0,1507.0,1507.0,1507.0,1507.0,1507.0],\"z\":[1636.0,1636.0,1636.0,1636.0,1636.0,1636.0,1636.0,1636.0,1636.0],\"type\":\"scatter3d\"},{\"hovertemplate\":\"Make=Hyundai<br>Length=%{x}<br>Height=%{y}<br>Width=%{z}<extra></extra>\",\"legendgroup\":\"Hyundai\",\"marker\":{\"color\":\"#ab63fa\",\"symbol\":\"circle\"},\"mode\":\"markers\",\"name\":\"Hyundai\",\"scene\":\"scene\",\"showlegend\":true,\"x\":[3610.0,3610.0,3610.0,3610.0,3610.0,3610.0,3610.0,3610.0,3995.0,3995.0,3995.0,3985.0,3985.0,3985.0,3985.0,3985.0,3995.0,3985.0,3985.0,3985.0,3985.0,3985.0,3765.0,3765.0,3765.0,3995.0,3995.0,3995.0,3995.0,3995.0,3995.0,3995.0,3995.0,3995.0,3995.0,3995.0,3995.0,3995.0,4440.0,4440.0,4440.0,4440.0,4440.0,4440.0,4440.0,4440.0,4440.0,4440.0,4440.0,4440.0,4440.0,3765.0,3765.0,3765.0,3765.0,3765.0,3765.0,4620.0,4620.0,4620.0,4620.0,4475.0,4475.0,4475.0,4475.0,4475.0,4475.0,4475.0,4475.0,3805.0,3805.0,3805.0,3805.0,3805.0,3805.0,3805.0,3805.0,3805.0,3805.0,3995.0,3995.0,3995.0,3995.0,3995.0,3995.0,3995.0,3995.0,3995.0,4270.0,4270.0,4270.0,4270.0,4270.0,4270.0,4270.0,4270.0,4270.0,4270.0,4270.0,4270.0,4270.0,4270.0,4270.0,4270.0,4270.0,4270.0],\"y\":[1560.0,1560.0,1560.0,1560.0,1560.0,1560.0,1560.0,1560.0,1520.0,1520.0,1505.0,1505.0,1505.0,1505.0,1505.0,1505.0,1505.0,1505.0,1505.0,1505.0,1505.0,1505.0,1520.0,1520.0,1520.0,1590.0,1590.0,1590.0,1590.0,1590.0,1590.0,1590.0,1590.0,1590.0,1555.0,1555.0,1555.0,1555.0,1445.0,1445.0,1445.0,1445.0,1445.0,1445.0,1445.0,1445.0,1445.0,1445.0,1445.0,1445.0,1445.0,1520.0,1520.0,1520.0,1520.0,1520.0,1520.0,1465.0,1465.0,1465.0,1465.0,1660.0,1660.0,1660.0,1660.0,1660.0,1660.0,1660.0,1660.0,1520.0,1520.0,1520.0,1520.0,1520.0,1520.0,1520.0,1520.0,1520.0,1520.0,1520.0,1520.0,1520.0,1520.0,1520.0,1520.0,1520.0,1520.0,1520.0,1630.0,1630.0,1630.0,1630.0,1630.0,1630.0,1630.0,1630.0,1630.0,1630.0,1630.0,1630.0,1630.0,1630.0,1630.0,1630.0,1630.0,1665.0],\"z\":[1645.0,1645.0,1645.0,1645.0,1645.0,1645.0,1645.0,1645.0,1660.0,1660.0,1710.0,1734.0,1734.0,1734.0,1734.0,1734.0,1734.0,1734.0,1734.0,1734.0,1734.0,1734.0,1660.0,1660.0,1660.0,1770.0,1770.0,1770.0,1770.0,1770.0,1770.0,1770.0,1770.0,1770.0,1760.0,1760.0,1760.0,1760.0,1729.0,1729.0,1729.0,1729.0,1729.0,1729.0,1729.0,1729.0,1729.0,1729.0,1729.0,1729.0,1729.0,1660.0,1660.0,1660.0,1660.0,1660.0,1660.0,1800.0,1800.0,1800.0,1800.0,1850.0,1850.0,1850.0,1850.0,1850.0,1850.0,1850.0,1850.0,1680.0,1680.0,1680.0,1680.0,1680.0,1680.0,1680.0,1680.0,1680.0,1680.0,1660.0,1660.0,1660.0,1660.0,1660.0,1660.0,1660.0,1660.0,1660.0,1780.0,1780.0,1780.0,1780.0,1780.0,1780.0,1780.0,1780.0,1780.0,1780.0,1780.0,1780.0,1780.0,1780.0,1780.0,1780.0,1780.0,1780.0],\"type\":\"scatter3d\"},{\"hovertemplate\":\"Make=Tata<br>Length=%{x}<br>Height=%{y}<br>Width=%{z}<extra></extra>\",\"legendgroup\":\"Tata\",\"marker\":{\"color\":\"#FFA15A\",\"symbol\":\"circle\"},\"mode\":\"markers\",\"name\":\"Tata\",\"scene\":\"scene\",\"showlegend\":true,\"x\":[3765.0,3746.0,3746.0,3746.0,3746.0,3746.0,3746.0,3746.0,3825.0,3825.0,3825.0,3825.0,3990.0,3990.0,3990.0,3990.0,3990.0,3990.0,3990.0,3990.0,3990.0,3990.0,3992.0,3992.0,3992.0,3992.0,3995.0,3995.0,3995.0,3995.0,3995.0,3995.0,3994.0,3994.0,3994.0,3994.0,3994.0,3994.0,3994.0,3994.0,3994.0,3994.0,3994.0,3994.0,3994.0,3994.0,3994.0,3994.0,3994.0,3994.0,3994.0,3994.0,3994.0,3994.0,3994.0,4788.0,4788.0,4788.0,4788.0,4655.0,4655.0,4598.0,4598.0,4598.0,4598.0,4598.0,4598.0,3793.0,3793.0,3793.0],\"y\":[1535.0,1535.0,1535.0,1535.0,1535.0,1535.0,1535.0,1535.0,1562.0,1562.0,1562.0,1562.0,1523.0,1523.0,1523.0,1523.0,1523.0,1523.0,1523.0,1523.0,1523.0,1523.0,1537.0,1537.0,1537.0,1537.0,1570.0,1570.0,1570.0,1570.0,1570.0,1570.0,1607.0,1607.0,1607.0,1607.0,1607.0,1607.0,1607.0,1607.0,1607.0,1607.0,1607.0,1607.0,1607.0,1607.0,1607.0,1607.0,1607.0,1607.0,1607.0,1607.0,1607.0,1607.0,1607.0,1791.0,1791.0,1791.0,1791.0,1922.0,1922.0,1706.0,1706.0,1706.0,1706.0,1706.0,1706.0,1587.0,1587.0,1587.0],\"z\":[1677.0,1647.0,1647.0,1647.0,1647.0,1647.0,1647.0,1647.0,1695.0,1695.0,1695.0,1695.0,1755.0,1755.0,1755.0,1755.0,1755.0,1755.0,1755.0,1755.0,1755.0,1755.0,1677.0,1677.0,1677.0,1677.0,1706.0,1706.0,1706.0,1706.0,1706.0,1706.0,1811.0,1811.0,1811.0,1811.0,1811.0,1811.0,1811.0,1811.0,1811.0,1811.0,1811.0,1811.0,1811.0,1811.0,1811.0,1811.0,1811.0,1811.0,1811.0,1811.0,1811.0,1811.0,1811.0,1903.0,1903.0,1903.0,1903.0,1965.0,1965.0,1894.0,1894.0,1894.0,1894.0,1894.0,1894.0,1665.0,1665.0,1665.0],\"type\":\"scatter3d\"},{\"hovertemplate\":\"Make=Toyota<br>Length=%{x}<br>Height=%{y}<br>Width=%{z}<extra></extra>\",\"legendgroup\":\"Toyota\",\"marker\":{\"color\":\"#19d3f3\",\"symbol\":\"circle\"},\"mode\":\"markers\",\"name\":\"Toyota\",\"scene\":\"scene\",\"showlegend\":true,\"x\":[3884.0,3884.0,3884.0,3884.0,3884.0,3884.0,3884.0,3884.0,3884.0,3884.0,3884.0,3884.0,3884.0,3884.0,4369.0,4369.0,4369.0,4369.0,4369.0,4369.0,4369.0,4369.0,4369.0,4369.0,3895.0,3895.0,3895.0,3895.0,3895.0,3895.0,3995.0,3995.0,3995.0,3995.0,3995.0,4840.0,4735.0,4735.0,4735.0,4735.0,4735.0,4735.0,4735.0,4735.0,4735.0,4735.0,4735.0,4735.0,4735.0,4735.0,4735.0,4735.0,4620.0,4620.0,4620.0,4620.0,4620.0,4620.0,4795.0,4795.0,4795.0,4795.0,4795.0,4795.0,4795.0,4950.0,4540.0,4885.0,4425.0,4425.0,4425.0,4425.0,4425.0,4425.0,4425.0,4425.0,4425.0,4425.0,4425.0,4425.0,4425.0,4425.0],\"y\":[1510.0,1510.0,1510.0,1510.0,1510.0,1510.0,1510.0,1510.0,1510.0,1510.0,1510.0,1510.0,1510.0,1510.0,1510.0,1510.0,1510.0,1510.0,1510.0,1510.0,1510.0,1510.0,1510.0,1510.0,1555.0,1555.0,1555.0,1555.0,1555.0,1555.0,1540.0,1540.0,1540.0,1540.0,1540.0,1880.0,1795.0,1795.0,1795.0,1795.0,1795.0,1795.0,1795.0,1795.0,1795.0,1795.0,1795.0,1795.0,1795.0,1795.0,1795.0,1795.0,1475.0,1475.0,1475.0,1475.0,1475.0,1475.0,1835.0,1835.0,1835.0,1835.0,1835.0,1835.0,1835.0,1910.0,1490.0,1455.0,1495.0,1495.0,1495.0,1495.0,1495.0,1495.0,1495.0,1495.0,1495.0,1495.0,1495.0,1495.0,1495.0,1495.0],\"z\":[1695.0,1695.0,1695.0,1695.0,1695.0,1695.0,1695.0,1695.0,1695.0,1695.0,1695.0,1695.0,1695.0,1695.0,1695.0,1695.0,1695.0,1695.0,1695.0,1695.0,1695.0,1695.0,1695.0,1695.0,1735.0,1735.0,1735.0,1735.0,1735.0,1735.0,1745.0,1745.0,1745.0,1745.0,1745.0,1885.0,1830.0,1830.0,1830.0,1830.0,1830.0,1830.0,1830.0,1830.0,1830.0,1830.0,1830.0,1830.0,1830.0,1830.0,1830.0,1830.0,1775.0,1775.0,1775.0,1775.0,1775.0,1775.0,1855.0,1855.0,1855.0,1855.0,1855.0,1855.0,1855.0,1980.0,1760.0,1840.0,1730.0,1730.0,1730.0,1730.0,1730.0,1730.0,1730.0,1730.0,1730.0,1730.0,1730.0,1730.0,1730.0,1730.0],\"type\":\"scatter3d\"},{\"hovertemplate\":\"Make=Nissan<br>Length=%{x}<br>Height=%{y}<br>Width=%{z}<extra></extra>\",\"legendgroup\":\"Nissan\",\"marker\":{\"color\":\"#FF6692\",\"symbol\":\"circle\"},\"mode\":\"markers\",\"name\":\"Nissan\",\"scene\":\"scene\",\"showlegend\":true,\"x\":[3801.0,3801.0,3801.0,4455.0,4455.0,4455.0,4455.0,4455.0,4455.0,4455.0,4331.0,4331.0,4331.0,4331.0,4331.0,4331.0,4710.0,3825.0,3825.0,3825.0,3825.0,4384.0,4384.0,4384.0,4384.0,4384.0,4384.0,4384.0,4384.0],\"y\":[1530.0,1530.0,1530.0,1515.0,1515.0,1515.0,1515.0,1515.0,1515.0,1515.0,1671.0,1671.0,1671.0,1671.0,1671.0,1671.0,1370.0,1530.0,1530.0,1525.0,1525.0,1651.0,1651.0,1651.0,1651.0,1651.0,1651.0,1651.0,1651.0],\"z\":[1665.0,1665.0,1665.0,1695.0,1695.0,1695.0,1695.0,1695.0,1695.0,1695.0,1822.0,1822.0,1822.0,1822.0,1822.0,1822.0,1895.0,1665.0,1665.0,1665.0,1665.0,1813.0,1813.0,1813.0,1813.0,1813.0,1813.0,1813.0,1813.0],\"type\":\"scatter3d\"},{\"hovertemplate\":\"Make=Volkswagen<br>Length=%{x}<br>Height=%{y}<br>Width=%{z}<extra></extra>\",\"legendgroup\":\"Volkswagen\",\"marker\":{\"color\":\"#B6E880\",\"symbol\":\"circle\"},\"mode\":\"markers\",\"name\":\"Volkswagen\",\"scene\":\"scene\",\"showlegend\":true,\"x\":[3971.0,3971.0,3971.0,3971.0,3971.0,3971.0,3971.0,3971.0,3995.0,3995.0,3995.0,4486.0,4390.0,4390.0,4390.0,4390.0,4390.0,4390.0,4390.0,4390.0,4390.0,4390.0,3971.0,3971.0,4767.0,4767.0,4767.0,4767.0],\"y\":[1469.0,1469.0,1469.0,1469.0,1469.0,1469.0,1469.0,1469.0,1483.0,1483.0,1483.0,1672.0,1467.0,1467.0,1467.0,1467.0,1467.0,1467.0,1467.0,1467.0,1467.0,1467.0,1469.0,1469.0,1456.0,1456.0,1456.0,1456.0],\"z\":[1682.0,1682.0,1682.0,1682.0,1682.0,1682.0,1682.0,1682.0,1682.0,1682.0,1682.0,1839.0,1699.0,1699.0,1699.0,1699.0,1699.0,1699.0,1699.0,1699.0,1699.0,1699.0,1682.0,1682.0,1832.0,1832.0,1832.0,1832.0],\"type\":\"scatter3d\"},{\"hovertemplate\":\"Make=Ford<br>Length=%{x}<br>Height=%{y}<br>Width=%{z}<extra></extra>\",\"legendgroup\":\"Ford\",\"marker\":{\"color\":\"#FF97FF\",\"symbol\":\"circle\"},\"mode\":\"markers\",\"name\":\"Ford\",\"scene\":\"scene\",\"showlegend\":true,\"x\":[3954.0,3954.0,3954.0,3954.0,3954.0,3954.0,3954.0,3954.0,3995.0,3995.0,3995.0,3995.0,3995.0,3995.0,3995.0,3995.0,3995.0,3995.0,3995.0,3995.0,3995.0,4784.0,3998.0,3998.0,3998.0,3998.0,3998.0,3998.0,3998.0,3998.0,3998.0,3998.0,3998.0,3998.0,4903.0,4903.0,4903.0,3941.0,3941.0,3941.0,3941.0,3941.0,3941.0],\"y\":[1570.0,1570.0,1570.0,1570.0,1570.0,1570.0,1570.0,1570.0,1525.0,1525.0,1525.0,1525.0,1525.0,1525.0,1525.0,1525.0,1525.0,1525.0,1525.0,1525.0,1525.0,1391.0,1647.0,1647.0,1647.0,1647.0,1647.0,1647.0,1647.0,1647.0,1647.0,1647.0,1647.0,1647.0,1837.0,1837.0,1837.0,1525.0,1525.0,1525.0,1525.0,1525.0,1525.0],\"z\":[1737.0,1737.0,1737.0,1737.0,1737.0,1737.0,1737.0,1737.0,1704.0,1704.0,1704.0,1704.0,1704.0,1705.0,1704.0,1704.0,1704.0,1704.0,1704.0,1704.0,1704.0,2080.0,1765.0,1765.0,1765.0,1765.0,1765.0,1765.0,1765.0,1765.0,1765.0,1765.0,1765.0,1765.0,1869.0,1869.0,1869.0,1704.0,1704.0,1704.0,1704.0,1704.0,1704.0],\"type\":\"scatter3d\"},{\"hovertemplate\":\"Make=Mahindra<br>Length=%{x}<br>Height=%{y}<br>Width=%{z}<extra></extra>\",\"legendgroup\":\"Mahindra\",\"marker\":{\"color\":\"#FECB52\",\"symbol\":\"circle\"},\"mode\":\"markers\",\"name\":\"Mahindra\",\"scene\":\"scene\",\"showlegend\":true,\"x\":[3991.0,4850.0,3700.0,3700.0,3700.0,3700.0,3700.0,3700.0,3700.0,3700.0,3700.0,3700.0,3700.0,3700.0,3700.0,3700.0,3700.0,3700.0,3995.0,3995.0,4400.0,4400.0,4400.0,4585.0,4585.0,4585.0,4585.0,4585.0,4585.0,4585.0,4585.0,4456.0,4456.0,4456.0,4456.0,4456.0,4456.0,4585.0,4585.0,4585.0,4585.0,4585.0,4585.0,4585.0,4585.0,4585.0,4585.0,4585.0,4585.0,4585.0,4585.0,4585.0,4585.0,4585.0,4585.0,4585.0,4585.0,4585.0,3995.0,3995.0,3995.0,3995.0,3995.0,3995.0,3995.0,4520.0,3985.0,3985.0,3985.0,3985.0],\"y\":[1540.0,1.845,1655.0,1655.0,1655.0,1655.0,1655.0,1655.0,1655.0,1655.0,1655.0,1655.0,1655.0,1655.0,1655.0,1655.0,1655.0,1655.0,1880.0,1617.0,1812.0,1812.0,1812.0,1774.0,1774.0,1774.0,1774.0,1774.0,1774.0,1774.0,1774.0,1995.0,1995.0,1995.0,1995.0,1995.0,1995.0,1785.0,1785.0,1785.0,1785.0,1785.0,1785.0,1785.0,1785.0,1785.0,1785.0,1785.0,1785.0,1785.0,1785.0,1785.0,1785.0,1785.0,1785.0,1785.0,1785.0,1785.0,1817.0,1817.0,1817.0,1839.0,1839.0,1839.0,1839.0,1895.0,1870.0,1870.0,1870.0,1870.0],\"z\":[1740.0,1960.0,1735.0,1735.0,1735.0,1735.0,1735.0,1735.0,1735.0,1735.0,1735.0,1735.0,1735.0,1735.0,1735.0,1735.0,1735.0,1735.0,1745.0,1821.0,1835.0,1835.0,1835.0,1866.0,1866.0,1866.0,1866.0,1866.0,1866.0,1866.0,1866.0,1820.0,1820.0,1820.0,1820.0,1820.0,1820.0,1890.0,1890.0,1890.0,1890.0,1890.0,1890.0,1890.0,1890.0,1890.0,1890.0,1890.0,1890.0,1890.0,1890.0,1890.0,1890.0,1890.0,1890.0,1890.0,1890.0,1890.0,1835.0,1835.0,1835.0,1835.0,1835.0,1835.0,1835.0,1850.0,1850.0,1850.0,1850.0,1850.0],\"type\":\"scatter3d\"},{\"hovertemplate\":\"Make=Fiat<br>Length=%{x}<br>Height=%{y}<br>Width=%{z}<extra></extra>\",\"legendgroup\":\"Fiat\",\"marker\":{\"color\":\"#636efa\",\"symbol\":\"circle\"},\"mode\":\"markers\",\"name\":\"Fiat\",\"scene\":\"scene\",\"showlegend\":true,\"x\":[3989.0,3989.0,3989.0,4596.0,4596.0,4596.0,3989.0,3989.0,3989.0],\"y\":[1542.0,1542.0,1542.0,1494.0,1494.0,1487.0,1525.0,1525.0,1525.0],\"z\":[1706.0,1706.0,1706.0,1730.0,1730.0,1730.0,1687.0,1687.0,1687.0],\"type\":\"scatter3d\"},{\"hovertemplate\":\"Make=Honda<br>Length=%{x}<br>Height=%{y}<br>Width=%{z}<extra></extra>\",\"legendgroup\":\"Honda\",\"marker\":{\"color\":\"#EF553B\",\"symbol\":\"circle\"},\"mode\":\"markers\",\"name\":\"Honda\",\"scene\":\"scene\",\"showlegend\":true,\"x\":[3955.0,3955.0,3955.0,3955.0,3955.0,3955.0,3955.0,3955.0,4592.0,3995.0,3995.0,3995.0,3995.0,3995.0,3995.0,3995.0,3995.0,3995.0,3995.0,3995.0,3995.0,3995.0,3995.0,3995.0,3995.0,3995.0,3995.0,3995.0,3995.0,4453.0,4453.0,4453.0,4456.0,4456.0,4453.0,4453.0,4456.0,4656.0,4656.0,4656.0,4656.0,4656.0,3999.0,3999.0,3999.0,3999.0,3999.0,3999.0,4933.0,4440.0,4440.0,4440.0,4440.0,4440.0,4440.0,4440.0,4440.0,4440.0,4440.0],\"y\":[1544.0,1544.0,1544.0,1544.0,1544.0,1544.0,1544.0,1544.0,1679.0,1501.0,1498.0,1498.0,1501.0,1501.0,1501.0,1501.0,1501.0,1501.0,1501.0,1501.0,1501.0,1501.0,1501.0,1501.0,1501.0,1501.0,1501.0,1501.0,1501.0,1666.0,1666.0,1666.0,1666.0,1666.0,1666.0,1666.0,1666.0,1433.0,1433.0,1433.0,1433.0,1433.0,1601.0,1601.0,1601.0,1601.0,1601.0,1601.0,1464.0,1495.0,1495.0,1495.0,1495.0,1495.0,1495.0,1495.0,1495.0,1495.0,1495.0],\"z\":[1694.0,1694.0,1694.0,1694.0,1694.0,1694.0,1694.0,1694.0,1855.0,1695.0,1695.0,1695.0,1695.0,1695.0,1695.0,1695.0,1695.0,1695.0,1695.0,1695.0,1695.0,1695.0,1695.0,1695.0,1695.0,1695.0,1695.0,1695.0,1695.0,1735.0,1735.0,1735.0,1735.0,1735.0,1735.0,1735.0,1735.0,1799.0,1799.0,1799.0,1799.0,1799.0,1734.0,1734.0,1734.0,1734.0,1734.0,1734.0,1849.0,1695.0,1695.0,1695.0,1695.0,1695.0,1695.0,1695.0,1695.0,1695.0,1695.0],\"type\":\"scatter3d\"},{\"hovertemplate\":\"Make=Jeep<br>Length=%{x}<br>Height=%{y}<br>Width=%{z}<extra></extra>\",\"legendgroup\":\"Jeep\",\"marker\":{\"color\":\"#00cc96\",\"symbol\":\"circle\"},\"mode\":\"markers\",\"name\":\"Jeep\",\"scene\":\"scene\",\"showlegend\":true,\"x\":[4398.0,4398.0,4828.0,4828.0,4846.0,4828.0,4395.0,4395.0,4395.0,4395.0,4395.0,4395.0,4395.0,4395.0,4395.0,4395.0,4395.0,4395.0,4395.0,4395.0,4395.0,4395.0,4395.0,4395.0,4395.0,4395.0,4395.0,4882.0],\"y\":[1657.0,1657.0,1802.0,1802.0,1749.0,1802.0,1640.0,1640.0,1640.0,1640.0,1640.0,1640.0,1640.0,1640.0,1640.0,1640.0,1640.0,1640.0,1640.0,1640.0,1640.0,1640.0,1640.0,1640.0,1640.0,1640.0,1640.0,1838.0],\"z\":[1818.0,1818.0,1943.0,1943.0,1954.0,1943.0,1818.0,1818.0,1818.0,1818.0,1818.0,1818.0,1818.0,1818.0,1818.0,1818.0,1818.0,1818.0,1818.0,1818.0,1818.0,1818.0,1818.0,1818.0,1818.0,1818.0,1818.0,1877.0],\"type\":\"scatter3d\"},{\"hovertemplate\":\"Make=Isuzu<br>Length=%{x}<br>Height=%{y}<br>Width=%{z}<extra></extra>\",\"legendgroup\":\"Isuzu\",\"marker\":{\"color\":\"#ab63fa\",\"symbol\":\"circle\"},\"mode\":\"markers\",\"name\":\"Isuzu\",\"scene\":\"scene\",\"showlegend\":true,\"x\":[4825.0,4825.0],\"y\":[1840.0,1840.0],\"z\":[1860.0,1860.0],\"type\":\"scatter3d\"},{\"hovertemplate\":\"Make=Skoda<br>Length=%{x}<br>Height=%{y}<br>Width=%{z}<extra></extra>\",\"legendgroup\":\"Skoda\",\"marker\":{\"color\":\"#FFA15A\",\"symbol\":\"circle\"},\"mode\":\"markers\",\"name\":\"Skoda\",\"scene\":\"scene\",\"showlegend\":true,\"x\":[4861.0,4861.0,4861.0,4861.0,4861.0,4413.0,4413.0,4413.0,4413.0,4861.0,4861.0,4861.0,4861.0,4861.0,4861.0,4861.0,4697.0,4413.0,4413.0,4413.0,4413.0,4413.0,4413.0,4413.0,4413.0,4413.0,4413.0,4413.0,4413.0,4413.0,4413.0,4670.0,4670.0,4670.0,4670.0,4670.0,4670.0,4670.0,4670.0,4670.0,4670.0,4670.0,4670.0],\"y\":[1483.0,1483.0,1483.0,1483.0,1483.0,1466.0,1466.0,1466.0,1466.0,1483.0,1483.0,1483.0,1483.0,1483.0,1483.0,1483.0,1665.0,1466.0,1466.0,1466.0,1466.0,1466.0,1466.0,1466.0,1466.0,1466.0,1466.0,1466.0,1466.0,1466.0,1466.0,1476.0,1476.0,1476.0,1476.0,1476.0,1476.0,1476.0,1476.0,1476.0,1476.0,1476.0,1476.0],\"z\":[1864.0,1864.0,1864.0,1864.0,1864.0,1699.0,1699.0,1699.0,1699.0,1864.0,1864.0,1864.0,1864.0,1864.0,1864.0,1864.0,1882.0,1699.0,1699.0,1699.0,1699.0,1699.0,1699.0,1699.0,1699.0,1699.0,1699.0,1699.0,1699.0,1699.0,1699.0,1814.0,1814.0,1814.0,1814.0,1814.0,1814.0,1814.0,1814.0,1814.0,1814.0,1814.0,1814.0],\"type\":\"scatter3d\"},{\"hovertemplate\":\"Make=Audi<br>Length=%{x}<br>Height=%{y}<br>Width=%{z}<extra></extra>\",\"legendgroup\":\"Audi\",\"marker\":{\"color\":\"#19d3f3\",\"symbol\":\"circle\"},\"mode\":\"markers\",\"name\":\"Audi\",\"scene\":\"scene\",\"showlegend\":true,\"x\":[4456.0,4456.0,4456.0,4456.0,4388.0,4388.0,4388.0,4388.0,4726.0,4726.0,4421.0,4933.0,4933.0,4718.0,5052.0,5302.0,4440.0,4388.0,4388.0,4663.0,4663.0,5052.0,5052.0,5052.0,5052.0,5052.0,5052.0,5012.0],\"y\":[1416.0,1416.0,1416.0,1416.0,1608.0,1608.0,1608.0,1608.0,1427.0,1427.0,1409.0,1455.0,1455.0,1384.0,1740.0,1485.0,1252.0,1608.0,1608.0,1659.0,1659.0,1740.0,1740.0,1740.0,1740.0,1740.0,1740.0,1419.0],\"z\":[1796.0,1796.0,1796.0,1796.0,1831.0,1831.0,1831.0,1831.0,1842.0,1842.0,1793.0,1874.0,1874.0,1843.0,1968.0,1945.0,2029.0,1831.0,1831.0,1898.0,1898.0,1968.0,1968.0,1968.0,1968.0,1968.0,1968.0,1911.0],\"type\":\"scatter3d\"},{\"hovertemplate\":\"Make=Mercedes-Benz<br>Length=%{x}<br>Height=%{y}<br>Width=%{z}<extra></extra>\",\"legendgroup\":\"Mercedes-Benz\",\"marker\":{\"color\":\"#FF6692\",\"symbol\":\"circle\"},\"mode\":\"markers\",\"name\":\"Mercedes-Benz\",\"scene\":\"scene\",\"showlegend\":true,\"x\":[4393.0,4393.0,4393.0,4393.0,4630.0,4630.0,4630.0,5120.0,5146.0,5146.0,5146.0,5120.0,5116.0,5246.0,5027.0,4763.0,4817.0,5453.0,5246.0,5027.0,5063.0,5063.0,5063.0,4879.0,5063.0,5063.0,5063.0,5063.0,4686.0,5370.0,5140.0,5140.0,4933.0,4546.0,4551.0,4544.0,4292.0,4292.0,4686.0,4686.0,4686.0,4756.0,4686.0,4686.0,4924.0,4924.0,4424.0,4424.0,4424.0,4445.0,4424.0,4445.0,4658.0,4658.0],\"y\":[1557.0,1557.0,1557.0,1557.0,1432.0,1432.0,1432.0,1850.0,1850.0,1850.0,1850.0,1850.0,1494.0,1494.0,1411.0,1938.0,1969.0,1498.0,1494.0,1417.0,1494.0,1494.0,1494.0,1474.0,1494.0,1494.0,1494.0,1494.0,1409.0,1880.0,1880.0,1901.0,1475.0,1288.0,1284.0,1259.0,1433.0,1433.0,1442.0,1442.0,1442.0,1426.0,1442.0,1442.0,1772.0,1772.0,1494.0,1494.0,1494.0,1479.0,1494.0,1479.0,1644.0,1644.0],\"z\":[1786.0,1786.0,1786.0,1786.0,1777.0,1777.0,1777.0,1934.0,1982.0,1982.0,1982.0,1934.0,1899.0,1899.0,1899.0,1855.0,1931.0,1899.0,1899.0,1899.0,1860.0,1860.0,1860.0,1854.0,1860.0,1860.0,1860.0,1860.0,1810.0,1928.0,1928.0,1928.0,1852.0,1939.0,2007.0,1939.0,1780.0,2022.0,1810.0,1810.0,1810.0,1839.0,1810.0,1810.0,2157.0,2157.0,1804.0,1804.0,1804.0,1804.0,1804.0,1804.0,1890.0,1890.0],\"type\":\"scatter3d\"},{\"hovertemplate\":\"Make=Volvo<br>Length=%{x}<br>Height=%{y}<br>Width=%{z}<extra></extra>\",\"legendgroup\":\"Volvo\",\"marker\":{\"color\":\"#B6E880\",\"symbol\":\"circle\"},\"mode\":\"markers\",\"name\":\"Volvo\",\"scene\":\"scene\",\"showlegend\":true,\"x\":[4425.0,4369.0,4369.0,4635.0,4635.0,4637.0,4688.0,4950.0,4950.0,4950.0,4950.0,4950.0,4370.0,4370.0,4950.0],\"y\":[1652.0,1420.0,1420.0,1484.0,1484.0,1539.0,1658.0,1776.0,1776.0,1776.0,1776.0,1776.0,1458.0,1470.0,1543.0],\"z\":[1863.0,2041.0,2041.0,2097.0,1865.0,2097.0,1902.0,2140.0,2140.0,2140.0,2140.0,2140.0,1783.0,1857.0,2052.0],\"type\":\"scatter3d\"},{\"hovertemplate\":\"Make=Mini<br>Length=%{x}<br>Height=%{y}<br>Width=%{z}<extra></extra>\",\"legendgroup\":\"Mini\",\"marker\":{\"color\":\"#FF97FF\",\"symbol\":\"circle\"},\"mode\":\"markers\",\"name\":\"Mini\",\"scene\":\"scene\",\"showlegend\":true,\"x\":[3874.0,4299.0,4299.0,4299.0,4299.0],\"y\":[1414.0,1557.0,1557.0,1557.0,1557.0],\"z\":[1727.0,1822.0,1822.0,1822.0,1822.0],\"type\":\"scatter3d\"},{\"hovertemplate\":\"Make=Jaguar<br>Length=%{x}<br>Height=%{y}<br>Width=%{z}<extra></extra>\",\"legendgroup\":\"Jaguar\",\"marker\":{\"color\":\"#FECB52\",\"symbol\":\"circle\"},\"mode\":\"markers\",\"name\":\"Jaguar\",\"scene\":\"scene\",\"showlegend\":true,\"x\":[4691.0,4691.0,4691.0,4691.0,4961.0,5252.0,5252.0,5067.0,5067.0,5252.0,5252.0,5255.0,4731.0,4731.0,4470.0,4475.0,4475.0,4482.0,4482.0,4482.0,4482.0],\"y\":[1416.0,1416.0,1416.0,1416.0,1460.0,1457.0,1457.0,1457.0,1457.0,1457.0,1457.0,1460.0,1651.0,1651.0,1308.0,1311.0,1311.0,1311.0,1308.0,1308.0,1311.0],\"z\":[1850.0,1850.0,1850.0,1850.0,2091.0,1899.0,1899.0,2091.0,2091.0,1899.0,1899.0,1899.0,2175.0,2175.0,2042.0,2042.0,2042.0,1923.0,1923.0,1923.0,1923.0],\"type\":\"scatter3d\"},{\"hovertemplate\":\"Make=Bmw<br>Length=%{x}<br>Height=%{y}<br>Width=%{z}<extra></extra>\",\"legendgroup\":\"Bmw\",\"marker\":{\"color\":\"#636efa\",\"symbol\":\"circle\"},\"mode\":\"markers\",\"name\":\"Bmw\",\"scene\":\"scene\",\"showlegend\":true,\"x\":[4657.0,4657.0,4657.0,4461.0,5120.0,5120.0,5120.0,5120.0,5219.0,5219.0,4439.0,4439.0,4439.0,4477.0,4439.0,4633.0,4633.0,4633.0,4752.0,4752.0,4752.0,4324.0,4324.0,5151.0,5151.0,4671.0,4907.0,4907.0,4907.0,5219.0,5219.0,5091.0,4956.0],\"y\":[1678.0,1678.0,1678.0,1410.0,1479.0,1479.0,1479.0,1479.0,1481.0,1481.0,1612.0,1612.0,1612.0,1545.0,1612.0,1429.0,1429.0,1429.0,1621.0,1621.0,1621.0,1304.0,1304.0,1805.0,1805.0,1383.0,1464.0,1464.0,1464.0,1481.0,1481.0,1538.0,1473.0],\"z\":[1881.0,1881.0,1881.0,1854.0,2169.0,2169.0,2169.0,2169.0,2142.0,2142.0,2060.0,2058.0,2058.0,2058.0,1821.0,1811.0,1811.0,1811.0,1918.0,1918.0,1918.0,2024.0,1459.0,2000.0,2000.0,1870.0,1860.0,1860.0,1860.0,2142.0,2142.0,1902.0,1903.0],\"type\":\"scatter3d\"},{\"hovertemplate\":\"Make=Land Rover<br>Length=%{x}<br>Height=%{y}<br>Width=%{z}<extra></extra>\",\"legendgroup\":\"Land Rover\",\"marker\":{\"color\":\"#EF553B\",\"symbol\":\"circle\"},\"mode\":\"markers\",\"name\":\"Land Rover\",\"scene\":\"scene\",\"showlegend\":true,\"x\":[4600.0,4600.0,4988.0,4988.0,4988.0,4988.0,4988.0,4988.0,4988.0,4988.0],\"y\":[1727.0,1727.0,1846.0,1846.0,1846.0,1846.0,1846.0,1846.0,1846.0,1846.0],\"z\":[2069.0,2069.0,2200.0,2200.0,2200.0,2200.0,2200.0,2200.0,2200.0,2200.0],\"type\":\"scatter3d\"},{\"hovertemplate\":\"Make=Porsche<br>Length=%{x}<br>Height=%{y}<br>Width=%{z}<extra></extra>\",\"legendgroup\":\"Porsche\",\"marker\":{\"color\":\"#00cc96\",\"symbol\":\"circle\"},\"mode\":\"markers\",\"name\":\"Porsche\",\"scene\":\"scene\",\"showlegend\":true,\"x\":[4379.0,4379.0,5049.0,5199.0,5049.0,4918.0,4926.0,4918.0,4519.0,4519.0,4696.0,4696.0],\"y\":[1281.0,1281.0,1427.0,1432.0,1432.0,1696.0,1673.0,1705.0,1300.0,1299.0,1624.0,1624.0],\"z\":[1801.0,1801.0,1937.0,1937.0,1937.0,1983.0,1983.0,1983.0,1852.0,1852.0,1923.0,1923.0],\"type\":\"scatter3d\"},{\"hovertemplate\":\"Make=Lexus<br>Length=%{x}<br>Height=%{y}<br>Width=%{z}<extra></extra>\",\"legendgroup\":\"Lexus\",\"marker\":{\"color\":\"#ab63fa\",\"symbol\":\"circle\"},\"mode\":\"markers\",\"name\":\"Lexus\",\"scene\":\"scene\",\"showlegend\":true,\"x\":[5000.0,4770.0,4.64,4640.0,5235.0,5235.0,5235.0],\"y\":[1700.0,1345.0,1645.0,1645.0,1450.0,1450.0,1450.0],\"z\":[1895.0,1920.0,1.845,1845.0,1900.0,1900.0,1900.0],\"type\":\"scatter3d\"},{\"hovertemplate\":\"Make=Maserati<br>Length=%{x}<br>Height=%{y}<br>Width=%{z}<extra></extra>\",\"legendgroup\":\"Maserati\",\"marker\":{\"color\":\"#FFA15A\",\"symbol\":\"circle\"},\"mode\":\"markers\",\"name\":\"Maserati\",\"scene\":\"scene\",\"showlegend\":true,\"x\":[5003.0,5003.0,5003.0,4881.0,5262.0,4881.0],\"y\":[1679.0,1679.0,1679.0,1353.0,1481.0,1353.0],\"z\":[2158.0,2158.0,2158.0,1915.0,1948.0,2056.0],\"type\":\"scatter3d\"},{\"hovertemplate\":\"Make=Lamborghini<br>Length=%{x}<br>Height=%{y}<br>Width=%{z}<extra></extra>\",\"legendgroup\":\"Lamborghini\",\"marker\":{\"color\":\"#19d3f3\",\"symbol\":\"circle\"},\"mode\":\"markers\",\"name\":\"Lamborghini\",\"scene\":\"scene\",\"showlegend\":true,\"x\":[5112.0,4459.0,4459.0,4459.0,4459.0,4459.0,4459.0,4459.0,4520.0,4780.0,4780.0,4797.0],\"y\":[1638.0,1165.0,1165.0,1165.0,1165.0,1165.0,1165.0,1165.0,1165.0,1136.0,1136.0,1136.0],\"z\":[2181.0,1924.0,1924.0,1924.0,1924.0,1924.0,1924.0,1924.0,1933.0,2030.0,2030.0,2030.0],\"type\":\"scatter3d\"},{\"hovertemplate\":\"Make=Bentley<br>Length=%{x}<br>Height=%{y}<br>Width=%{z}<extra></extra>\",\"legendgroup\":\"Bentley\",\"marker\":{\"color\":\"#FF6692\",\"symbol\":\"circle\"},\"mode\":\"markers\",\"name\":\"Bentley\",\"scene\":\"scene\",\"showlegend\":true,\"x\":[4807.0,5141.0,5140.0,5575.0,5299.0,5299.0],\"y\":[1401.0,1742.0,1742.0,1521.0,1488.0,1488.0],\"z\":[2226.0,1998.0,1998.0,2208.0,2207.0,2207.0],\"type\":\"scatter3d\"},{\"hovertemplate\":\"Make=Ferrari<br>Length=%{x}<br>Height=%{y}<br>Width=%{z}<extra></extra>\",\"legendgroup\":\"Ferrari\",\"marker\":{\"color\":\"#B6E880\",\"symbol\":\"circle\"},\"mode\":\"markers\",\"name\":\"Ferrari\",\"scene\":\"scene\",\"showlegend\":true,\"x\":[4569.0,4571.0,4568.0,4568.0,4922.0,4922.0,4657.0,4568.0],\"y\":[1320.0,1203.0,1213.0,1213.0,1383.0,1383.0,1276.0,1211.0],\"z\":[1910.0,1951.0,1952.0,1952.0,1980.0,1980.0,1971.0,1952.0],\"type\":\"scatter3d\"},{\"hovertemplate\":\"Make=Aston Martin<br>Length=%{x}<br>Height=%{y}<br>Width=%{z}<extra></extra>\",\"legendgroup\":\"Aston Martin\",\"marker\":{\"color\":\"#FF97FF\",\"symbol\":\"circle\"},\"mode\":\"markers\",\"name\":\"Aston Martin\",\"scene\":\"scene\",\"showlegend\":true,\"x\":[4385.0,4465.0,5019.0],\"y\":[1250.0,1273.0,1360.0],\"z\":[1865.0,2153.0,1929.0],\"type\":\"scatter3d\"},{\"hovertemplate\":\"Make=Rolls-Royce<br>Length=%{x}<br>Height=%{y}<br>Width=%{z}<extra></extra>\",\"legendgroup\":\"Rolls-Royce\",\"marker\":{\"color\":\"#FECB52\",\"symbol\":\"circle\"},\"mode\":\"markers\",\"name\":\"Rolls-Royce\",\"scene\":\"scene\",\"showlegend\":true,\"x\":[5399.0,5569.0,5612.0,5285.0,5842.0,5842.0,6092.0],\"y\":[1550.0,1550.0,1598.0,1502.0,1638.0,1638.0,1640.0],\"z\":[1948.0,1948.0,1987.0,1947.0,1990.0,1990.0,1990.0],\"type\":\"scatter3d\"},{\"hovertemplate\":\"Make=Land Rover Rover<br>Length=%{x}<br>Height=%{y}<br>Width=%{z}<extra></extra>\",\"legendgroup\":\"Land Rover Rover\",\"marker\":{\"color\":\"#636efa\",\"symbol\":\"circle\"},\"mode\":\"markers\",\"name\":\"Land Rover Rover\",\"scene\":\"scene\",\"showlegend\":true,\"x\":[4797.0,4879.0,4879.0,4879.0,4879.0,4879.0,4879.0,4879.0,4879.0,4999.0,4999.0,5199.0,4999.0,5199.0],\"y\":[1665.0,1803.0,1803.0,1803.0,1803.0,1803.0,1803.0,1803.0,1803.0,1877.0,1827.0,1840.0,1835.0,1840.0],\"z\":[2145.0,2220.0,2220.0,2220.0,2220.0,2220.0,2220.0,2220.0,2220.0,2034.0,2220.0,2220.0,2220.0,2220.0],\"type\":\"scatter3d\"},{\"hovertemplate\":\"Make=Go+<br>Length=%{x}<br>Height=%{y}<br>Width=%{z}<extra></extra>\",\"legendgroup\":\"Go+\",\"marker\":{\"color\":\"#EF553B\",\"symbol\":\"circle\"},\"mode\":\"markers\",\"name\":\"Go+\",\"scene\":\"scene\",\"showlegend\":true,\"x\":[3995.0,3995.0,3995.0,3995.0,3995.0,3995.0,3995.0,3995.0,3995.0],\"y\":[1507.0,1507.0,1507.0,1507.0,1507.0,1507.0,1507.0,1507.0,1507.0],\"z\":[1635.0,1635.0,1635.0,1635.0,1635.0,1635.0,1635.0,1635.0,1635.0],\"type\":\"scatter3d\"},{\"hovertemplate\":\"Make=Kia<br>Length=%{x}<br>Height=%{y}<br>Width=%{z}<extra></extra>\",\"legendgroup\":\"Kia\",\"marker\":{\"color\":\"#00cc96\",\"symbol\":\"circle\"},\"mode\":\"markers\",\"name\":\"Kia\",\"scene\":\"scene\",\"showlegend\":true,\"x\":[4315.0,4315.0,4315.0,4315.0,4315.0],\"y\":[1645.0,1645.0,1645.0,1645.0,1645.0],\"z\":[1800.0,1800.0,1800.0,1800.0,1800.0],\"type\":\"scatter3d\"},{\"hovertemplate\":\"Make=Mitsubishi<br>Length=%{x}<br>Height=%{y}<br>Width=%{z}<extra></extra>\",\"legendgroup\":\"Mitsubishi\",\"marker\":{\"color\":\"#ab63fa\",\"symbol\":\"circle\"},\"mode\":\"markers\",\"name\":\"Mitsubishi\",\"scene\":\"scene\",\"showlegend\":true,\"x\":[4695.0,4695.0,4695.0,4695.0,4695.0,4695.0,4900.0],\"y\":[1710.0,1840.0,1840.0,1840.0,1840.0,1840.0,1900.0],\"z\":[1810.0,1815.0,1815.0,1815.0,1815.0,1815.0,1875.0],\"type\":\"scatter3d\"},{\"hovertemplate\":\"Make=Maruti Suzuki R<br>Length=%{x}<br>Height=%{y}<br>Width=%{z}<extra></extra>\",\"legendgroup\":\"Maruti Suzuki R\",\"marker\":{\"color\":\"#FFA15A\",\"symbol\":\"circle\"},\"mode\":\"markers\",\"name\":\"Maruti Suzuki R\",\"scene\":\"scene\",\"showlegend\":true,\"x\":[3655.0,3655.0],\"y\":[1675.0,1675.0],\"z\":[1620.0,1620.0],\"type\":\"scatter3d\"}],                        {\"template\":{\"data\":{\"histogram2dcontour\":[{\"type\":\"histogram2dcontour\",\"colorbar\":{\"outlinewidth\":0,\"ticks\":\"\"},\"colorscale\":[[0.0,\"#0d0887\"],[0.1111111111111111,\"#46039f\"],[0.2222222222222222,\"#7201a8\"],[0.3333333333333333,\"#9c179e\"],[0.4444444444444444,\"#bd3786\"],[0.5555555555555556,\"#d8576b\"],[0.6666666666666666,\"#ed7953\"],[0.7777777777777778,\"#fb9f3a\"],[0.8888888888888888,\"#fdca26\"],[1.0,\"#f0f921\"]]}],\"choropleth\":[{\"type\":\"choropleth\",\"colorbar\":{\"outlinewidth\":0,\"ticks\":\"\"}}],\"histogram2d\":[{\"type\":\"histogram2d\",\"colorbar\":{\"outlinewidth\":0,\"ticks\":\"\"},\"colorscale\":[[0.0,\"#0d0887\"],[0.1111111111111111,\"#46039f\"],[0.2222222222222222,\"#7201a8\"],[0.3333333333333333,\"#9c179e\"],[0.4444444444444444,\"#bd3786\"],[0.5555555555555556,\"#d8576b\"],[0.6666666666666666,\"#ed7953\"],[0.7777777777777778,\"#fb9f3a\"],[0.8888888888888888,\"#fdca26\"],[1.0,\"#f0f921\"]]}],\"heatmap\":[{\"type\":\"heatmap\",\"colorbar\":{\"outlinewidth\":0,\"ticks\":\"\"},\"colorscale\":[[0.0,\"#0d0887\"],[0.1111111111111111,\"#46039f\"],[0.2222222222222222,\"#7201a8\"],[0.3333333333333333,\"#9c179e\"],[0.4444444444444444,\"#bd3786\"],[0.5555555555555556,\"#d8576b\"],[0.6666666666666666,\"#ed7953\"],[0.7777777777777778,\"#fb9f3a\"],[0.8888888888888888,\"#fdca26\"],[1.0,\"#f0f921\"]]}],\"heatmapgl\":[{\"type\":\"heatmapgl\",\"colorbar\":{\"outlinewidth\":0,\"ticks\":\"\"},\"colorscale\":[[0.0,\"#0d0887\"],[0.1111111111111111,\"#46039f\"],[0.2222222222222222,\"#7201a8\"],[0.3333333333333333,\"#9c179e\"],[0.4444444444444444,\"#bd3786\"],[0.5555555555555556,\"#d8576b\"],[0.6666666666666666,\"#ed7953\"],[0.7777777777777778,\"#fb9f3a\"],[0.8888888888888888,\"#fdca26\"],[1.0,\"#f0f921\"]]}],\"contourcarpet\":[{\"type\":\"contourcarpet\",\"colorbar\":{\"outlinewidth\":0,\"ticks\":\"\"}}],\"contour\":[{\"type\":\"contour\",\"colorbar\":{\"outlinewidth\":0,\"ticks\":\"\"},\"colorscale\":[[0.0,\"#0d0887\"],[0.1111111111111111,\"#46039f\"],[0.2222222222222222,\"#7201a8\"],[0.3333333333333333,\"#9c179e\"],[0.4444444444444444,\"#bd3786\"],[0.5555555555555556,\"#d8576b\"],[0.6666666666666666,\"#ed7953\"],[0.7777777777777778,\"#fb9f3a\"],[0.8888888888888888,\"#fdca26\"],[1.0,\"#f0f921\"]]}],\"surface\":[{\"type\":\"surface\",\"colorbar\":{\"outlinewidth\":0,\"ticks\":\"\"},\"colorscale\":[[0.0,\"#0d0887\"],[0.1111111111111111,\"#46039f\"],[0.2222222222222222,\"#7201a8\"],[0.3333333333333333,\"#9c179e\"],[0.4444444444444444,\"#bd3786\"],[0.5555555555555556,\"#d8576b\"],[0.6666666666666666,\"#ed7953\"],[0.7777777777777778,\"#fb9f3a\"],[0.8888888888888888,\"#fdca26\"],[1.0,\"#f0f921\"]]}],\"mesh3d\":[{\"type\":\"mesh3d\",\"colorbar\":{\"outlinewidth\":0,\"ticks\":\"\"}}],\"scatter\":[{\"fillpattern\":{\"fillmode\":\"overlay\",\"size\":10,\"solidity\":0.2},\"type\":\"scatter\"}],\"parcoords\":[{\"type\":\"parcoords\",\"line\":{\"colorbar\":{\"outlinewidth\":0,\"ticks\":\"\"}}}],\"scatterpolargl\":[{\"type\":\"scatterpolargl\",\"marker\":{\"colorbar\":{\"outlinewidth\":0,\"ticks\":\"\"}}}],\"bar\":[{\"error_x\":{\"color\":\"#2a3f5f\"},\"error_y\":{\"color\":\"#2a3f5f\"},\"marker\":{\"line\":{\"color\":\"#E5ECF6\",\"width\":0.5},\"pattern\":{\"fillmode\":\"overlay\",\"size\":10,\"solidity\":0.2}},\"type\":\"bar\"}],\"scattergeo\":[{\"type\":\"scattergeo\",\"marker\":{\"colorbar\":{\"outlinewidth\":0,\"ticks\":\"\"}}}],\"scatterpolar\":[{\"type\":\"scatterpolar\",\"marker\":{\"colorbar\":{\"outlinewidth\":0,\"ticks\":\"\"}}}],\"histogram\":[{\"marker\":{\"pattern\":{\"fillmode\":\"overlay\",\"size\":10,\"solidity\":0.2}},\"type\":\"histogram\"}],\"scattergl\":[{\"type\":\"scattergl\",\"marker\":{\"colorbar\":{\"outlinewidth\":0,\"ticks\":\"\"}}}],\"scatter3d\":[{\"type\":\"scatter3d\",\"line\":{\"colorbar\":{\"outlinewidth\":0,\"ticks\":\"\"}},\"marker\":{\"colorbar\":{\"outlinewidth\":0,\"ticks\":\"\"}}}],\"scattermapbox\":[{\"type\":\"scattermapbox\",\"marker\":{\"colorbar\":{\"outlinewidth\":0,\"ticks\":\"\"}}}],\"scatterternary\":[{\"type\":\"scatterternary\",\"marker\":{\"colorbar\":{\"outlinewidth\":0,\"ticks\":\"\"}}}],\"scattercarpet\":[{\"type\":\"scattercarpet\",\"marker\":{\"colorbar\":{\"outlinewidth\":0,\"ticks\":\"\"}}}],\"carpet\":[{\"aaxis\":{\"endlinecolor\":\"#2a3f5f\",\"gridcolor\":\"white\",\"linecolor\":\"white\",\"minorgridcolor\":\"white\",\"startlinecolor\":\"#2a3f5f\"},\"baxis\":{\"endlinecolor\":\"#2a3f5f\",\"gridcolor\":\"white\",\"linecolor\":\"white\",\"minorgridcolor\":\"white\",\"startlinecolor\":\"#2a3f5f\"},\"type\":\"carpet\"}],\"table\":[{\"cells\":{\"fill\":{\"color\":\"#EBF0F8\"},\"line\":{\"color\":\"white\"}},\"header\":{\"fill\":{\"color\":\"#C8D4E3\"},\"line\":{\"color\":\"white\"}},\"type\":\"table\"}],\"barpolar\":[{\"marker\":{\"line\":{\"color\":\"#E5ECF6\",\"width\":0.5},\"pattern\":{\"fillmode\":\"overlay\",\"size\":10,\"solidity\":0.2}},\"type\":\"barpolar\"}],\"pie\":[{\"automargin\":true,\"type\":\"pie\"}]},\"layout\":{\"autotypenumbers\":\"strict\",\"colorway\":[\"#636efa\",\"#EF553B\",\"#00cc96\",\"#ab63fa\",\"#FFA15A\",\"#19d3f3\",\"#FF6692\",\"#B6E880\",\"#FF97FF\",\"#FECB52\"],\"font\":{\"color\":\"#2a3f5f\"},\"hovermode\":\"closest\",\"hoverlabel\":{\"align\":\"left\"},\"paper_bgcolor\":\"white\",\"plot_bgcolor\":\"#E5ECF6\",\"polar\":{\"bgcolor\":\"#E5ECF6\",\"angularaxis\":{\"gridcolor\":\"white\",\"linecolor\":\"white\",\"ticks\":\"\"},\"radialaxis\":{\"gridcolor\":\"white\",\"linecolor\":\"white\",\"ticks\":\"\"}},\"ternary\":{\"bgcolor\":\"#E5ECF6\",\"aaxis\":{\"gridcolor\":\"white\",\"linecolor\":\"white\",\"ticks\":\"\"},\"baxis\":{\"gridcolor\":\"white\",\"linecolor\":\"white\",\"ticks\":\"\"},\"caxis\":{\"gridcolor\":\"white\",\"linecolor\":\"white\",\"ticks\":\"\"}},\"coloraxis\":{\"colorbar\":{\"outlinewidth\":0,\"ticks\":\"\"}},\"colorscale\":{\"sequential\":[[0.0,\"#0d0887\"],[0.1111111111111111,\"#46039f\"],[0.2222222222222222,\"#7201a8\"],[0.3333333333333333,\"#9c179e\"],[0.4444444444444444,\"#bd3786\"],[0.5555555555555556,\"#d8576b\"],[0.6666666666666666,\"#ed7953\"],[0.7777777777777778,\"#fb9f3a\"],[0.8888888888888888,\"#fdca26\"],[1.0,\"#f0f921\"]],\"sequentialminus\":[[0.0,\"#0d0887\"],[0.1111111111111111,\"#46039f\"],[0.2222222222222222,\"#7201a8\"],[0.3333333333333333,\"#9c179e\"],[0.4444444444444444,\"#bd3786\"],[0.5555555555555556,\"#d8576b\"],[0.6666666666666666,\"#ed7953\"],[0.7777777777777778,\"#fb9f3a\"],[0.8888888888888888,\"#fdca26\"],[1.0,\"#f0f921\"]],\"diverging\":[[0,\"#8e0152\"],[0.1,\"#c51b7d\"],[0.2,\"#de77ae\"],[0.3,\"#f1b6da\"],[0.4,\"#fde0ef\"],[0.5,\"#f7f7f7\"],[0.6,\"#e6f5d0\"],[0.7,\"#b8e186\"],[0.8,\"#7fbc41\"],[0.9,\"#4d9221\"],[1,\"#276419\"]]},\"xaxis\":{\"gridcolor\":\"white\",\"linecolor\":\"white\",\"ticks\":\"\",\"title\":{\"standoff\":15},\"zerolinecolor\":\"white\",\"automargin\":true,\"zerolinewidth\":2},\"yaxis\":{\"gridcolor\":\"white\",\"linecolor\":\"white\",\"ticks\":\"\",\"title\":{\"standoff\":15},\"zerolinecolor\":\"white\",\"automargin\":true,\"zerolinewidth\":2},\"scene\":{\"xaxis\":{\"backgroundcolor\":\"#E5ECF6\",\"gridcolor\":\"white\",\"linecolor\":\"white\",\"showbackground\":true,\"ticks\":\"\",\"zerolinecolor\":\"white\",\"gridwidth\":2},\"yaxis\":{\"backgroundcolor\":\"#E5ECF6\",\"gridcolor\":\"white\",\"linecolor\":\"white\",\"showbackground\":true,\"ticks\":\"\",\"zerolinecolor\":\"white\",\"gridwidth\":2},\"zaxis\":{\"backgroundcolor\":\"#E5ECF6\",\"gridcolor\":\"white\",\"linecolor\":\"white\",\"showbackground\":true,\"ticks\":\"\",\"zerolinecolor\":\"white\",\"gridwidth\":2}},\"shapedefaults\":{\"line\":{\"color\":\"#2a3f5f\"}},\"annotationdefaults\":{\"arrowcolor\":\"#2a3f5f\",\"arrowhead\":0,\"arrowwidth\":1},\"geo\":{\"bgcolor\":\"white\",\"landcolor\":\"#E5ECF6\",\"subunitcolor\":\"white\",\"showland\":true,\"showlakes\":true,\"lakecolor\":\"white\"},\"title\":{\"x\":0.05},\"mapbox\":{\"style\":\"light\"}}},\"scene\":{\"domain\":{\"x\":[0.0,1.0],\"y\":[0.0,1.0]},\"xaxis\":{\"title\":{\"text\":\"Length\"},\"range\":[3000,6000]},\"yaxis\":{\"title\":{\"text\":\"Height\"},\"range\":[1000,2000]},\"zaxis\":{\"title\":{\"text\":\"Width\"},\"range\":[1200,2000]}},\"legend\":{\"title\":{\"text\":\"Make\"},\"tracegroupgap\":0},\"margin\":{\"t\":60},\"height\":750,\"width\":800,\"showlegend\":true},                        {\"responsive\": true}                    ).then(function(){\n",
       "                            \n",
       "var gd = document.getElementById('f5884fc7-0e91-4d66-9ba9-67e4c2e6b1c9');\n",
       "var x = new MutationObserver(function (mutations, observer) {{\n",
       "        var display = window.getComputedStyle(gd).display;\n",
       "        if (!display || display === 'none') {{\n",
       "            console.log([gd, 'removed!']);\n",
       "            Plotly.purge(gd);\n",
       "            observer.disconnect();\n",
       "        }}\n",
       "}});\n",
       "\n",
       "// Listen for the removal of the full notebook cells\n",
       "var notebookContainer = gd.closest('#notebook-container');\n",
       "if (notebookContainer) {{\n",
       "    x.observe(notebookContainer, {childList: true});\n",
       "}}\n",
       "\n",
       "// Listen for the clearing of the current output cell\n",
       "var outputEl = gd.closest('.output');\n",
       "if (outputEl) {{\n",
       "    x.observe(outputEl, {childList: true});\n",
       "}}\n",
       "\n",
       "                        })                };                });            </script>        </div>"
      ]
     },
     "metadata": {},
     "output_type": "display_data"
    }
   ],
   "source": [
    "fig= px.scatter_3d(df, x='Length', z='Width', y='Height',color='Make',width=800,height=750)\n",
    "fig.update_layout(scene = dict(\n",
    "        xaxis = dict(range=[3000,6000],),\n",
    "                     yaxis = dict(range=[1000,2000],),\n",
    "                     zaxis = dict(range=[1200,2000],),),showlegend=True)\n",
    "fig.show()"
   ]
  },
  {
   "cell_type": "code",
   "execution_count": 48,
   "id": "8f35224d",
   "metadata": {},
   "outputs": [
    {
     "data": {
      "image/png": "[encoded data removed]",
      "text/plain": [
       "<Figure size 1008x576 with 2 Axes>"
      ]
     },
     "metadata": {
      "needs_background": "light"
     },
     "output_type": "display_data"
    }
   ],
   "source": [
    "plt.figure(figsize=(14,8))\n",
    "sns.heatmap(df.corr(), annot=True, fmt='.2%', cmap= \"PiYG\")\n",
    "plt.title('Correlation between differet variable',fontsize=20)\n",
    "plt.xticks(fontsize=18, rotation=300)\n",
    "plt.yticks(fontsize=18)\n",
    "plt.show()"
   ]
  },
  {
   "cell_type": "code",
   "execution_count": null,
   "id": "d7e4016e",
   "metadata": {},
   "outputs": [],
   "source": []
  }
 ],
 "metadata": {
  "kernelspec": {
   "display_name": "Python 3 (ipykernel)",
   "language": "python",
   "name": "python3"
  },
  "language_info": {
   "codemirror_mode": {
    "name": "ipython",
    "version": 3
   },
   "file_extension": ".py",
   "mimetype": "text/x-python",
   "name": "python",
   "nbconvert_exporter": "python",
   "pygments_lexer": "ipython3",
   "version": "3.9.7"
  }
 },
 "nbformat": 4,
 "nbformat_minor": 5
}
